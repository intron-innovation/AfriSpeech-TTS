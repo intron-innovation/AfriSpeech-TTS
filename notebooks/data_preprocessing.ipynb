{
 "cells": [
  {
   "cell_type": "code",
   "execution_count": 5,
   "metadata": {},
   "outputs": [],
   "source": [
    "%load_ext autoreload\n",
    "%autoreload 2"
   ]
  },
  {
   "cell_type": "code",
   "execution_count": 6,
   "metadata": {},
   "outputs": [],
   "source": [
    "import os\n",
    "\n",
    "import numpy as np\n",
    "import pandas as pd\n",
    "\n",
    "import librosa\n",
    "import IPython.display as ipd\n",
    "\n",
    "from afritts_text_normalizer import tts_cleaner"
   ]
  },
  {
   "cell_type": "code",
   "execution_count": 7,
   "metadata": {},
   "outputs": [],
   "source": [
    "train = pd.read_csv(\"/srv/storage/talc2@talc-data2.nancy/multispeech/calcul/users/sogun/AfriSpeech-TTS/data/intron-tts-train-public-28565.csv\")\n",
    "dev = pd.read_csv(\"/srv/storage/talc2@talc-data2.nancy/multispeech/calcul/users/sogun/AfriSpeech-TTS/data/intron-tts-dev-public-3330.csv\")\n",
    "test = pd.read_csv(\"/srv/storage/talc2@talc-data2.nancy/multispeech/calcul/users/sogun/AfriSpeech-TTS/data/intron-tts-test-public-4161.csv\")\n",
    "\n",
    "data = pd.concat([train, dev, test])\n",
    "\n",
    "# remove 3 missing files\n",
    "data = data[data.audio_ids != \"24bfceabfa102cc1c1926d2049f56bbf\"]\n",
    "data = data[data.audio_ids != \"790cdbb7907d0112bc737f0b06282dde\"]\n",
    "data = data[data.audio_ids != \"4bffcdb03a445616d70eb1a859ac52a5\"]\n",
    "\n",
    "# Remove utterances with long duration, mostly noisy\n",
    "data = data[data.duration <= 50.0]"
   ]
  },
  {
   "cell_type": "code",
   "execution_count": 8,
   "metadata": {},
   "outputs": [
    {
     "data": {
      "text/plain": [
       "(600, 76, 75)"
      ]
     },
     "execution_count": 8,
     "metadata": {},
     "output_type": "execute_result"
    }
   ],
   "source": [
    "train.user_ids.nunique(), dev.user_ids.nunique(), test.user_ids.nunique()"
   ]
  },
  {
   "cell_type": "code",
   "execution_count": 9,
   "metadata": {},
   "outputs": [
    {
     "data": {
      "text/plain": [
       "(751, 133.57965694444445)"
      ]
     },
     "execution_count": 9,
     "metadata": {},
     "output_type": "execute_result"
    }
   ],
   "source": [
    "data.user_ids.nunique(), data.duration.sum()/3600  # 751 speaker, 135 hours"
   ]
  },
  {
   "cell_type": "code",
   "execution_count": 10,
   "metadata": {},
   "outputs": [],
   "source": [
    "# data[data.duration > 50.0].duration.sum() / 3600"
   ]
  },
  {
   "cell_type": "code",
   "execution_count": 11,
   "metadata": {},
   "outputs": [
    {
     "data": {
      "text/plain": [
       "(35995, 35995)"
      ]
     },
     "execution_count": 11,
     "metadata": {},
     "output_type": "execute_result"
    }
   ],
   "source": [
    "len(data), data.audio_ids.nunique()"
   ]
  },
  {
   "cell_type": "code",
   "execution_count": 12,
   "metadata": {},
   "outputs": [],
   "source": [
    "# percentage of utterances with numbers\n",
    "\n",
    "import re\n",
    "def has_numbers(inputString):\n",
    "    return bool(re.search(r'\\d', inputString))\n",
    "\n",
    "data[\"is_alnum\"] = data.transcript.apply(lambda x: has_numbers(x))"
   ]
  },
  {
   "cell_type": "code",
   "execution_count": 13,
   "metadata": {},
   "outputs": [
    {
     "data": {
      "text/plain": [
       "41.340895"
      ]
     },
     "execution_count": 13,
     "metadata": {},
     "output_type": "execute_result"
    }
   ],
   "source": [
    "data[data.is_alnum == True].duration.sum() / 3600 # 42 hours contain numbers, ~ 40%"
   ]
  },
  {
   "cell_type": "code",
   "execution_count": null,
   "metadata": {},
   "outputs": [],
   "source": []
  },
  {
   "cell_type": "code",
   "execution_count": 14,
   "metadata": {},
   "outputs": [
    {
     "data": {
      "text/html": [
       "<div>\n",
       "<style scoped>\n",
       "    .dataframe tbody tr th:only-of-type {\n",
       "        vertical-align: middle;\n",
       "    }\n",
       "\n",
       "    .dataframe tbody tr th {\n",
       "        vertical-align: top;\n",
       "    }\n",
       "\n",
       "    .dataframe thead th {\n",
       "        text-align: right;\n",
       "    }\n",
       "</style>\n",
       "<table border=\"1\" class=\"dataframe\">\n",
       "  <thead>\n",
       "    <tr style=\"text-align: right;\">\n",
       "      <th></th>\n",
       "      <th>user_ids</th>\n",
       "      <th>duration</th>\n",
       "    </tr>\n",
       "  </thead>\n",
       "  <tbody>\n",
       "    <tr>\n",
       "      <th>0</th>\n",
       "      <td>2db35217e91d8889c6f6f4bdee66a52f</td>\n",
       "      <td>5002.340</td>\n",
       "    </tr>\n",
       "    <tr>\n",
       "      <th>1</th>\n",
       "      <td>73f971bbef38880a86ac97680ab5a7f8</td>\n",
       "      <td>4929.179</td>\n",
       "    </tr>\n",
       "    <tr>\n",
       "      <th>2</th>\n",
       "      <td>6b5cd67595796bf5489893b69755f43f</td>\n",
       "      <td>4834.860</td>\n",
       "    </tr>\n",
       "    <tr>\n",
       "      <th>3</th>\n",
       "      <td>1269ac57cb62784a2abeec0b904ed615</td>\n",
       "      <td>4796.768</td>\n",
       "    </tr>\n",
       "    <tr>\n",
       "      <th>4</th>\n",
       "      <td>b883f5d99b7dfc05fc7bbeca0f926e9f</td>\n",
       "      <td>4675.044</td>\n",
       "    </tr>\n",
       "    <tr>\n",
       "      <th>5</th>\n",
       "      <td>f5a8238265acd295b474e3b67cde1dd5</td>\n",
       "      <td>4665.078</td>\n",
       "    </tr>\n",
       "    <tr>\n",
       "      <th>6</th>\n",
       "      <td>96ca0f339408b47bbed4b4ed6fdc4460</td>\n",
       "      <td>4570.077</td>\n",
       "    </tr>\n",
       "    <tr>\n",
       "      <th>7</th>\n",
       "      <td>a35a75f5541bce9a15063660e1028215</td>\n",
       "      <td>4506.899</td>\n",
       "    </tr>\n",
       "    <tr>\n",
       "      <th>8</th>\n",
       "      <td>2a477d9f7d285736be740fe77180b9c0</td>\n",
       "      <td>4197.769</td>\n",
       "    </tr>\n",
       "    <tr>\n",
       "      <th>9</th>\n",
       "      <td>bef1fe43fb65dfc614c001baeef2a381</td>\n",
       "      <td>4123.003</td>\n",
       "    </tr>\n",
       "    <tr>\n",
       "      <th>10</th>\n",
       "      <td>8834b9c6201b1afedbac3d297b91d211</td>\n",
       "      <td>4097.826</td>\n",
       "    </tr>\n",
       "    <tr>\n",
       "      <th>11</th>\n",
       "      <td>25c634a683206e8f57c4749213f5a1c1</td>\n",
       "      <td>3827.559</td>\n",
       "    </tr>\n",
       "    <tr>\n",
       "      <th>12</th>\n",
       "      <td>44dd9acf1c27f9e08fe0bf7982bbb041</td>\n",
       "      <td>3823.511</td>\n",
       "    </tr>\n",
       "    <tr>\n",
       "      <th>13</th>\n",
       "      <td>6aac11553f4b81a9aaeca0825129d11a</td>\n",
       "      <td>3474.562</td>\n",
       "    </tr>\n",
       "    <tr>\n",
       "      <th>14</th>\n",
       "      <td>9540d43e4c3f864865b38a9444df26f6</td>\n",
       "      <td>3405.511</td>\n",
       "    </tr>\n",
       "    <tr>\n",
       "      <th>15</th>\n",
       "      <td>02c01580e0fae36d6042ec3b87bdd04d</td>\n",
       "      <td>3246.205</td>\n",
       "    </tr>\n",
       "    <tr>\n",
       "      <th>16</th>\n",
       "      <td>56e4a69bae977b76fd6d1cb97fa82b55</td>\n",
       "      <td>3122.543</td>\n",
       "    </tr>\n",
       "    <tr>\n",
       "      <th>17</th>\n",
       "      <td>049d62b93efdc6f4054bb609d78e199b</td>\n",
       "      <td>3047.188</td>\n",
       "    </tr>\n",
       "    <tr>\n",
       "      <th>18</th>\n",
       "      <td>da51b96b5f4c5faf9d31a316fa6c0bd0</td>\n",
       "      <td>3007.084</td>\n",
       "    </tr>\n",
       "    <tr>\n",
       "      <th>19</th>\n",
       "      <td>3693ffc99e3158e17013f84088620a7e</td>\n",
       "      <td>2989.692</td>\n",
       "    </tr>\n",
       "  </tbody>\n",
       "</table>\n",
       "</div>"
      ],
      "text/plain": [
       "                            user_ids  duration\n",
       "0   2db35217e91d8889c6f6f4bdee66a52f  5002.340\n",
       "1   73f971bbef38880a86ac97680ab5a7f8  4929.179\n",
       "2   6b5cd67595796bf5489893b69755f43f  4834.860\n",
       "3   1269ac57cb62784a2abeec0b904ed615  4796.768\n",
       "4   b883f5d99b7dfc05fc7bbeca0f926e9f  4675.044\n",
       "5   f5a8238265acd295b474e3b67cde1dd5  4665.078\n",
       "6   96ca0f339408b47bbed4b4ed6fdc4460  4570.077\n",
       "7   a35a75f5541bce9a15063660e1028215  4506.899\n",
       "8   2a477d9f7d285736be740fe77180b9c0  4197.769\n",
       "9   bef1fe43fb65dfc614c001baeef2a381  4123.003\n",
       "10  8834b9c6201b1afedbac3d297b91d211  4097.826\n",
       "11  25c634a683206e8f57c4749213f5a1c1  3827.559\n",
       "12  44dd9acf1c27f9e08fe0bf7982bbb041  3823.511\n",
       "13  6aac11553f4b81a9aaeca0825129d11a  3474.562\n",
       "14  9540d43e4c3f864865b38a9444df26f6  3405.511\n",
       "15  02c01580e0fae36d6042ec3b87bdd04d  3246.205\n",
       "16  56e4a69bae977b76fd6d1cb97fa82b55  3122.543\n",
       "17  049d62b93efdc6f4054bb609d78e199b  3047.188\n",
       "18  da51b96b5f4c5faf9d31a316fa6c0bd0  3007.084\n",
       "19  3693ffc99e3158e17013f84088620a7e  2989.692"
      ]
     },
     "execution_count": 14,
     "metadata": {},
     "output_type": "execute_result"
    }
   ],
   "source": [
    "split = data # train, dev, test\n",
    "speakers = pd.pivot_table(data, values=\"duration\",\n",
    "              columns=[\"user_ids\"], aggfunc=\"sum\").T.reset_index()\n",
    "\n",
    "speakers[\"duration\"] = speakers[\"duration\"]# /3600\n",
    "\n",
    "speakers = speakers.sort_values(\"duration\", ascending=False).reset_index(drop=True)\n",
    "speakers.head(20)"
   ]
  },
  {
   "cell_type": "code",
   "execution_count": 15,
   "metadata": {},
   "outputs": [
    {
     "data": {
      "text/html": [
       "<div>\n",
       "<style scoped>\n",
       "    .dataframe tbody tr th:only-of-type {\n",
       "        vertical-align: middle;\n",
       "    }\n",
       "\n",
       "    .dataframe tbody tr th {\n",
       "        vertical-align: top;\n",
       "    }\n",
       "\n",
       "    .dataframe thead th {\n",
       "        text-align: right;\n",
       "    }\n",
       "</style>\n",
       "<table border=\"1\" class=\"dataframe\">\n",
       "  <thead>\n",
       "    <tr style=\"text-align: right;\">\n",
       "      <th></th>\n",
       "      <th>user_ids</th>\n",
       "      <th>duration</th>\n",
       "    </tr>\n",
       "  </thead>\n",
       "  <tbody>\n",
       "    <tr>\n",
       "      <th>741</th>\n",
       "      <td>b545a4ca235a7b72688a1c0b3eb6bde6</td>\n",
       "      <td>8.181</td>\n",
       "    </tr>\n",
       "    <tr>\n",
       "      <th>742</th>\n",
       "      <td>2493cba45cdf00e461b67e78d518a910</td>\n",
       "      <td>7.706</td>\n",
       "    </tr>\n",
       "    <tr>\n",
       "      <th>743</th>\n",
       "      <td>633ea93e9a3eb22f92e6c522c11f1f52</td>\n",
       "      <td>7.559</td>\n",
       "    </tr>\n",
       "    <tr>\n",
       "      <th>744</th>\n",
       "      <td>df4a2d9487db6e98bf0d8825220f9bf4</td>\n",
       "      <td>7.391</td>\n",
       "    </tr>\n",
       "    <tr>\n",
       "      <th>745</th>\n",
       "      <td>ce339a60ecffc5a72db4bd2489d206cc</td>\n",
       "      <td>7.379</td>\n",
       "    </tr>\n",
       "    <tr>\n",
       "      <th>746</th>\n",
       "      <td>1a1b8d8aace7c96a29d6b32d74ed90fd</td>\n",
       "      <td>7.311</td>\n",
       "    </tr>\n",
       "    <tr>\n",
       "      <th>747</th>\n",
       "      <td>2bb382f192f6a57300bdb0ef6fbd8ad3</td>\n",
       "      <td>7.077</td>\n",
       "    </tr>\n",
       "    <tr>\n",
       "      <th>748</th>\n",
       "      <td>eb5df6c57ad707440696d8478e655d78</td>\n",
       "      <td>6.603</td>\n",
       "    </tr>\n",
       "    <tr>\n",
       "      <th>749</th>\n",
       "      <td>c73de2fe9d445a8d192c5aac49a0e0bb</td>\n",
       "      <td>5.773</td>\n",
       "    </tr>\n",
       "    <tr>\n",
       "      <th>750</th>\n",
       "      <td>6b76a3d99dd1fe093782ef197cb92816</td>\n",
       "      <td>5.035</td>\n",
       "    </tr>\n",
       "  </tbody>\n",
       "</table>\n",
       "</div>"
      ],
      "text/plain": [
       "                             user_ids  duration\n",
       "741  b545a4ca235a7b72688a1c0b3eb6bde6     8.181\n",
       "742  2493cba45cdf00e461b67e78d518a910     7.706\n",
       "743  633ea93e9a3eb22f92e6c522c11f1f52     7.559\n",
       "744  df4a2d9487db6e98bf0d8825220f9bf4     7.391\n",
       "745  ce339a60ecffc5a72db4bd2489d206cc     7.379\n",
       "746  1a1b8d8aace7c96a29d6b32d74ed90fd     7.311\n",
       "747  2bb382f192f6a57300bdb0ef6fbd8ad3     7.077\n",
       "748  eb5df6c57ad707440696d8478e655d78     6.603\n",
       "749  c73de2fe9d445a8d192c5aac49a0e0bb     5.773\n",
       "750  6b76a3d99dd1fe093782ef197cb92816     5.035"
      ]
     },
     "execution_count": 15,
     "metadata": {},
     "output_type": "execute_result"
    }
   ],
   "source": [
    "speakers.tail(10)"
   ]
  },
  {
   "cell_type": "code",
   "execution_count": 24,
   "metadata": {},
   "outputs": [],
   "source": [
    "speakers_dict = {}\n",
    "for i, item in speakers.iterrows():\n",
    "    speakers_dict[item.user_ids] = item.duration"
   ]
  },
  {
   "cell_type": "code",
   "execution_count": 16,
   "metadata": {},
   "outputs": [],
   "source": [
    "accents = pd.pivot_table(data, values=\"duration\",\n",
    "              columns=[\"accent\"], aggfunc=\"sum\").T.reset_index()\n",
    "accents[\"duration\"] = accents[\"duration\"]\n",
    "accents = accents.sort_values(\"duration\", ascending=False).reset_index(drop=True)"
   ]
  },
  {
   "cell_type": "code",
   "execution_count": 17,
   "metadata": {},
   "outputs": [
    {
     "data": {
      "text/html": [
       "<div>\n",
       "<style scoped>\n",
       "    .dataframe tbody tr th:only-of-type {\n",
       "        vertical-align: middle;\n",
       "    }\n",
       "\n",
       "    .dataframe tbody tr th {\n",
       "        vertical-align: top;\n",
       "    }\n",
       "\n",
       "    .dataframe thead th {\n",
       "        text-align: right;\n",
       "    }\n",
       "</style>\n",
       "<table border=\"1\" class=\"dataframe\">\n",
       "  <thead>\n",
       "    <tr style=\"text-align: right;\">\n",
       "      <th></th>\n",
       "      <th>accent</th>\n",
       "      <th>duration</th>\n",
       "    </tr>\n",
       "  </thead>\n",
       "  <tbody>\n",
       "    <tr>\n",
       "      <th>0</th>\n",
       "      <td>Yoruba</td>\n",
       "      <td>113126.218</td>\n",
       "    </tr>\n",
       "    <tr>\n",
       "      <th>1</th>\n",
       "      <td>Hausa</td>\n",
       "      <td>110536.472</td>\n",
       "    </tr>\n",
       "    <tr>\n",
       "      <th>2</th>\n",
       "      <td>Unknown</td>\n",
       "      <td>36896.805</td>\n",
       "    </tr>\n",
       "    <tr>\n",
       "      <th>3</th>\n",
       "      <td>Swahili</td>\n",
       "      <td>36781.011</td>\n",
       "    </tr>\n",
       "    <tr>\n",
       "      <th>4</th>\n",
       "      <td>Igbo</td>\n",
       "      <td>28398.575</td>\n",
       "    </tr>\n",
       "    <tr>\n",
       "      <th>5</th>\n",
       "      <td>Zulu</td>\n",
       "      <td>23158.020</td>\n",
       "    </tr>\n",
       "    <tr>\n",
       "      <th>6</th>\n",
       "      <td>Ijaw</td>\n",
       "      <td>17126.945</td>\n",
       "    </tr>\n",
       "    <tr>\n",
       "      <th>7</th>\n",
       "      <td>Idoma</td>\n",
       "      <td>10673.228</td>\n",
       "    </tr>\n",
       "    <tr>\n",
       "      <th>8</th>\n",
       "      <td>Igala</td>\n",
       "      <td>9229.985</td>\n",
       "    </tr>\n",
       "    <tr>\n",
       "      <th>9</th>\n",
       "      <td>Afrikaans</td>\n",
       "      <td>7482.533</td>\n",
       "    </tr>\n",
       "  </tbody>\n",
       "</table>\n",
       "</div>"
      ],
      "text/plain": [
       "      accent    duration\n",
       "0     Yoruba  113126.218\n",
       "1      Hausa  110536.472\n",
       "2    Unknown   36896.805\n",
       "3    Swahili   36781.011\n",
       "4       Igbo   28398.575\n",
       "5       Zulu   23158.020\n",
       "6       Ijaw   17126.945\n",
       "7      Idoma   10673.228\n",
       "8      Igala    9229.985\n",
       "9  Afrikaans    7482.533"
      ]
     },
     "execution_count": 17,
     "metadata": {},
     "output_type": "execute_result"
    }
   ],
   "source": [
    "accents.head(10) # don't forget to drop unknown accent"
   ]
  },
  {
   "cell_type": "code",
   "execution_count": 18,
   "metadata": {},
   "outputs": [
    {
     "data": {
      "text/html": [
       "<div>\n",
       "<style scoped>\n",
       "    .dataframe tbody tr th:only-of-type {\n",
       "        vertical-align: middle;\n",
       "    }\n",
       "\n",
       "    .dataframe tbody tr th {\n",
       "        vertical-align: top;\n",
       "    }\n",
       "\n",
       "    .dataframe thead th {\n",
       "        text-align: right;\n",
       "    }\n",
       "</style>\n",
       "<table border=\"1\" class=\"dataframe\">\n",
       "  <thead>\n",
       "    <tr style=\"text-align: right;\">\n",
       "      <th></th>\n",
       "      <th>accent</th>\n",
       "      <th>duration</th>\n",
       "    </tr>\n",
       "  </thead>\n",
       "  <tbody>\n",
       "    <tr>\n",
       "      <th>60</th>\n",
       "      <td>Bajju</td>\n",
       "      <td>182.389</td>\n",
       "    </tr>\n",
       "    <tr>\n",
       "      <th>61</th>\n",
       "      <td>Tula</td>\n",
       "      <td>167.667</td>\n",
       "    </tr>\n",
       "    <tr>\n",
       "      <th>62</th>\n",
       "      <td>Dera</td>\n",
       "      <td>166.638</td>\n",
       "    </tr>\n",
       "    <tr>\n",
       "      <th>63</th>\n",
       "      <td>Chichewa</td>\n",
       "      <td>149.858</td>\n",
       "    </tr>\n",
       "    <tr>\n",
       "      <th>64</th>\n",
       "      <td>Tsonga</td>\n",
       "      <td>124.148</td>\n",
       "    </tr>\n",
       "    <tr>\n",
       "      <th>65</th>\n",
       "      <td>Ogbia</td>\n",
       "      <td>78.476</td>\n",
       "    </tr>\n",
       "    <tr>\n",
       "      <th>66</th>\n",
       "      <td>Swati</td>\n",
       "      <td>77.642</td>\n",
       "    </tr>\n",
       "    <tr>\n",
       "      <th>67</th>\n",
       "      <td>Otjiherero</td>\n",
       "      <td>61.700</td>\n",
       "    </tr>\n",
       "    <tr>\n",
       "      <th>68</th>\n",
       "      <td>Ikulu</td>\n",
       "      <td>54.912</td>\n",
       "    </tr>\n",
       "    <tr>\n",
       "      <th>69</th>\n",
       "      <td>Lunguda</td>\n",
       "      <td>42.362</td>\n",
       "    </tr>\n",
       "    <tr>\n",
       "      <th>70</th>\n",
       "      <td>Ogba</td>\n",
       "      <td>34.218</td>\n",
       "    </tr>\n",
       "    <tr>\n",
       "      <th>71</th>\n",
       "      <td>Hausa, Fulani</td>\n",
       "      <td>33.247</td>\n",
       "    </tr>\n",
       "    <tr>\n",
       "      <th>72</th>\n",
       "      <td>Anaang</td>\n",
       "      <td>31.140</td>\n",
       "    </tr>\n",
       "    <tr>\n",
       "      <th>73</th>\n",
       "      <td>Portuguese</td>\n",
       "      <td>30.236</td>\n",
       "    </tr>\n",
       "    <tr>\n",
       "      <th>74</th>\n",
       "      <td>Kagoma</td>\n",
       "      <td>21.505</td>\n",
       "    </tr>\n",
       "    <tr>\n",
       "      <th>75</th>\n",
       "      <td>Kikuyu, Swahili</td>\n",
       "      <td>14.205</td>\n",
       "    </tr>\n",
       "    <tr>\n",
       "      <th>76</th>\n",
       "      <td>Obolo</td>\n",
       "      <td>12.569</td>\n",
       "    </tr>\n",
       "    <tr>\n",
       "      <th>77</th>\n",
       "      <td>Ika</td>\n",
       "      <td>12.237</td>\n",
       "    </tr>\n",
       "    <tr>\n",
       "      <th>78</th>\n",
       "      <td>Kubi</td>\n",
       "      <td>10.193</td>\n",
       "    </tr>\n",
       "    <tr>\n",
       "      <th>79</th>\n",
       "      <td>Ogoni</td>\n",
       "      <td>7.559</td>\n",
       "    </tr>\n",
       "  </tbody>\n",
       "</table>\n",
       "</div>"
      ],
      "text/plain": [
       "             accent  duration\n",
       "60            Bajju   182.389\n",
       "61             Tula   167.667\n",
       "62             Dera   166.638\n",
       "63         Chichewa   149.858\n",
       "64           Tsonga   124.148\n",
       "65            Ogbia    78.476\n",
       "66            Swati    77.642\n",
       "67       Otjiherero    61.700\n",
       "68            Ikulu    54.912\n",
       "69          Lunguda    42.362\n",
       "70             Ogba    34.218\n",
       "71    Hausa, Fulani    33.247\n",
       "72           Anaang    31.140\n",
       "73       Portuguese    30.236\n",
       "74           Kagoma    21.505\n",
       "75  Kikuyu, Swahili    14.205\n",
       "76            Obolo    12.569\n",
       "77              Ika    12.237\n",
       "78             Kubi    10.193\n",
       "79            Ogoni     7.559"
      ]
     },
     "execution_count": 18,
     "metadata": {},
     "output_type": "execute_result"
    }
   ],
   "source": [
    "accents.tail(20)"
   ]
  },
  {
   "cell_type": "code",
   "execution_count": 19,
   "metadata": {},
   "outputs": [
    {
     "data": {
      "text/html": [
       "<div>\n",
       "<style scoped>\n",
       "    .dataframe tbody tr th:only-of-type {\n",
       "        vertical-align: middle;\n",
       "    }\n",
       "\n",
       "    .dataframe tbody tr th {\n",
       "        vertical-align: top;\n",
       "    }\n",
       "\n",
       "    .dataframe thead th {\n",
       "        text-align: right;\n",
       "    }\n",
       "</style>\n",
       "<table border=\"1\" class=\"dataframe\">\n",
       "  <thead>\n",
       "    <tr style=\"text-align: right;\">\n",
       "      <th></th>\n",
       "      <th>country</th>\n",
       "      <th>accent</th>\n",
       "      <th>gender</th>\n",
       "      <th>duration</th>\n",
       "    </tr>\n",
       "  </thead>\n",
       "  <tbody>\n",
       "    <tr>\n",
       "      <th>0</th>\n",
       "      <td>NG</td>\n",
       "      <td>Yoruba</td>\n",
       "      <td>Male</td>\n",
       "      <td>63328.080</td>\n",
       "    </tr>\n",
       "    <tr>\n",
       "      <th>1</th>\n",
       "      <td>NG</td>\n",
       "      <td>Hausa</td>\n",
       "      <td>Male</td>\n",
       "      <td>57076.143</td>\n",
       "    </tr>\n",
       "    <tr>\n",
       "      <th>2</th>\n",
       "      <td>NG</td>\n",
       "      <td>Hausa</td>\n",
       "      <td>Female</td>\n",
       "      <td>53003.214</td>\n",
       "    </tr>\n",
       "    <tr>\n",
       "      <th>3</th>\n",
       "      <td>NG</td>\n",
       "      <td>Yoruba</td>\n",
       "      <td>Female</td>\n",
       "      <td>49789.957</td>\n",
       "    </tr>\n",
       "    <tr>\n",
       "      <th>4</th>\n",
       "      <td>KE</td>\n",
       "      <td>Swahili</td>\n",
       "      <td>Female</td>\n",
       "      <td>23695.523</td>\n",
       "    </tr>\n",
       "    <tr>\n",
       "      <th>5</th>\n",
       "      <td>ZA</td>\n",
       "      <td>Zulu</td>\n",
       "      <td>Female</td>\n",
       "      <td>22767.538</td>\n",
       "    </tr>\n",
       "    <tr>\n",
       "      <th>6</th>\n",
       "      <td>NG</td>\n",
       "      <td>Igbo</td>\n",
       "      <td>Female</td>\n",
       "      <td>17832.832</td>\n",
       "    </tr>\n",
       "    <tr>\n",
       "      <th>7</th>\n",
       "      <td>NG</td>\n",
       "      <td>Ijaw</td>\n",
       "      <td>Male</td>\n",
       "      <td>11829.030</td>\n",
       "    </tr>\n",
       "    <tr>\n",
       "      <th>8</th>\n",
       "      <td>KE</td>\n",
       "      <td>Unknown</td>\n",
       "      <td>Female</td>\n",
       "      <td>10855.926</td>\n",
       "    </tr>\n",
       "    <tr>\n",
       "      <th>9</th>\n",
       "      <td>NG</td>\n",
       "      <td>Igbo</td>\n",
       "      <td>Male</td>\n",
       "      <td>10565.743</td>\n",
       "    </tr>\n",
       "    <tr>\n",
       "      <th>10</th>\n",
       "      <td>NG</td>\n",
       "      <td>Unknown</td>\n",
       "      <td>Female</td>\n",
       "      <td>8449.026</td>\n",
       "    </tr>\n",
       "    <tr>\n",
       "      <th>11</th>\n",
       "      <td>KE</td>\n",
       "      <td>Swahili</td>\n",
       "      <td>Male</td>\n",
       "      <td>8420.410</td>\n",
       "    </tr>\n",
       "    <tr>\n",
       "      <th>12</th>\n",
       "      <td>ZA</td>\n",
       "      <td>Afrikaans</td>\n",
       "      <td>Female</td>\n",
       "      <td>7310.964</td>\n",
       "    </tr>\n",
       "    <tr>\n",
       "      <th>13</th>\n",
       "      <td>NG</td>\n",
       "      <td>Igala</td>\n",
       "      <td>Male</td>\n",
       "      <td>6925.698</td>\n",
       "    </tr>\n",
       "    <tr>\n",
       "      <th>14</th>\n",
       "      <td>NG</td>\n",
       "      <td>Unknown</td>\n",
       "      <td>Male</td>\n",
       "      <td>6784.359</td>\n",
       "    </tr>\n",
       "    <tr>\n",
       "      <th>15</th>\n",
       "      <td>NG</td>\n",
       "      <td>Idoma</td>\n",
       "      <td>Male</td>\n",
       "      <td>5879.755</td>\n",
       "    </tr>\n",
       "    <tr>\n",
       "      <th>16</th>\n",
       "      <td>ZA</td>\n",
       "      <td>Tswana</td>\n",
       "      <td>Female</td>\n",
       "      <td>5706.579</td>\n",
       "    </tr>\n",
       "    <tr>\n",
       "      <th>17</th>\n",
       "      <td>KE</td>\n",
       "      <td>Unknown</td>\n",
       "      <td>Male</td>\n",
       "      <td>5417.069</td>\n",
       "    </tr>\n",
       "    <tr>\n",
       "      <th>18</th>\n",
       "      <td>NG</td>\n",
       "      <td>Ijaw</td>\n",
       "      <td>Female</td>\n",
       "      <td>5297.915</td>\n",
       "    </tr>\n",
       "    <tr>\n",
       "      <th>19</th>\n",
       "      <td>ZA</td>\n",
       "      <td>Unknown</td>\n",
       "      <td>Female</td>\n",
       "      <td>4818.319</td>\n",
       "    </tr>\n",
       "  </tbody>\n",
       "</table>\n",
       "</div>"
      ],
      "text/plain": [
       "   country     accent  gender   duration\n",
       "0       NG     Yoruba    Male  63328.080\n",
       "1       NG      Hausa    Male  57076.143\n",
       "2       NG      Hausa  Female  53003.214\n",
       "3       NG     Yoruba  Female  49789.957\n",
       "4       KE    Swahili  Female  23695.523\n",
       "5       ZA       Zulu  Female  22767.538\n",
       "6       NG       Igbo  Female  17832.832\n",
       "7       NG       Ijaw    Male  11829.030\n",
       "8       KE    Unknown  Female  10855.926\n",
       "9       NG       Igbo    Male  10565.743\n",
       "10      NG    Unknown  Female   8449.026\n",
       "11      KE    Swahili    Male   8420.410\n",
       "12      ZA  Afrikaans  Female   7310.964\n",
       "13      NG      Igala    Male   6925.698\n",
       "14      NG    Unknown    Male   6784.359\n",
       "15      NG      Idoma    Male   5879.755\n",
       "16      ZA     Tswana  Female   5706.579\n",
       "17      KE    Unknown    Male   5417.069\n",
       "18      NG       Ijaw  Female   5297.915\n",
       "19      ZA    Unknown  Female   4818.319"
      ]
     },
     "execution_count": 19,
     "metadata": {},
     "output_type": "execute_result"
    }
   ],
   "source": [
    "split = data # train, dev, test\n",
    "speakers2 = pd.pivot_table(data, values=\"duration\",\n",
    "              columns=[\"country\", \"accent\", \"gender\"], aggfunc=\"sum\").T.reset_index()\n",
    "\n",
    "speakers2[\"duration\"] = speakers2[\"duration\"]# /3600\n",
    "\n",
    "speakers2 = speakers2.sort_values(\"duration\", ascending=False).reset_index(drop=True)\n",
    "speakers2.head(20)"
   ]
  },
  {
   "cell_type": "code",
   "execution_count": 20,
   "metadata": {},
   "outputs": [
    {
     "data": {
      "text/html": [
       "<div>\n",
       "<style scoped>\n",
       "    .dataframe tbody tr th:only-of-type {\n",
       "        vertical-align: middle;\n",
       "    }\n",
       "\n",
       "    .dataframe tbody tr th {\n",
       "        vertical-align: top;\n",
       "    }\n",
       "\n",
       "    .dataframe thead th {\n",
       "        text-align: right;\n",
       "    }\n",
       "</style>\n",
       "<table border=\"1\" class=\"dataframe\">\n",
       "  <thead>\n",
       "    <tr style=\"text-align: right;\">\n",
       "      <th></th>\n",
       "      <th>country</th>\n",
       "      <th>accent</th>\n",
       "      <th>gender</th>\n",
       "      <th>duration</th>\n",
       "    </tr>\n",
       "  </thead>\n",
       "  <tbody>\n",
       "    <tr>\n",
       "      <th>101</th>\n",
       "      <td>NG</td>\n",
       "      <td>Ikulu</td>\n",
       "      <td>Female</td>\n",
       "      <td>54.912</td>\n",
       "    </tr>\n",
       "    <tr>\n",
       "      <th>102</th>\n",
       "      <td>NG</td>\n",
       "      <td>Pidgin</td>\n",
       "      <td>Female</td>\n",
       "      <td>53.226</td>\n",
       "    </tr>\n",
       "    <tr>\n",
       "      <th>103</th>\n",
       "      <td>KE</td>\n",
       "      <td>Kikuyu</td>\n",
       "      <td>Female</td>\n",
       "      <td>51.627</td>\n",
       "    </tr>\n",
       "    <tr>\n",
       "      <th>104</th>\n",
       "      <td>UG</td>\n",
       "      <td>Luganda</td>\n",
       "      <td>Female</td>\n",
       "      <td>42.840</td>\n",
       "    </tr>\n",
       "    <tr>\n",
       "      <th>105</th>\n",
       "      <td>NG</td>\n",
       "      <td>Lunguda</td>\n",
       "      <td>Male</td>\n",
       "      <td>42.362</td>\n",
       "    </tr>\n",
       "    <tr>\n",
       "      <th>106</th>\n",
       "      <td>NG</td>\n",
       "      <td>Etsako</td>\n",
       "      <td>Female</td>\n",
       "      <td>34.521</td>\n",
       "    </tr>\n",
       "    <tr>\n",
       "      <th>107</th>\n",
       "      <td>NG</td>\n",
       "      <td>Ogba</td>\n",
       "      <td>Female</td>\n",
       "      <td>34.218</td>\n",
       "    </tr>\n",
       "    <tr>\n",
       "      <th>108</th>\n",
       "      <td>NG</td>\n",
       "      <td>Hausa, Fulani</td>\n",
       "      <td>Male</td>\n",
       "      <td>33.247</td>\n",
       "    </tr>\n",
       "    <tr>\n",
       "      <th>109</th>\n",
       "      <td>NG</td>\n",
       "      <td>Anaang</td>\n",
       "      <td>Male</td>\n",
       "      <td>31.140</td>\n",
       "    </tr>\n",
       "    <tr>\n",
       "      <th>110</th>\n",
       "      <td>ZA</td>\n",
       "      <td>Portuguese</td>\n",
       "      <td>Male</td>\n",
       "      <td>30.236</td>\n",
       "    </tr>\n",
       "    <tr>\n",
       "      <th>111</th>\n",
       "      <td>ZA</td>\n",
       "      <td>Shona</td>\n",
       "      <td>Male</td>\n",
       "      <td>26.056</td>\n",
       "    </tr>\n",
       "    <tr>\n",
       "      <th>112</th>\n",
       "      <td>NG</td>\n",
       "      <td>Kagoma</td>\n",
       "      <td>Male</td>\n",
       "      <td>21.505</td>\n",
       "    </tr>\n",
       "    <tr>\n",
       "      <th>113</th>\n",
       "      <td>KE</td>\n",
       "      <td>Kikuyu, Swahili</td>\n",
       "      <td>Female</td>\n",
       "      <td>14.205</td>\n",
       "    </tr>\n",
       "    <tr>\n",
       "      <th>114</th>\n",
       "      <td>NG</td>\n",
       "      <td>Obolo</td>\n",
       "      <td>Female</td>\n",
       "      <td>12.569</td>\n",
       "    </tr>\n",
       "    <tr>\n",
       "      <th>115</th>\n",
       "      <td>NG</td>\n",
       "      <td>Ika</td>\n",
       "      <td>Female</td>\n",
       "      <td>12.237</td>\n",
       "    </tr>\n",
       "    <tr>\n",
       "      <th>116</th>\n",
       "      <td>ZA</td>\n",
       "      <td>Unknown</td>\n",
       "      <td>Male</td>\n",
       "      <td>11.437</td>\n",
       "    </tr>\n",
       "    <tr>\n",
       "      <th>117</th>\n",
       "      <td>NG</td>\n",
       "      <td>Kubi</td>\n",
       "      <td>Female</td>\n",
       "      <td>10.193</td>\n",
       "    </tr>\n",
       "    <tr>\n",
       "      <th>118</th>\n",
       "      <td>US</td>\n",
       "      <td>Yoruba</td>\n",
       "      <td>Male</td>\n",
       "      <td>8.181</td>\n",
       "    </tr>\n",
       "    <tr>\n",
       "      <th>119</th>\n",
       "      <td>ZA</td>\n",
       "      <td>Ndebele</td>\n",
       "      <td>Male</td>\n",
       "      <td>7.706</td>\n",
       "    </tr>\n",
       "    <tr>\n",
       "      <th>120</th>\n",
       "      <td>NG</td>\n",
       "      <td>Ogoni</td>\n",
       "      <td>Male</td>\n",
       "      <td>7.559</td>\n",
       "    </tr>\n",
       "  </tbody>\n",
       "</table>\n",
       "</div>"
      ],
      "text/plain": [
       "    country           accent  gender  duration\n",
       "101      NG            Ikulu  Female    54.912\n",
       "102      NG           Pidgin  Female    53.226\n",
       "103      KE           Kikuyu  Female    51.627\n",
       "104      UG          Luganda  Female    42.840\n",
       "105      NG          Lunguda    Male    42.362\n",
       "106      NG           Etsako  Female    34.521\n",
       "107      NG             Ogba  Female    34.218\n",
       "108      NG    Hausa, Fulani    Male    33.247\n",
       "109      NG           Anaang    Male    31.140\n",
       "110      ZA       Portuguese    Male    30.236\n",
       "111      ZA            Shona    Male    26.056\n",
       "112      NG           Kagoma    Male    21.505\n",
       "113      KE  Kikuyu, Swahili  Female    14.205\n",
       "114      NG            Obolo  Female    12.569\n",
       "115      NG              Ika  Female    12.237\n",
       "116      ZA          Unknown    Male    11.437\n",
       "117      NG             Kubi  Female    10.193\n",
       "118      US           Yoruba    Male     8.181\n",
       "119      ZA          Ndebele    Male     7.706\n",
       "120      NG            Ogoni    Male     7.559"
      ]
     },
     "execution_count": 20,
     "metadata": {},
     "output_type": "execute_result"
    }
   ],
   "source": [
    "speakers2.tail(20)"
   ]
  },
  {
   "cell_type": "code",
   "execution_count": 21,
   "metadata": {},
   "outputs": [],
   "source": [
    "# Test set: 4 speakers with 4 different accents\n",
    "test_data_unseen = data[data.accent.isin([\"Swati\", \"Portuguese\", \"Ogbia\", \"Lunguda\"])]"
   ]
  },
  {
   "cell_type": "code",
   "execution_count": 38,
   "metadata": {},
   "outputs": [
    {
     "data": {
      "text/plain": [
       "16"
      ]
     },
     "execution_count": 38,
     "metadata": {},
     "output_type": "execute_result"
    }
   ],
   "source": [
    "len(test_data_unseen)"
   ]
  },
  {
   "cell_type": "code",
   "execution_count": 23,
   "metadata": {},
   "outputs": [],
   "source": [
    "data = data[~data.accent.isin([\"Swati\", \"Portuguese\", \"Ogbia\", \"Lunguda\"])]\n",
    "\n",
    "data[\"user_ids_num\"] = pd.factorize(data[\"user_ids\"])[0]"
   ]
  },
  {
   "cell_type": "code",
   "execution_count": null,
   "metadata": {},
   "outputs": [],
   "source": []
  },
  {
   "cell_type": "code",
   "execution_count": 31,
   "metadata": {},
   "outputs": [],
   "source": [
    "# select 2 utterances per user_id as test set\n",
    "from collections import defaultdict\n",
    "\n",
    "# shuffle\n",
    "data_sh = data.sample(frac=1, random_state=0).reset_index(drop=True)\n",
    "\n",
    "user_id_map = defaultdict(int)\n",
    "test_data_seen = []\n",
    "train_val_data_seen = []\n",
    "\n",
    "for i, item in data_sh.iterrows():\n",
    "    \n",
    "    # Only test on high speakers\n",
    "    if speakers_dict[item.user_ids] <= 300 or user_id_map[item.user_ids] == 2:\n",
    "        train_val_data_seen.append(item)\n",
    "        continue\n",
    "    \n",
    "    # if item.duration >= 1.0: # speaker embedding need 1 sec for extraction.\n",
    "    test_data_seen.append(item)\n",
    "    user_id_map[item.user_ids]+=1\n",
    "    \n",
    "test_data_seen = pd.DataFrame(test_data_seen)\n",
    "train_val_data_seen = pd.DataFrame(train_val_data_seen)"
   ]
  },
  {
   "cell_type": "code",
   "execution_count": 32,
   "metadata": {},
   "outputs": [
    {
     "data": {
      "text/plain": [
       "(646, 35333, 35979, 35979)"
      ]
     },
     "execution_count": 32,
     "metadata": {},
     "output_type": "execute_result"
    }
   ],
   "source": [
    "len(test_data_seen), len(train_val_data_seen), len(test_data_seen)+len(train_val_data_seen), len(data_sh)\n"
   ]
  },
  {
   "cell_type": "code",
   "execution_count": 33,
   "metadata": {},
   "outputs": [],
   "source": [
    "train_val_data_seen = train_val_data_seen.sample(frac=1, random_state=0).reset_index(drop=True)\n",
    "val = train_val_data_seen[0: 200]\n",
    "train = train_val_data_seen[200: ]"
   ]
  },
  {
   "cell_type": "code",
   "execution_count": 39,
   "metadata": {},
   "outputs": [],
   "source": [
    "test_data_unseen.to_csv(\"/srv/storage/talc2@talc-data2.nancy/multispeech/calcul/users/sogun/AfriSpeech-TTS/data/afritts-test-unseen.csv\", index=False)\n",
    "\n",
    "train.to_csv(\"/srv/storage/talc2@talc-data2.nancy/multispeech/calcul/users/sogun/AfriSpeech-TTS/data/afritts-train.csv\", index=False)\n",
    "val.to_csv(\"/srv/storage/talc2@talc-data2.nancy/multispeech/calcul/users/sogun/AfriSpeech-TTS/data/afritts-dev.csv\", index=False)\n",
    "\n",
    "test_data_seen.to_csv(\"/srv/storage/talc2@talc-data2.nancy/multispeech/calcul/users/sogun/AfriSpeech-TTS/data/afritts-test-seen.csv\", index=False)\n"
   ]
  },
  {
   "cell_type": "markdown",
   "metadata": {},
   "source": [
    "Normalize sentences\n"
   ]
  },
  {
   "cell_type": "code",
   "execution_count": 40,
   "metadata": {},
   "outputs": [
    {
     "name": "stderr",
     "output_type": "stream",
     "text": [
      "[NeMo W 2024-02-20 16:35:14 nemo_logging:349] /tmp/ipykernel_20292/362128996.py:1: SettingWithCopyWarning: \n",
      "    A value is trying to be set on a copy of a slice from a DataFrame.\n",
      "    Try using .loc[row_indexer,col_indexer] = value instead\n",
      "    \n",
      "    See the caveats in the documentation: https://pandas.pydata.org/pandas-docs/stable/user_guide/indexing.html#returning-a-view-versus-a-copy\n",
      "      test_data_unseen[\"transcript\"] = test_data_unseen[\"transcript\"].apply(tts_cleaner)\n",
      "    \n"
     ]
    }
   ],
   "source": [
    "test_data_unseen[\"transcript\"] = test_data_unseen[\"transcript\"].apply(tts_cleaner)\n",
    "\n",
    "# train[\"transcript\"] = train[\"transcript\"].apply(tts_cleaner)\n",
    "# val[\"transcript\"] = val[\"transcript\"].apply(tts_cleaner)\n",
    "# test_data_seen[\"transcript\"] = test_data_seen[\"transcript\"].apply(tts_cleaner)"
   ]
  },
  {
   "cell_type": "code",
   "execution_count": 41,
   "metadata": {},
   "outputs": [],
   "source": [
    "test_data_unseen.to_csv(\"/srv/storage/talc2@talc-data2.nancy/multispeech/calcul/users/sogun/AfriSpeech-TTS/data/afritts-test-unseen-clean.csv\", index=False)\n",
    "\n",
    "# train.to_csv(\"/srv/storage/talc2@talc-data2.nancy/multispeech/calcul/users/sogun/AfriSpeech-TTS/data/afritts-train-clean.csv\", index=False)\n",
    "# val.to_csv(\"/srv/storage/talc2@talc-data2.nancy/multispeech/calcul/users/sogun/AfriSpeech-TTS/data/afritts-dev-clean.csv\", index=False)\n",
    "\n",
    "# test_data_seen.to_csv(\"/srv/storage/talc2@talc-data2.nancy/multispeech/calcul/users/sogun/AfriSpeech-TTS/data/afritts-test-unseen-clean.csv\", index=False)"
   ]
  },
  {
   "cell_type": "code",
   "execution_count": null,
   "metadata": {},
   "outputs": [],
   "source": []
  },
  {
   "cell_type": "code",
   "execution_count": null,
   "metadata": {},
   "outputs": [],
   "source": [
    "# data.to_csv(\"/srv/storage/talc2@talc-data2.nancy/multispeech/calcul/users/sogun/AfriSpeech-TTS/data/temp/intron-tts-all-public-0000\", index=False)"
   ]
  },
  {
   "cell_type": "code",
   "execution_count": null,
   "metadata": {},
   "outputs": [],
   "source": [
    "with open(\"/srv/storage/talc2@talc-data2.nancy/multispeech/calcul/users/sogun/AfriSpeech-TTS/vits/filelists/afritts_audio_train.txt\", \"w+\") as f4:\n",
    "    for i, item in train.iterrows():\n",
    "        print(f\"DUMMY3/{item.audio_ids}.wav|{item.user_ids_num}|{item.sentence}\", file=f4)"
   ]
  },
  {
   "cell_type": "code",
   "execution_count": null,
   "metadata": {},
   "outputs": [],
   "source": [
    "# select 1 sentence per accent per region for objective evaluation\n",
    "\n"
   ]
  },
  {
   "cell_type": "code",
   "execution_count": null,
   "metadata": {},
   "outputs": [],
   "source": [
    "# Test set: 10 speakers seen in training"
   ]
  },
  {
   "cell_type": "code",
   "execution_count": null,
   "metadata": {},
   "outputs": [],
   "source": [
    "speakers.tail(20)"
   ]
  },
  {
   "cell_type": "code",
   "execution_count": null,
   "metadata": {},
   "outputs": [],
   "source": [
    "import librosa\n",
    "import IPython.display as ipd"
   ]
  },
  {
   "cell_type": "code",
   "execution_count": null,
   "metadata": {},
   "outputs": [],
   "source": [
    "data[0:1].audio_paths.values.item()"
   ]
  },
  {
   "cell_type": "code",
   "execution_count": null,
   "metadata": {},
   "outputs": [],
   "source": [
    "data[data.audio_paths == '/AfriSpeech-TTS/train/9b1a7865-4b74-486e-8223-9117e2ea592a/9b1f7d24a96824967ed3a1ae5d3c44cd_OWVB6wln.wav']"
   ]
  },
  {
   "cell_type": "code",
   "execution_count": null,
   "metadata": {},
   "outputs": [],
   "source": [
    "'/srv/storage/talc2@talc-data2.nancy/multispeech/calcul/users/sogun/AfriSpeech-TTS/../AfriSpeech-TTS/train/9b1a7865-4b74-486e-8223-9117e2ea592a/9b1f7d24a96824967ed3a1ae5d3c44cd_OWVB6wln.wav'\n"
   ]
  },
  {
   "cell_type": "code",
   "execution_count": null,
   "metadata": {},
   "outputs": [],
   "source": [
    "filepath = '/srv/storage/talc2@talc-data2.nancy/multispeech/calcul/users/sogun/AfriSpeech-TTS/afrispeech_16k/1e759a52b9a7588771a8d281dd480fce.wav'\n",
    "\n",
    "audio, sr = librosa.load(filepath, sr=16000)\n",
    "\n",
    "ipd.Audio(audio, rate=sr)"
   ]
  },
  {
   "cell_type": "code",
   "execution_count": null,
   "metadata": {},
   "outputs": [],
   "source": [
    "filepath = '/srv/storage/talc2@talc-data2.nancy/multispeech/calcul/users/sogun/AfriSpeech-TTS/train/9b1a7865-4b74-486e-8223-9117e2ea592a/9b1f7d24a96824967ed3a1ae5d3c44cd_OWVB6wln.wav'\n",
    "\n",
    "audio, sr = librosa.load(filepath, sr=16000)\n",
    "\n",
    "ipd.Audio(audio, rate=sr)"
   ]
  },
  {
   "cell_type": "code",
   "execution_count": null,
   "metadata": {},
   "outputs": [],
   "source": [
    "audio.shape"
   ]
  },
  {
   "cell_type": "code",
   "execution_count": null,
   "metadata": {},
   "outputs": [],
   "source": [
    "sr"
   ]
  },
  {
   "cell_type": "code",
   "execution_count": null,
   "metadata": {},
   "outputs": [],
   "source": [
    "from matplotlib import pyplot as plt\n",
    "from matplotlib.pyplot import imshow\n",
    "import librosa.display\n",
    "\n",
    "# parameters\n",
    "n_fft=1024\n",
    "hop_length=256\n",
    "window=\"hann\"\n",
    "# sr=16000\n",
    "n_mels=80\n",
    "fmin=0\n",
    "fmax=8000\n",
    "win_length=n_fft\n",
    "power=1.0\n",
    "n_iter=64\n",
    "\n",
    "def plot_spec(spec, aspect=2):\n",
    "    if spec is not None:\n",
    "        fig = plt.figure()\n",
    "        ax = fig.add_subplot(111)\n",
    "        im = plt.imshow(spec, origin=\"lower\",)\n",
    "        cbar = plt.colorbar(im, ax=ax)\n",
    "        cbar.set_label(\"Colorbar\")\n",
    "        ax.set_aspect(aspect)\n",
    "        plt.show()"
   ]
  },
  {
   "cell_type": "code",
   "execution_count": null,
   "metadata": {},
   "outputs": [],
   "source": [
    "audio.shape"
   ]
  },
  {
   "cell_type": "code",
   "execution_count": null,
   "metadata": {},
   "outputs": [],
   "source": [
    "filepath = '/srv/storage/talc2@talc-data2.nancy/multispeech/calcul/users/sogun/AfriSpeech-TTS/b53792d173f1ac743819e81f240a3a07_ooKIycx6.wav'\n",
    "\n",
    "audio, sr = librosa.load(filepath, sr=16000)\n",
    "\n",
    "ref_mel_spec = librosa.feature.melspectrogram(y=audio, sr=sr, S=None, n_fft=n_fft, \n",
    "                                          hop_length=hop_length, \n",
    "                                          win_length=win_length, \n",
    "                                          window=window, power=power,\n",
    "                                          n_mels=n_mels, fmin=fmin, fmax=fmax,)\n",
    "# vocoder expects a log mel-spectrogram\n",
    "eps = 1e-9\n",
    "ref_log_mel = np.log(ref_mel_spec + eps)"
   ]
  },
  {
   "cell_type": "code",
   "execution_count": null,
   "metadata": {},
   "outputs": [],
   "source": [
    "ipd.Audio(audio, rate=sr)"
   ]
  },
  {
   "cell_type": "code",
   "execution_count": null,
   "metadata": {},
   "outputs": [],
   "source": [
    "plot_spec(ref_log_mel,)"
   ]
  },
  {
   "cell_type": "code",
   "execution_count": null,
   "metadata": {},
   "outputs": [],
   "source": [
    "# denoised\n",
    "filepath = '/srv/storage/talc2@talc-data2.nancy/multispeech/calcul/users/sogun/AfriSpeech-TTS/b53792d173f1ac743819e81f240a3a07_ooKIycx6_dn.wav'\n",
    "\n",
    "audio_dn, sr = librosa.load(filepath)\n",
    "\n",
    "dn_mel_spec = librosa.feature.melspectrogram(y=audio_dn, sr=sr, S=None, n_fft=n_fft, \n",
    "                                          hop_length=hop_length, \n",
    "                                          win_length=win_length, \n",
    "                                          window=window, power=power,\n",
    "                                          n_mels=n_mels, fmin=fmin, fmax=fmax,)\n",
    "# vocoder expects a log mel-spectrogram\n",
    "eps = 1e-9\n",
    "dn_log_mel = np.log(dn_mel_spec + eps)"
   ]
  },
  {
   "cell_type": "code",
   "execution_count": null,
   "metadata": {},
   "outputs": [],
   "source": [
    "ipd.Audio(audio, rate=sr)"
   ]
  },
  {
   "cell_type": "code",
   "execution_count": null,
   "metadata": {},
   "outputs": [],
   "source": [
    "plot_spec(dn_log_mel,2.5)"
   ]
  },
  {
   "cell_type": "code",
   "execution_count": null,
   "metadata": {},
   "outputs": [],
   "source": []
  }
 ],
 "metadata": {
  "kernelspec": {
   "display_name": "Python 3 (ipykernel)",
   "language": "python",
   "name": "python3"
  },
  "language_info": {
   "codemirror_mode": {
    "name": "ipython",
    "version": 3
   },
   "file_extension": ".py",
   "mimetype": "text/x-python",
   "name": "python",
   "nbconvert_exporter": "python",
   "pygments_lexer": "ipython3",
   "version": "3.8.12"
  },
  "vscode": {
   "interpreter": {
    "hash": "31f2aee4e71d21fbe5cf8b01ff0e069b9275f58929596ceb00d14d90e3e16cd6"
   }
  }
 },
 "nbformat": 4,
 "nbformat_minor": 4
}

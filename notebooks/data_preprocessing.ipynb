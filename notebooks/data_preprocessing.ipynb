{
 "cells": [
  {
   "cell_type": "code",
   "execution_count": 1,
   "metadata": {},
   "outputs": [],
   "source": [
    "%load_ext autoreload\n",
    "%autoreload 2"
   ]
  },
  {
   "cell_type": "code",
   "execution_count": 2,
   "metadata": {},
   "outputs": [
    {
     "name": "stderr",
     "output_type": "stream",
     "text": [
      "[NeMo W 2024-03-02 06:31:57 optimizers:56] Apex was not found. Using the lamb or fused_adam optimizer will error out.\n"
     ]
    },
    {
     "name": "stdout",
     "output_type": "stream",
     "text": [
      "[NeMo I 2024-03-02 06:31:59 tokenize_and_classify:87] Creating ClassifyFst grammars.\n"
     ]
    }
   ],
   "source": [
    "import os\n",
    "\n",
    "import numpy as np\n",
    "import pandas as pd\n",
    "\n",
    "import librosa\n",
    "import IPython.display as ipd\n",
    "\n",
    "from afritts_text_normalizer import tts_cleaner"
   ]
  },
  {
   "cell_type": "code",
   "execution_count": 3,
   "metadata": {},
   "outputs": [],
   "source": [
    "dir_path = os.getcwd()"
   ]
  },
  {
   "cell_type": "code",
   "execution_count": 4,
   "metadata": {},
   "outputs": [
    {
     "data": {
      "text/plain": [
       "36056"
      ]
     },
     "execution_count": 4,
     "metadata": {},
     "output_type": "execute_result"
    }
   ],
   "source": [
    "train = pd.read_csv(os.path.join(dir_path, \"..\", \"data/intron-tts-train-public-28565.csv\"))\n",
    "dev = pd.read_csv(os.path.join(dir_path, \"..\", \"data/intron-tts-dev-public-3330.csv\"))\n",
    "test = pd.read_csv(os.path.join(dir_path, \"..\", \"data/intron-tts-test-public-4161.csv\"))\n",
    "\n",
    "data = pd.concat([train, dev, test])\n",
    "len(data)"
   ]
  },
  {
   "cell_type": "code",
   "execution_count": 5,
   "metadata": {},
   "outputs": [],
   "source": [
    "not_exist = []\n",
    "for i, item in data.iterrows():\n",
    "    src = os.path.join(dir_path, \"..\", \"afrispeech_16k_trimmed\",\n",
    "                       item.audio_paths[1:])\n",
    "    if not os.path.exists(src):\n",
    "        not_exist.append(item.audio_paths)"
   ]
  },
  {
   "cell_type": "code",
   "execution_count": 6,
   "metadata": {},
   "outputs": [],
   "source": [
    "data = data[~data.audio_paths.isin(not_exist)]"
   ]
  },
  {
   "cell_type": "code",
   "execution_count": 7,
   "metadata": {},
   "outputs": [
    {
     "data": {
      "text/plain": [
       "(80, 35976)"
      ]
     },
     "execution_count": 7,
     "metadata": {},
     "output_type": "execute_result"
    }
   ],
   "source": [
    "len(not_exist), len(data)"
   ]
  },
  {
   "cell_type": "code",
   "execution_count": 8,
   "metadata": {},
   "outputs": [],
   "source": [
    "# mos_data = pd.read_csv(os.path.join(dir_path, \"..\", \"src/utils/mos_files_all.txt\"),\n",
    "#                       )\n",
    "# data = pd.merge(data, mos_data, how=\"left\", left_on=\"audio_ids\", right_on=\"audio_ids\")\n",
    "# data = data[data.mos_score >= 2.5]"
   ]
  },
  {
   "cell_type": "code",
   "execution_count": 9,
   "metadata": {},
   "outputs": [],
   "source": [
    "# remove 3 missing files\n",
    "data = data[data.audio_ids != \"24bfceabfa102cc1c1926d2049f56bbf\"]\n",
    "data = data[data.audio_ids != \"790cdbb7907d0112bc737f0b06282dde\"]\n",
    "data = data[data.audio_ids != \"4bffcdb03a445616d70eb1a859ac52a5\"]\n",
    "\n",
    "# Remove utterances with long duration, mostly noisy\n",
    "data = data[data.duration <= 50.0].copy()"
   ]
  },
  {
   "cell_type": "code",
   "execution_count": 10,
   "metadata": {},
   "outputs": [
    {
     "data": {
      "text/plain": [
       "35976"
      ]
     },
     "execution_count": 10,
     "metadata": {},
     "output_type": "execute_result"
    }
   ],
   "source": [
    "len(data)"
   ]
  },
  {
   "cell_type": "code",
   "execution_count": 11,
   "metadata": {},
   "outputs": [
    {
     "data": {
      "text/plain": [
       "(600, 76, 75)"
      ]
     },
     "execution_count": 11,
     "metadata": {},
     "output_type": "execute_result"
    }
   ],
   "source": [
    "train.user_ids.nunique(), dev.user_ids.nunique(), test.user_ids.nunique()"
   ]
  },
  {
   "cell_type": "code",
   "execution_count": 12,
   "metadata": {},
   "outputs": [
    {
     "data": {
      "text/plain": [
       "(751, 133.52832222222222)"
      ]
     },
     "execution_count": 12,
     "metadata": {},
     "output_type": "execute_result"
    }
   ],
   "source": [
    "data.user_ids.nunique(), data.duration.sum()/3600  # 751 speaker, 135 hours"
   ]
  },
  {
   "cell_type": "code",
   "execution_count": 13,
   "metadata": {},
   "outputs": [
    {
     "data": {
      "text/plain": [
       "133.52832222222222"
      ]
     },
     "execution_count": 13,
     "metadata": {},
     "output_type": "execute_result"
    }
   ],
   "source": [
    "data.duration.sum() / 3600"
   ]
  },
  {
   "cell_type": "code",
   "execution_count": 14,
   "metadata": {},
   "outputs": [
    {
     "data": {
      "text/plain": [
       "(35976, 35976)"
      ]
     },
     "execution_count": 14,
     "metadata": {},
     "output_type": "execute_result"
    }
   ],
   "source": [
    "len(data), data.audio_ids.nunique()"
   ]
  },
  {
   "cell_type": "code",
   "execution_count": 15,
   "metadata": {},
   "outputs": [],
   "source": [
    "# percentage of utterances with numbers\n",
    "\n",
    "import re\n",
    "def has_numbers(inputString):\n",
    "    return bool(re.search(r'\\d', inputString))\n",
    "\n",
    "data[\"is_alnum\"] = data.transcript.apply(lambda x: has_numbers(x))"
   ]
  },
  {
   "cell_type": "code",
   "execution_count": 16,
   "metadata": {},
   "outputs": [
    {
     "data": {
      "text/plain": [
       "41.3297775"
      ]
     },
     "execution_count": 16,
     "metadata": {},
     "output_type": "execute_result"
    }
   ],
   "source": [
    "data[data.is_alnum == True].duration.sum() / 3600 # 42 hours contain numbers, ~ 40%"
   ]
  },
  {
   "cell_type": "code",
   "execution_count": null,
   "metadata": {},
   "outputs": [],
   "source": []
  },
  {
   "cell_type": "code",
   "execution_count": 17,
   "metadata": {},
   "outputs": [
    {
     "data": {
      "text/html": [
       "<div>\n",
       "<style scoped>\n",
       "    .dataframe tbody tr th:only-of-type {\n",
       "        vertical-align: middle;\n",
       "    }\n",
       "\n",
       "    .dataframe tbody tr th {\n",
       "        vertical-align: top;\n",
       "    }\n",
       "\n",
       "    .dataframe thead th {\n",
       "        text-align: right;\n",
       "    }\n",
       "</style>\n",
       "<table border=\"1\" class=\"dataframe\">\n",
       "  <thead>\n",
       "    <tr style=\"text-align: right;\">\n",
       "      <th></th>\n",
       "      <th>user_ids</th>\n",
       "      <th>duration</th>\n",
       "    </tr>\n",
       "  </thead>\n",
       "  <tbody>\n",
       "    <tr>\n",
       "      <th>0</th>\n",
       "      <td>2db35217e91d8889c6f6f4bdee66a52f</td>\n",
       "      <td>4957.721</td>\n",
       "    </tr>\n",
       "    <tr>\n",
       "      <th>1</th>\n",
       "      <td>73f971bbef38880a86ac97680ab5a7f8</td>\n",
       "      <td>4929.179</td>\n",
       "    </tr>\n",
       "    <tr>\n",
       "      <th>2</th>\n",
       "      <td>6b5cd67595796bf5489893b69755f43f</td>\n",
       "      <td>4834.860</td>\n",
       "    </tr>\n",
       "    <tr>\n",
       "      <th>3</th>\n",
       "      <td>1269ac57cb62784a2abeec0b904ed615</td>\n",
       "      <td>4796.768</td>\n",
       "    </tr>\n",
       "    <tr>\n",
       "      <th>4</th>\n",
       "      <td>b883f5d99b7dfc05fc7bbeca0f926e9f</td>\n",
       "      <td>4675.044</td>\n",
       "    </tr>\n",
       "    <tr>\n",
       "      <th>5</th>\n",
       "      <td>f5a8238265acd295b474e3b67cde1dd5</td>\n",
       "      <td>4665.078</td>\n",
       "    </tr>\n",
       "    <tr>\n",
       "      <th>6</th>\n",
       "      <td>96ca0f339408b47bbed4b4ed6fdc4460</td>\n",
       "      <td>4570.077</td>\n",
       "    </tr>\n",
       "    <tr>\n",
       "      <th>7</th>\n",
       "      <td>a35a75f5541bce9a15063660e1028215</td>\n",
       "      <td>4506.899</td>\n",
       "    </tr>\n",
       "    <tr>\n",
       "      <th>8</th>\n",
       "      <td>2a477d9f7d285736be740fe77180b9c0</td>\n",
       "      <td>4197.769</td>\n",
       "    </tr>\n",
       "    <tr>\n",
       "      <th>9</th>\n",
       "      <td>bef1fe43fb65dfc614c001baeef2a381</td>\n",
       "      <td>4123.003</td>\n",
       "    </tr>\n",
       "    <tr>\n",
       "      <th>10</th>\n",
       "      <td>8834b9c6201b1afedbac3d297b91d211</td>\n",
       "      <td>4097.826</td>\n",
       "    </tr>\n",
       "    <tr>\n",
       "      <th>11</th>\n",
       "      <td>25c634a683206e8f57c4749213f5a1c1</td>\n",
       "      <td>3827.559</td>\n",
       "    </tr>\n",
       "    <tr>\n",
       "      <th>12</th>\n",
       "      <td>44dd9acf1c27f9e08fe0bf7982bbb041</td>\n",
       "      <td>3823.511</td>\n",
       "    </tr>\n",
       "    <tr>\n",
       "      <th>13</th>\n",
       "      <td>6aac11553f4b81a9aaeca0825129d11a</td>\n",
       "      <td>3474.562</td>\n",
       "    </tr>\n",
       "    <tr>\n",
       "      <th>14</th>\n",
       "      <td>9540d43e4c3f864865b38a9444df26f6</td>\n",
       "      <td>3405.511</td>\n",
       "    </tr>\n",
       "    <tr>\n",
       "      <th>15</th>\n",
       "      <td>02c01580e0fae36d6042ec3b87bdd04d</td>\n",
       "      <td>3246.205</td>\n",
       "    </tr>\n",
       "    <tr>\n",
       "      <th>16</th>\n",
       "      <td>56e4a69bae977b76fd6d1cb97fa82b55</td>\n",
       "      <td>3122.543</td>\n",
       "    </tr>\n",
       "    <tr>\n",
       "      <th>17</th>\n",
       "      <td>049d62b93efdc6f4054bb609d78e199b</td>\n",
       "      <td>3047.188</td>\n",
       "    </tr>\n",
       "    <tr>\n",
       "      <th>18</th>\n",
       "      <td>da51b96b5f4c5faf9d31a316fa6c0bd0</td>\n",
       "      <td>3007.084</td>\n",
       "    </tr>\n",
       "    <tr>\n",
       "      <th>19</th>\n",
       "      <td>3693ffc99e3158e17013f84088620a7e</td>\n",
       "      <td>2989.692</td>\n",
       "    </tr>\n",
       "  </tbody>\n",
       "</table>\n",
       "</div>"
      ],
      "text/plain": [
       "                            user_ids  duration\n",
       "0   2db35217e91d8889c6f6f4bdee66a52f  4957.721\n",
       "1   73f971bbef38880a86ac97680ab5a7f8  4929.179\n",
       "2   6b5cd67595796bf5489893b69755f43f  4834.860\n",
       "3   1269ac57cb62784a2abeec0b904ed615  4796.768\n",
       "4   b883f5d99b7dfc05fc7bbeca0f926e9f  4675.044\n",
       "5   f5a8238265acd295b474e3b67cde1dd5  4665.078\n",
       "6   96ca0f339408b47bbed4b4ed6fdc4460  4570.077\n",
       "7   a35a75f5541bce9a15063660e1028215  4506.899\n",
       "8   2a477d9f7d285736be740fe77180b9c0  4197.769\n",
       "9   bef1fe43fb65dfc614c001baeef2a381  4123.003\n",
       "10  8834b9c6201b1afedbac3d297b91d211  4097.826\n",
       "11  25c634a683206e8f57c4749213f5a1c1  3827.559\n",
       "12  44dd9acf1c27f9e08fe0bf7982bbb041  3823.511\n",
       "13  6aac11553f4b81a9aaeca0825129d11a  3474.562\n",
       "14  9540d43e4c3f864865b38a9444df26f6  3405.511\n",
       "15  02c01580e0fae36d6042ec3b87bdd04d  3246.205\n",
       "16  56e4a69bae977b76fd6d1cb97fa82b55  3122.543\n",
       "17  049d62b93efdc6f4054bb609d78e199b  3047.188\n",
       "18  da51b96b5f4c5faf9d31a316fa6c0bd0  3007.084\n",
       "19  3693ffc99e3158e17013f84088620a7e  2989.692"
      ]
     },
     "execution_count": 17,
     "metadata": {},
     "output_type": "execute_result"
    }
   ],
   "source": [
    "split = data # train, dev, test\n",
    "speakers = pd.pivot_table(data, values=\"duration\",\n",
    "              columns=[\"user_ids\"], aggfunc=\"sum\").T.reset_index()\n",
    "\n",
    "speakers[\"duration\"] = speakers[\"duration\"]# /3600\n",
    "\n",
    "speakers = speakers.sort_values(\"duration\", ascending=False).reset_index(drop=True)\n",
    "speakers.head(20)"
   ]
  },
  {
   "cell_type": "code",
   "execution_count": 18,
   "metadata": {},
   "outputs": [
    {
     "data": {
      "text/html": [
       "<div>\n",
       "<style scoped>\n",
       "    .dataframe tbody tr th:only-of-type {\n",
       "        vertical-align: middle;\n",
       "    }\n",
       "\n",
       "    .dataframe tbody tr th {\n",
       "        vertical-align: top;\n",
       "    }\n",
       "\n",
       "    .dataframe thead th {\n",
       "        text-align: right;\n",
       "    }\n",
       "</style>\n",
       "<table border=\"1\" class=\"dataframe\">\n",
       "  <thead>\n",
       "    <tr style=\"text-align: right;\">\n",
       "      <th></th>\n",
       "      <th>user_ids</th>\n",
       "      <th>duration</th>\n",
       "    </tr>\n",
       "  </thead>\n",
       "  <tbody>\n",
       "    <tr>\n",
       "      <th>741</th>\n",
       "      <td>b545a4ca235a7b72688a1c0b3eb6bde6</td>\n",
       "      <td>8.181</td>\n",
       "    </tr>\n",
       "    <tr>\n",
       "      <th>742</th>\n",
       "      <td>2493cba45cdf00e461b67e78d518a910</td>\n",
       "      <td>7.706</td>\n",
       "    </tr>\n",
       "    <tr>\n",
       "      <th>743</th>\n",
       "      <td>633ea93e9a3eb22f92e6c522c11f1f52</td>\n",
       "      <td>7.559</td>\n",
       "    </tr>\n",
       "    <tr>\n",
       "      <th>744</th>\n",
       "      <td>df4a2d9487db6e98bf0d8825220f9bf4</td>\n",
       "      <td>7.391</td>\n",
       "    </tr>\n",
       "    <tr>\n",
       "      <th>745</th>\n",
       "      <td>ce339a60ecffc5a72db4bd2489d206cc</td>\n",
       "      <td>7.379</td>\n",
       "    </tr>\n",
       "    <tr>\n",
       "      <th>746</th>\n",
       "      <td>1a1b8d8aace7c96a29d6b32d74ed90fd</td>\n",
       "      <td>7.311</td>\n",
       "    </tr>\n",
       "    <tr>\n",
       "      <th>747</th>\n",
       "      <td>2bb382f192f6a57300bdb0ef6fbd8ad3</td>\n",
       "      <td>7.077</td>\n",
       "    </tr>\n",
       "    <tr>\n",
       "      <th>748</th>\n",
       "      <td>eb5df6c57ad707440696d8478e655d78</td>\n",
       "      <td>6.603</td>\n",
       "    </tr>\n",
       "    <tr>\n",
       "      <th>749</th>\n",
       "      <td>c73de2fe9d445a8d192c5aac49a0e0bb</td>\n",
       "      <td>5.773</td>\n",
       "    </tr>\n",
       "    <tr>\n",
       "      <th>750</th>\n",
       "      <td>6b76a3d99dd1fe093782ef197cb92816</td>\n",
       "      <td>5.035</td>\n",
       "    </tr>\n",
       "  </tbody>\n",
       "</table>\n",
       "</div>"
      ],
      "text/plain": [
       "                             user_ids  duration\n",
       "741  b545a4ca235a7b72688a1c0b3eb6bde6     8.181\n",
       "742  2493cba45cdf00e461b67e78d518a910     7.706\n",
       "743  633ea93e9a3eb22f92e6c522c11f1f52     7.559\n",
       "744  df4a2d9487db6e98bf0d8825220f9bf4     7.391\n",
       "745  ce339a60ecffc5a72db4bd2489d206cc     7.379\n",
       "746  1a1b8d8aace7c96a29d6b32d74ed90fd     7.311\n",
       "747  2bb382f192f6a57300bdb0ef6fbd8ad3     7.077\n",
       "748  eb5df6c57ad707440696d8478e655d78     6.603\n",
       "749  c73de2fe9d445a8d192c5aac49a0e0bb     5.773\n",
       "750  6b76a3d99dd1fe093782ef197cb92816     5.035"
      ]
     },
     "execution_count": 18,
     "metadata": {},
     "output_type": "execute_result"
    }
   ],
   "source": [
    "speakers.tail(10)"
   ]
  },
  {
   "cell_type": "code",
   "execution_count": 19,
   "metadata": {},
   "outputs": [],
   "source": [
    "speakers_dict = {}\n",
    "for i, item in speakers.iterrows():\n",
    "    speakers_dict[item.user_ids] = item.duration"
   ]
  },
  {
   "cell_type": "code",
   "execution_count": 20,
   "metadata": {},
   "outputs": [],
   "source": [
    "accents = pd.pivot_table(data, values=\"duration\",\n",
    "              columns=[\"accent\"], aggfunc=\"sum\").T.reset_index()\n",
    "accents[\"duration\"] = accents[\"duration\"]\n",
    "\n",
    "accents = accents.sort_values(\"duration\", ascending=False).reset_index(drop=True)"
   ]
  },
  {
   "cell_type": "code",
   "execution_count": 21,
   "metadata": {},
   "outputs": [
    {
     "data": {
      "text/html": [
       "<div>\n",
       "<style scoped>\n",
       "    .dataframe tbody tr th:only-of-type {\n",
       "        vertical-align: middle;\n",
       "    }\n",
       "\n",
       "    .dataframe tbody tr th {\n",
       "        vertical-align: top;\n",
       "    }\n",
       "\n",
       "    .dataframe thead th {\n",
       "        text-align: right;\n",
       "    }\n",
       "</style>\n",
       "<table border=\"1\" class=\"dataframe\">\n",
       "  <thead>\n",
       "    <tr style=\"text-align: right;\">\n",
       "      <th></th>\n",
       "      <th>accent</th>\n",
       "      <th>duration</th>\n",
       "    </tr>\n",
       "  </thead>\n",
       "  <tbody>\n",
       "    <tr>\n",
       "      <th>0</th>\n",
       "      <td>Yoruba</td>\n",
       "      <td>113126.218</td>\n",
       "    </tr>\n",
       "    <tr>\n",
       "      <th>1</th>\n",
       "      <td>Hausa</td>\n",
       "      <td>110522.856</td>\n",
       "    </tr>\n",
       "    <tr>\n",
       "      <th>2</th>\n",
       "      <td>Unknown</td>\n",
       "      <td>36881.702</td>\n",
       "    </tr>\n",
       "    <tr>\n",
       "      <th>3</th>\n",
       "      <td>Swahili</td>\n",
       "      <td>36736.392</td>\n",
       "    </tr>\n",
       "    <tr>\n",
       "      <th>4</th>\n",
       "      <td>Igbo</td>\n",
       "      <td>28346.034</td>\n",
       "    </tr>\n",
       "    <tr>\n",
       "      <th>5</th>\n",
       "      <td>Zulu</td>\n",
       "      <td>23144.398</td>\n",
       "    </tr>\n",
       "    <tr>\n",
       "      <th>6</th>\n",
       "      <td>Ijaw</td>\n",
       "      <td>17126.945</td>\n",
       "    </tr>\n",
       "    <tr>\n",
       "      <th>7</th>\n",
       "      <td>Idoma</td>\n",
       "      <td>10673.228</td>\n",
       "    </tr>\n",
       "    <tr>\n",
       "      <th>8</th>\n",
       "      <td>Igala</td>\n",
       "      <td>9229.985</td>\n",
       "    </tr>\n",
       "    <tr>\n",
       "      <th>9</th>\n",
       "      <td>Afrikaans</td>\n",
       "      <td>7445.658</td>\n",
       "    </tr>\n",
       "  </tbody>\n",
       "</table>\n",
       "</div>"
      ],
      "text/plain": [
       "      accent    duration\n",
       "0     Yoruba  113126.218\n",
       "1      Hausa  110522.856\n",
       "2    Unknown   36881.702\n",
       "3    Swahili   36736.392\n",
       "4       Igbo   28346.034\n",
       "5       Zulu   23144.398\n",
       "6       Ijaw   17126.945\n",
       "7      Idoma   10673.228\n",
       "8      Igala    9229.985\n",
       "9  Afrikaans    7445.658"
      ]
     },
     "execution_count": 21,
     "metadata": {},
     "output_type": "execute_result"
    }
   ],
   "source": [
    "accents.head(10) # don't forget to drop unknown accent"
   ]
  },
  {
   "cell_type": "code",
   "execution_count": 22,
   "metadata": {},
   "outputs": [
    {
     "data": {
      "text/html": [
       "<div>\n",
       "<style scoped>\n",
       "    .dataframe tbody tr th:only-of-type {\n",
       "        vertical-align: middle;\n",
       "    }\n",
       "\n",
       "    .dataframe tbody tr th {\n",
       "        vertical-align: top;\n",
       "    }\n",
       "\n",
       "    .dataframe thead th {\n",
       "        text-align: right;\n",
       "    }\n",
       "</style>\n",
       "<table border=\"1\" class=\"dataframe\">\n",
       "  <thead>\n",
       "    <tr style=\"text-align: right;\">\n",
       "      <th></th>\n",
       "      <th>accent</th>\n",
       "      <th>duration</th>\n",
       "    </tr>\n",
       "  </thead>\n",
       "  <tbody>\n",
       "    <tr>\n",
       "      <th>60</th>\n",
       "      <td>Bajju</td>\n",
       "      <td>182.389</td>\n",
       "    </tr>\n",
       "    <tr>\n",
       "      <th>61</th>\n",
       "      <td>Tula</td>\n",
       "      <td>167.667</td>\n",
       "    </tr>\n",
       "    <tr>\n",
       "      <th>62</th>\n",
       "      <td>Dera</td>\n",
       "      <td>166.638</td>\n",
       "    </tr>\n",
       "    <tr>\n",
       "      <th>63</th>\n",
       "      <td>Chichewa</td>\n",
       "      <td>149.858</td>\n",
       "    </tr>\n",
       "    <tr>\n",
       "      <th>64</th>\n",
       "      <td>Tsonga</td>\n",
       "      <td>124.148</td>\n",
       "    </tr>\n",
       "    <tr>\n",
       "      <th>65</th>\n",
       "      <td>Ogbia</td>\n",
       "      <td>78.476</td>\n",
       "    </tr>\n",
       "    <tr>\n",
       "      <th>66</th>\n",
       "      <td>Swati</td>\n",
       "      <td>77.642</td>\n",
       "    </tr>\n",
       "    <tr>\n",
       "      <th>67</th>\n",
       "      <td>Otjiherero</td>\n",
       "      <td>61.700</td>\n",
       "    </tr>\n",
       "    <tr>\n",
       "      <th>68</th>\n",
       "      <td>Ikulu</td>\n",
       "      <td>54.912</td>\n",
       "    </tr>\n",
       "    <tr>\n",
       "      <th>69</th>\n",
       "      <td>Lunguda</td>\n",
       "      <td>42.362</td>\n",
       "    </tr>\n",
       "    <tr>\n",
       "      <th>70</th>\n",
       "      <td>Ogba</td>\n",
       "      <td>34.218</td>\n",
       "    </tr>\n",
       "    <tr>\n",
       "      <th>71</th>\n",
       "      <td>Hausa, Fulani</td>\n",
       "      <td>33.247</td>\n",
       "    </tr>\n",
       "    <tr>\n",
       "      <th>72</th>\n",
       "      <td>Anaang</td>\n",
       "      <td>31.140</td>\n",
       "    </tr>\n",
       "    <tr>\n",
       "      <th>73</th>\n",
       "      <td>Portuguese</td>\n",
       "      <td>30.236</td>\n",
       "    </tr>\n",
       "    <tr>\n",
       "      <th>74</th>\n",
       "      <td>Kagoma</td>\n",
       "      <td>21.505</td>\n",
       "    </tr>\n",
       "    <tr>\n",
       "      <th>75</th>\n",
       "      <td>Kikuyu, Swahili</td>\n",
       "      <td>14.205</td>\n",
       "    </tr>\n",
       "    <tr>\n",
       "      <th>76</th>\n",
       "      <td>Obolo</td>\n",
       "      <td>12.569</td>\n",
       "    </tr>\n",
       "    <tr>\n",
       "      <th>77</th>\n",
       "      <td>Ika</td>\n",
       "      <td>12.237</td>\n",
       "    </tr>\n",
       "    <tr>\n",
       "      <th>78</th>\n",
       "      <td>Kubi</td>\n",
       "      <td>10.193</td>\n",
       "    </tr>\n",
       "    <tr>\n",
       "      <th>79</th>\n",
       "      <td>Ogoni</td>\n",
       "      <td>7.559</td>\n",
       "    </tr>\n",
       "  </tbody>\n",
       "</table>\n",
       "</div>"
      ],
      "text/plain": [
       "             accent  duration\n",
       "60            Bajju   182.389\n",
       "61             Tula   167.667\n",
       "62             Dera   166.638\n",
       "63         Chichewa   149.858\n",
       "64           Tsonga   124.148\n",
       "65            Ogbia    78.476\n",
       "66            Swati    77.642\n",
       "67       Otjiherero    61.700\n",
       "68            Ikulu    54.912\n",
       "69          Lunguda    42.362\n",
       "70             Ogba    34.218\n",
       "71    Hausa, Fulani    33.247\n",
       "72           Anaang    31.140\n",
       "73       Portuguese    30.236\n",
       "74           Kagoma    21.505\n",
       "75  Kikuyu, Swahili    14.205\n",
       "76            Obolo    12.569\n",
       "77              Ika    12.237\n",
       "78             Kubi    10.193\n",
       "79            Ogoni     7.559"
      ]
     },
     "execution_count": 22,
     "metadata": {},
     "output_type": "execute_result"
    }
   ],
   "source": [
    "accents.tail(20)"
   ]
  },
  {
   "cell_type": "code",
   "execution_count": 23,
   "metadata": {},
   "outputs": [
    {
     "data": {
      "text/html": [
       "<div>\n",
       "<style scoped>\n",
       "    .dataframe tbody tr th:only-of-type {\n",
       "        vertical-align: middle;\n",
       "    }\n",
       "\n",
       "    .dataframe tbody tr th {\n",
       "        vertical-align: top;\n",
       "    }\n",
       "\n",
       "    .dataframe thead th {\n",
       "        text-align: right;\n",
       "    }\n",
       "</style>\n",
       "<table border=\"1\" class=\"dataframe\">\n",
       "  <thead>\n",
       "    <tr style=\"text-align: right;\">\n",
       "      <th></th>\n",
       "      <th>country</th>\n",
       "      <th>accent</th>\n",
       "      <th>gender</th>\n",
       "      <th>duration</th>\n",
       "    </tr>\n",
       "  </thead>\n",
       "  <tbody>\n",
       "    <tr>\n",
       "      <th>0</th>\n",
       "      <td>NG</td>\n",
       "      <td>Yoruba</td>\n",
       "      <td>Male</td>\n",
       "      <td>63328.080</td>\n",
       "    </tr>\n",
       "    <tr>\n",
       "      <th>1</th>\n",
       "      <td>NG</td>\n",
       "      <td>Hausa</td>\n",
       "      <td>Male</td>\n",
       "      <td>57062.527</td>\n",
       "    </tr>\n",
       "    <tr>\n",
       "      <th>2</th>\n",
       "      <td>NG</td>\n",
       "      <td>Hausa</td>\n",
       "      <td>Female</td>\n",
       "      <td>53003.214</td>\n",
       "    </tr>\n",
       "    <tr>\n",
       "      <th>3</th>\n",
       "      <td>NG</td>\n",
       "      <td>Yoruba</td>\n",
       "      <td>Female</td>\n",
       "      <td>49789.957</td>\n",
       "    </tr>\n",
       "    <tr>\n",
       "      <th>4</th>\n",
       "      <td>KE</td>\n",
       "      <td>Swahili</td>\n",
       "      <td>Female</td>\n",
       "      <td>23695.523</td>\n",
       "    </tr>\n",
       "    <tr>\n",
       "      <th>5</th>\n",
       "      <td>ZA</td>\n",
       "      <td>Zulu</td>\n",
       "      <td>Female</td>\n",
       "      <td>22753.916</td>\n",
       "    </tr>\n",
       "    <tr>\n",
       "      <th>6</th>\n",
       "      <td>NG</td>\n",
       "      <td>Igbo</td>\n",
       "      <td>Female</td>\n",
       "      <td>17780.291</td>\n",
       "    </tr>\n",
       "    <tr>\n",
       "      <th>7</th>\n",
       "      <td>NG</td>\n",
       "      <td>Ijaw</td>\n",
       "      <td>Male</td>\n",
       "      <td>11829.030</td>\n",
       "    </tr>\n",
       "    <tr>\n",
       "      <th>8</th>\n",
       "      <td>KE</td>\n",
       "      <td>Unknown</td>\n",
       "      <td>Female</td>\n",
       "      <td>10855.926</td>\n",
       "    </tr>\n",
       "    <tr>\n",
       "      <th>9</th>\n",
       "      <td>NG</td>\n",
       "      <td>Igbo</td>\n",
       "      <td>Male</td>\n",
       "      <td>10565.743</td>\n",
       "    </tr>\n",
       "    <tr>\n",
       "      <th>10</th>\n",
       "      <td>NG</td>\n",
       "      <td>Unknown</td>\n",
       "      <td>Female</td>\n",
       "      <td>8449.026</td>\n",
       "    </tr>\n",
       "    <tr>\n",
       "      <th>11</th>\n",
       "      <td>KE</td>\n",
       "      <td>Swahili</td>\n",
       "      <td>Male</td>\n",
       "      <td>8375.791</td>\n",
       "    </tr>\n",
       "    <tr>\n",
       "      <th>12</th>\n",
       "      <td>ZA</td>\n",
       "      <td>Afrikaans</td>\n",
       "      <td>Female</td>\n",
       "      <td>7274.089</td>\n",
       "    </tr>\n",
       "    <tr>\n",
       "      <th>13</th>\n",
       "      <td>NG</td>\n",
       "      <td>Igala</td>\n",
       "      <td>Male</td>\n",
       "      <td>6925.698</td>\n",
       "    </tr>\n",
       "    <tr>\n",
       "      <th>14</th>\n",
       "      <td>NG</td>\n",
       "      <td>Unknown</td>\n",
       "      <td>Male</td>\n",
       "      <td>6769.256</td>\n",
       "    </tr>\n",
       "    <tr>\n",
       "      <th>15</th>\n",
       "      <td>NG</td>\n",
       "      <td>Idoma</td>\n",
       "      <td>Male</td>\n",
       "      <td>5879.755</td>\n",
       "    </tr>\n",
       "    <tr>\n",
       "      <th>16</th>\n",
       "      <td>ZA</td>\n",
       "      <td>Tswana</td>\n",
       "      <td>Female</td>\n",
       "      <td>5706.579</td>\n",
       "    </tr>\n",
       "    <tr>\n",
       "      <th>17</th>\n",
       "      <td>KE</td>\n",
       "      <td>Unknown</td>\n",
       "      <td>Male</td>\n",
       "      <td>5417.069</td>\n",
       "    </tr>\n",
       "    <tr>\n",
       "      <th>18</th>\n",
       "      <td>NG</td>\n",
       "      <td>Ijaw</td>\n",
       "      <td>Female</td>\n",
       "      <td>5297.915</td>\n",
       "    </tr>\n",
       "    <tr>\n",
       "      <th>19</th>\n",
       "      <td>ZA</td>\n",
       "      <td>Unknown</td>\n",
       "      <td>Female</td>\n",
       "      <td>4818.319</td>\n",
       "    </tr>\n",
       "  </tbody>\n",
       "</table>\n",
       "</div>"
      ],
      "text/plain": [
       "   country     accent  gender   duration\n",
       "0       NG     Yoruba    Male  63328.080\n",
       "1       NG      Hausa    Male  57062.527\n",
       "2       NG      Hausa  Female  53003.214\n",
       "3       NG     Yoruba  Female  49789.957\n",
       "4       KE    Swahili  Female  23695.523\n",
       "5       ZA       Zulu  Female  22753.916\n",
       "6       NG       Igbo  Female  17780.291\n",
       "7       NG       Ijaw    Male  11829.030\n",
       "8       KE    Unknown  Female  10855.926\n",
       "9       NG       Igbo    Male  10565.743\n",
       "10      NG    Unknown  Female   8449.026\n",
       "11      KE    Swahili    Male   8375.791\n",
       "12      ZA  Afrikaans  Female   7274.089\n",
       "13      NG      Igala    Male   6925.698\n",
       "14      NG    Unknown    Male   6769.256\n",
       "15      NG      Idoma    Male   5879.755\n",
       "16      ZA     Tswana  Female   5706.579\n",
       "17      KE    Unknown    Male   5417.069\n",
       "18      NG       Ijaw  Female   5297.915\n",
       "19      ZA    Unknown  Female   4818.319"
      ]
     },
     "execution_count": 23,
     "metadata": {},
     "output_type": "execute_result"
    }
   ],
   "source": [
    "split = data # train, dev, test\n",
    "speakers2 = pd.pivot_table(data, values=\"duration\",\n",
    "              columns=[\"country\", \"accent\", \"gender\"], aggfunc=\"sum\").T.reset_index()\n",
    "\n",
    "speakers2[\"duration\"] = speakers2[\"duration\"]# /3600\n",
    "\n",
    "speakers2 = speakers2.sort_values(\"duration\", ascending=False).reset_index(drop=True)\n",
    "speakers2.head(20)"
   ]
  },
  {
   "cell_type": "code",
   "execution_count": 24,
   "metadata": {},
   "outputs": [
    {
     "data": {
      "text/html": [
       "<div>\n",
       "<style scoped>\n",
       "    .dataframe tbody tr th:only-of-type {\n",
       "        vertical-align: middle;\n",
       "    }\n",
       "\n",
       "    .dataframe tbody tr th {\n",
       "        vertical-align: top;\n",
       "    }\n",
       "\n",
       "    .dataframe thead th {\n",
       "        text-align: right;\n",
       "    }\n",
       "</style>\n",
       "<table border=\"1\" class=\"dataframe\">\n",
       "  <thead>\n",
       "    <tr style=\"text-align: right;\">\n",
       "      <th></th>\n",
       "      <th>country</th>\n",
       "      <th>accent</th>\n",
       "      <th>gender</th>\n",
       "      <th>duration</th>\n",
       "    </tr>\n",
       "  </thead>\n",
       "  <tbody>\n",
       "    <tr>\n",
       "      <th>101</th>\n",
       "      <td>NG</td>\n",
       "      <td>Ikulu</td>\n",
       "      <td>Female</td>\n",
       "      <td>54.912</td>\n",
       "    </tr>\n",
       "    <tr>\n",
       "      <th>102</th>\n",
       "      <td>NG</td>\n",
       "      <td>Pidgin</td>\n",
       "      <td>Female</td>\n",
       "      <td>53.226</td>\n",
       "    </tr>\n",
       "    <tr>\n",
       "      <th>103</th>\n",
       "      <td>KE</td>\n",
       "      <td>Kikuyu</td>\n",
       "      <td>Female</td>\n",
       "      <td>51.627</td>\n",
       "    </tr>\n",
       "    <tr>\n",
       "      <th>104</th>\n",
       "      <td>UG</td>\n",
       "      <td>Luganda</td>\n",
       "      <td>Female</td>\n",
       "      <td>42.840</td>\n",
       "    </tr>\n",
       "    <tr>\n",
       "      <th>105</th>\n",
       "      <td>NG</td>\n",
       "      <td>Lunguda</td>\n",
       "      <td>Male</td>\n",
       "      <td>42.362</td>\n",
       "    </tr>\n",
       "    <tr>\n",
       "      <th>106</th>\n",
       "      <td>NG</td>\n",
       "      <td>Etsako</td>\n",
       "      <td>Female</td>\n",
       "      <td>34.521</td>\n",
       "    </tr>\n",
       "    <tr>\n",
       "      <th>107</th>\n",
       "      <td>NG</td>\n",
       "      <td>Ogba</td>\n",
       "      <td>Female</td>\n",
       "      <td>34.218</td>\n",
       "    </tr>\n",
       "    <tr>\n",
       "      <th>108</th>\n",
       "      <td>NG</td>\n",
       "      <td>Hausa, Fulani</td>\n",
       "      <td>Male</td>\n",
       "      <td>33.247</td>\n",
       "    </tr>\n",
       "    <tr>\n",
       "      <th>109</th>\n",
       "      <td>NG</td>\n",
       "      <td>Anaang</td>\n",
       "      <td>Male</td>\n",
       "      <td>31.140</td>\n",
       "    </tr>\n",
       "    <tr>\n",
       "      <th>110</th>\n",
       "      <td>ZA</td>\n",
       "      <td>Portuguese</td>\n",
       "      <td>Male</td>\n",
       "      <td>30.236</td>\n",
       "    </tr>\n",
       "    <tr>\n",
       "      <th>111</th>\n",
       "      <td>ZA</td>\n",
       "      <td>Shona</td>\n",
       "      <td>Male</td>\n",
       "      <td>26.056</td>\n",
       "    </tr>\n",
       "    <tr>\n",
       "      <th>112</th>\n",
       "      <td>NG</td>\n",
       "      <td>Kagoma</td>\n",
       "      <td>Male</td>\n",
       "      <td>21.505</td>\n",
       "    </tr>\n",
       "    <tr>\n",
       "      <th>113</th>\n",
       "      <td>KE</td>\n",
       "      <td>Kikuyu, Swahili</td>\n",
       "      <td>Female</td>\n",
       "      <td>14.205</td>\n",
       "    </tr>\n",
       "    <tr>\n",
       "      <th>114</th>\n",
       "      <td>NG</td>\n",
       "      <td>Obolo</td>\n",
       "      <td>Female</td>\n",
       "      <td>12.569</td>\n",
       "    </tr>\n",
       "    <tr>\n",
       "      <th>115</th>\n",
       "      <td>NG</td>\n",
       "      <td>Ika</td>\n",
       "      <td>Female</td>\n",
       "      <td>12.237</td>\n",
       "    </tr>\n",
       "    <tr>\n",
       "      <th>116</th>\n",
       "      <td>ZA</td>\n",
       "      <td>Unknown</td>\n",
       "      <td>Male</td>\n",
       "      <td>11.437</td>\n",
       "    </tr>\n",
       "    <tr>\n",
       "      <th>117</th>\n",
       "      <td>NG</td>\n",
       "      <td>Kubi</td>\n",
       "      <td>Female</td>\n",
       "      <td>10.193</td>\n",
       "    </tr>\n",
       "    <tr>\n",
       "      <th>118</th>\n",
       "      <td>US</td>\n",
       "      <td>Yoruba</td>\n",
       "      <td>Male</td>\n",
       "      <td>8.181</td>\n",
       "    </tr>\n",
       "    <tr>\n",
       "      <th>119</th>\n",
       "      <td>ZA</td>\n",
       "      <td>Ndebele</td>\n",
       "      <td>Male</td>\n",
       "      <td>7.706</td>\n",
       "    </tr>\n",
       "    <tr>\n",
       "      <th>120</th>\n",
       "      <td>NG</td>\n",
       "      <td>Ogoni</td>\n",
       "      <td>Male</td>\n",
       "      <td>7.559</td>\n",
       "    </tr>\n",
       "  </tbody>\n",
       "</table>\n",
       "</div>"
      ],
      "text/plain": [
       "    country           accent  gender  duration\n",
       "101      NG            Ikulu  Female    54.912\n",
       "102      NG           Pidgin  Female    53.226\n",
       "103      KE           Kikuyu  Female    51.627\n",
       "104      UG          Luganda  Female    42.840\n",
       "105      NG          Lunguda    Male    42.362\n",
       "106      NG           Etsako  Female    34.521\n",
       "107      NG             Ogba  Female    34.218\n",
       "108      NG    Hausa, Fulani    Male    33.247\n",
       "109      NG           Anaang    Male    31.140\n",
       "110      ZA       Portuguese    Male    30.236\n",
       "111      ZA            Shona    Male    26.056\n",
       "112      NG           Kagoma    Male    21.505\n",
       "113      KE  Kikuyu, Swahili  Female    14.205\n",
       "114      NG            Obolo  Female    12.569\n",
       "115      NG              Ika  Female    12.237\n",
       "116      ZA          Unknown    Male    11.437\n",
       "117      NG             Kubi  Female    10.193\n",
       "118      US           Yoruba    Male     8.181\n",
       "119      ZA          Ndebele    Male     7.706\n",
       "120      NG            Ogoni    Male     7.559"
      ]
     },
     "execution_count": 24,
     "metadata": {},
     "output_type": "execute_result"
    }
   ],
   "source": [
    "speakers2.tail(20)"
   ]
  },
  {
   "cell_type": "code",
   "execution_count": 25,
   "metadata": {},
   "outputs": [],
   "source": [
    "# Test set: 4 speakers with 4 different accents\n",
    "# test_data_unseen = data[data.accent.isin([\"Swati\", \"Portuguese\", \"Ogbia\", \"Lunguda\"])]"
   ]
  },
  {
   "cell_type": "code",
   "execution_count": 26,
   "metadata": {},
   "outputs": [],
   "source": [
    "# len(test_data_unseen)"
   ]
  },
  {
   "cell_type": "code",
   "execution_count": 27,
   "metadata": {},
   "outputs": [],
   "source": [
    "# data = data[~data.accent.isin([\"Swati\", \"Portuguese\", \"Ogbia\", \"Lunguda\"])]\n",
    "\n",
    "data[\"user_ids_num\"] = pd.factorize(data[\"user_ids\"])[0]"
   ]
  },
  {
   "cell_type": "code",
   "execution_count": null,
   "metadata": {},
   "outputs": [],
   "source": []
  },
  {
   "cell_type": "code",
   "execution_count": 28,
   "metadata": {},
   "outputs": [],
   "source": [
    "# select 2 utterances per user_id as test set\n",
    "from collections import defaultdict\n",
    "\n",
    "# shuffle\n",
    "data_sh = data.sample(frac=1, random_state=0).reset_index(drop=True)\n",
    "\n",
    "user_id_map = defaultdict(int)\n",
    "test_data_seen = []\n",
    "train_val_data_seen = []\n",
    "\n",
    "for i, item in data_sh.iterrows():\n",
    "    \n",
    "    # Only test on speaker with at least 5 mins data\n",
    "    if speakers_dict[item.user_ids] <= 1200 or user_id_map[item.user_ids] == 5:\n",
    "        train_val_data_seen.append(item)\n",
    "        continue\n",
    "    \n",
    "    # if item.duration >= 1.0: # speaker embedding need 1 sec for extraction.\n",
    "    test_data_seen.append(item)\n",
    "    user_id_map[item.user_ids]+=1\n",
    "    \n",
    "test_data_seen = pd.DataFrame(test_data_seen)\n",
    "train_val_data_seen = pd.DataFrame(train_val_data_seen)"
   ]
  },
  {
   "cell_type": "code",
   "execution_count": 29,
   "metadata": {},
   "outputs": [
    {
     "data": {
      "text/plain": [
       "(735, 35241, 35976, 35976)"
      ]
     },
     "execution_count": 29,
     "metadata": {},
     "output_type": "execute_result"
    }
   ],
   "source": [
    "len(test_data_seen), len(train_val_data_seen), len(test_data_seen)+len(train_val_data_seen), len(data_sh)\n"
   ]
  },
  {
   "cell_type": "code",
   "execution_count": 30,
   "metadata": {},
   "outputs": [],
   "source": [
    "train_val_data_seen = train_val_data_seen.sample(frac=1, random_state=0).reset_index(drop=True)\n",
    "val = train_val_data_seen[0: 200]\n",
    "train = train_val_data_seen[200: ]"
   ]
  },
  {
   "cell_type": "code",
   "execution_count": 31,
   "metadata": {},
   "outputs": [],
   "source": [
    "# test_data_unseen.to_csv(\"/srv/storage/talc2@talc-data2.nancy/multispeech/calcul/users/sogun/AfriSpeech-TTS/data/afritts-test-unseen.csv\", index=False)\n",
    "\n",
    "train.to_csv(\"/srv/storage/talc2@talc-data2.nancy/multispeech/calcul/users/sogun/AfriSpeech-TTS/data/afritts-train.csv\", index=False)\n",
    "val.to_csv(\"/srv/storage/talc2@talc-data2.nancy/multispeech/calcul/users/sogun/AfriSpeech-TTS/data/afritts-dev.csv\", index=False)\n",
    "\n",
    "test_data_seen.to_csv(\"/srv/storage/talc2@talc-data2.nancy/multispeech/calcul/users/sogun/AfriSpeech-TTS/data/afritts-test-seen.csv\", index=False)"
   ]
  },
  {
   "cell_type": "markdown",
   "metadata": {},
   "source": [
    "Normalize sentences\n"
   ]
  },
  {
   "cell_type": "code",
   "execution_count": 32,
   "metadata": {},
   "outputs": [
    {
     "name": "stderr",
     "output_type": "stream",
     "text": [
      "[NeMo W 2024-03-02 06:52:46 nemo_logging:349] /tmp/ipykernel_42563/649144921.py:3: SettingWithCopyWarning: \n",
      "    A value is trying to be set on a copy of a slice from a DataFrame.\n",
      "    Try using .loc[row_indexer,col_indexer] = value instead\n",
      "    \n",
      "    See the caveats in the documentation: https://pandas.pydata.org/pandas-docs/stable/user_guide/indexing.html#returning-a-view-versus-a-copy\n",
      "      train[\"transcript\"] = train[\"transcript\"].apply(tts_cleaner)\n",
      "    \n",
      "[NeMo W 2024-03-02 06:52:52 nemo_logging:349] /tmp/ipykernel_42563/649144921.py:4: SettingWithCopyWarning: \n",
      "    A value is trying to be set on a copy of a slice from a DataFrame.\n",
      "    Try using .loc[row_indexer,col_indexer] = value instead\n",
      "    \n",
      "    See the caveats in the documentation: https://pandas.pydata.org/pandas-docs/stable/user_guide/indexing.html#returning-a-view-versus-a-copy\n",
      "      val[\"transcript\"] = val[\"transcript\"].apply(tts_cleaner)\n",
      "    \n"
     ]
    }
   ],
   "source": [
    "# test_data_unseen[\"transcript\"] = test_data_unseen[\"transcript\"].apply(tts_cleaner)\n",
    "\n",
    "train[\"transcript\"] = train[\"transcript\"].apply(tts_cleaner)\n",
    "val[\"transcript\"] = val[\"transcript\"].apply(tts_cleaner)\n",
    "test_data_seen[\"transcript\"] = test_data_seen[\"transcript\"].apply(tts_cleaner)"
   ]
  },
  {
   "cell_type": "code",
   "execution_count": 33,
   "metadata": {},
   "outputs": [],
   "source": [
    "# test_data_unseen.to_csv(\"/srv/storage/talc2@talc-data2.nancy/multispeech/calcul/users/sogun/AfriSpeech-TTS/data/afritts-test-unseen-clean.csv\", index=False)\n",
    "\n",
    "train.to_csv(\"/srv/storage/talc2@talc-data2.nancy/multispeech/calcul/users/sogun/AfriSpeech-TTS/data/afritts-train-clean.csv\", index=False)\n",
    "val.to_csv(\"/srv/storage/talc2@talc-data2.nancy/multispeech/calcul/users/sogun/AfriSpeech-TTS/data/afritts-dev-clean.csv\", index=False)\n",
    "\n",
    "test_data_seen.to_csv(\"/srv/storage/talc2@talc-data2.nancy/multispeech/calcul/users/sogun/AfriSpeech-TTS/data/afritts-test-seen-clean.csv\", index=False)"
   ]
  },
  {
   "cell_type": "code",
   "execution_count": 35,
   "metadata": {},
   "outputs": [
    {
     "data": {
      "text/html": [
       "<div>\n",
       "<style scoped>\n",
       "    .dataframe tbody tr th:only-of-type {\n",
       "        vertical-align: middle;\n",
       "    }\n",
       "\n",
       "    .dataframe tbody tr th {\n",
       "        vertical-align: top;\n",
       "    }\n",
       "\n",
       "    .dataframe thead th {\n",
       "        text-align: right;\n",
       "    }\n",
       "</style>\n",
       "<table border=\"1\" class=\"dataframe\">\n",
       "  <thead>\n",
       "    <tr style=\"text-align: right;\">\n",
       "      <th></th>\n",
       "      <th>country</th>\n",
       "      <th>duration</th>\n",
       "    </tr>\n",
       "  </thead>\n",
       "  <tbody>\n",
       "    <tr>\n",
       "      <th>0</th>\n",
       "      <td>NG</td>\n",
       "      <td>341118.626</td>\n",
       "    </tr>\n",
       "    <tr>\n",
       "      <th>1</th>\n",
       "      <td>ZA</td>\n",
       "      <td>57951.213</td>\n",
       "    </tr>\n",
       "    <tr>\n",
       "      <th>2</th>\n",
       "      <td>KE</td>\n",
       "      <td>57894.842</td>\n",
       "    </tr>\n",
       "    <tr>\n",
       "      <th>3</th>\n",
       "      <td>GH</td>\n",
       "      <td>8077.338</td>\n",
       "    </tr>\n",
       "    <tr>\n",
       "      <th>4</th>\n",
       "      <td>ZW</td>\n",
       "      <td>718.895</td>\n",
       "    </tr>\n",
       "    <tr>\n",
       "      <th>5</th>\n",
       "      <td>RW</td>\n",
       "      <td>511.729</td>\n",
       "    </tr>\n",
       "    <tr>\n",
       "      <th>6</th>\n",
       "      <td>SL</td>\n",
       "      <td>504.214</td>\n",
       "    </tr>\n",
       "    <tr>\n",
       "      <th>7</th>\n",
       "      <td>UG</td>\n",
       "      <td>302.586</td>\n",
       "    </tr>\n",
       "    <tr>\n",
       "      <th>8</th>\n",
       "      <td>ZM</td>\n",
       "      <td>149.858</td>\n",
       "    </tr>\n",
       "    <tr>\n",
       "      <th>9</th>\n",
       "      <td>US</td>\n",
       "      <td>8.181</td>\n",
       "    </tr>\n",
       "  </tbody>\n",
       "</table>\n",
       "</div>"
      ],
      "text/plain": [
       "  country    duration\n",
       "0      NG  341118.626\n",
       "1      ZA   57951.213\n",
       "2      KE   57894.842\n",
       "3      GH    8077.338\n",
       "4      ZW     718.895\n",
       "5      RW     511.729\n",
       "6      SL     504.214\n",
       "7      UG     302.586\n",
       "8      ZM     149.858\n",
       "9      US       8.181"
      ]
     },
     "execution_count": 35,
     "metadata": {},
     "output_type": "execute_result"
    }
   ],
   "source": [
    "speakers3 = pd.pivot_table(train, values=\"duration\",\n",
    "              columns=[\"country\"], aggfunc=\"sum\").T.reset_index()\n",
    "\n",
    "speakers3[\"duration\"] = speakers3[\"duration\"]# /3600\n",
    "\n",
    "speakers3 = speakers3.sort_values(\"duration\", ascending=False).reset_index(drop=True)\n",
    "speakers3.head(20)"
   ]
  },
  {
   "cell_type": "code",
   "execution_count": 39,
   "metadata": {},
   "outputs": [],
   "source": [
    "train_upsampled = train.copy()\n",
    "change = True\n",
    "\n",
    "for country in speakers3[\"country\"]:\n",
    "    if country == \"US\": continue # that's yoruba in nigeria\n",
    "    country_dur = train_upsampled[train_upsampled.country == country].duration.sum()\n",
    "    if country_dur < 57894.842:\n",
    "        total = int(57894.842 / country_dur)\n",
    "        # oversample\n",
    "        a = train_upsampled[train_upsampled.country == country].copy()\n",
    "        train_a = pd.concat([a for _ in range(total)], ignore_index=True).reset_index(drop=True)\n",
    "        train_upsampled = pd.concat([train_upsampled, train_a], ignore_index=True).reset_index(drop=True)"
   ]
  },
  {
   "cell_type": "code",
   "execution_count": 40,
   "metadata": {},
   "outputs": [],
   "source": [
    "train_upsampled.to_csv(\"/srv/storage/talc2@talc-data2.nancy/multispeech/calcul/users/sogun/AfriSpeech-TTS/data/afritts-train-ups-clean.csv\", index=False)"
   ]
  },
  {
   "cell_type": "code",
   "execution_count": 41,
   "metadata": {},
   "outputs": [
    {
     "data": {
      "text/html": [
       "<div>\n",
       "<style scoped>\n",
       "    .dataframe tbody tr th:only-of-type {\n",
       "        vertical-align: middle;\n",
       "    }\n",
       "\n",
       "    .dataframe tbody tr th {\n",
       "        vertical-align: top;\n",
       "    }\n",
       "\n",
       "    .dataframe thead th {\n",
       "        text-align: right;\n",
       "    }\n",
       "</style>\n",
       "<table border=\"1\" class=\"dataframe\">\n",
       "  <thead>\n",
       "    <tr style=\"text-align: right;\">\n",
       "      <th></th>\n",
       "      <th>country</th>\n",
       "      <th>duration</th>\n",
       "    </tr>\n",
       "  </thead>\n",
       "  <tbody>\n",
       "    <tr>\n",
       "      <th>0</th>\n",
       "      <td>NG</td>\n",
       "      <td>341118.626</td>\n",
       "    </tr>\n",
       "    <tr>\n",
       "      <th>1</th>\n",
       "      <td>GH</td>\n",
       "      <td>64618.704</td>\n",
       "    </tr>\n",
       "    <tr>\n",
       "      <th>2</th>\n",
       "      <td>RW</td>\n",
       "      <td>58337.106</td>\n",
       "    </tr>\n",
       "    <tr>\n",
       "      <th>3</th>\n",
       "      <td>ZW</td>\n",
       "      <td>58230.495</td>\n",
       "    </tr>\n",
       "    <tr>\n",
       "      <th>4</th>\n",
       "      <td>UG</td>\n",
       "      <td>58096.512</td>\n",
       "    </tr>\n",
       "    <tr>\n",
       "      <th>5</th>\n",
       "      <td>ZM</td>\n",
       "      <td>57995.046</td>\n",
       "    </tr>\n",
       "    <tr>\n",
       "      <th>6</th>\n",
       "      <td>SL</td>\n",
       "      <td>57984.610</td>\n",
       "    </tr>\n",
       "    <tr>\n",
       "      <th>7</th>\n",
       "      <td>ZA</td>\n",
       "      <td>57951.213</td>\n",
       "    </tr>\n",
       "    <tr>\n",
       "      <th>8</th>\n",
       "      <td>KE</td>\n",
       "      <td>57894.842</td>\n",
       "    </tr>\n",
       "    <tr>\n",
       "      <th>9</th>\n",
       "      <td>US</td>\n",
       "      <td>8.181</td>\n",
       "    </tr>\n",
       "  </tbody>\n",
       "</table>\n",
       "</div>"
      ],
      "text/plain": [
       "  country    duration\n",
       "0      NG  341118.626\n",
       "1      GH   64618.704\n",
       "2      RW   58337.106\n",
       "3      ZW   58230.495\n",
       "4      UG   58096.512\n",
       "5      ZM   57995.046\n",
       "6      SL   57984.610\n",
       "7      ZA   57951.213\n",
       "8      KE   57894.842\n",
       "9      US       8.181"
      ]
     },
     "execution_count": 41,
     "metadata": {},
     "output_type": "execute_result"
    }
   ],
   "source": [
    "speakers4 = pd.pivot_table(train_upsampled, values=\"duration\",\n",
    "              columns=[\"country\"], aggfunc=\"sum\").T.reset_index()\n",
    "\n",
    "speakers4[\"duration\"] = speakers4[\"duration\"]# /3600\n",
    "\n",
    "speakers4 = speakers4.sort_values(\"duration\", ascending=False).reset_index(drop=True)\n",
    "speakers4.head(20)"
   ]
  },
  {
   "cell_type": "code",
   "execution_count": null,
   "metadata": {},
   "outputs": [],
   "source": []
  },
  {
   "cell_type": "code",
   "execution_count": 26,
   "metadata": {},
   "outputs": [],
   "source": [
    "import pandas as pd"
   ]
  },
  {
   "cell_type": "code",
   "execution_count": 5,
   "metadata": {},
   "outputs": [],
   "source": [
    "test_data_unseen = pd.read_csv(\"/srv/storage/talc2@talc-data2.nancy/multispeech/calcul/users/sogun/AfriSpeech-TTS/data/afritts-test-unseen-clean.csv\",)\n",
    "\n",
    "train = pd.read_csv(\"/srv/storage/talc2@talc-data2.nancy/multispeech/calcul/users/sogun/AfriSpeech-TTS/data/afritts-train-clean.csv\",)\n",
    "val = pd.read_csv(\"/srv/storage/talc2@talc-data2.nancy/multispeech/calcul/users/sogun/AfriSpeech-TTS/data/afritts-dev-clean.csv\",)\n",
    "\n",
    "test_data_seen = pd.read_csv(\"/srv/storage/talc2@talc-data2.nancy/multispeech/calcul/users/sogun/AfriSpeech-TTS/data/afritts-test-seen-clean.csv\",)\n"
   ]
  },
  {
   "cell_type": "code",
   "execution_count": 43,
   "metadata": {},
   "outputs": [],
   "source": [
    "train_upsampled[\"count_t\"] = train_upsampled.transcript.apply(lambda x: len(x))"
   ]
  },
  {
   "cell_type": "code",
   "execution_count": 44,
   "metadata": {},
   "outputs": [
    {
     "data": {
      "text/plain": [
       "225.68572333333333"
      ]
     },
     "execution_count": 44,
     "metadata": {},
     "output_type": "execute_result"
    }
   ],
   "source": [
    "train_upsampled.duration.sum()/3600"
   ]
  },
  {
   "cell_type": "code",
   "execution_count": 45,
   "metadata": {},
   "outputs": [
    {
     "data": {
      "text/plain": [
       "225.67786055555558"
      ]
     },
     "execution_count": 45,
     "metadata": {},
     "output_type": "execute_result"
    }
   ],
   "source": [
    "train_upsampled[train_upsampled.count_t < 400].duration.sum() / 3600"
   ]
  },
  {
   "cell_type": "code",
   "execution_count": null,
   "metadata": {},
   "outputs": [],
   "source": [
    "# data.to_csv(\"/srv/storage/talc2@talc-data2.nancy/multispeech/calcul/users/sogun/AfriSpeech-TTS/data/temp/intron-tts-all-public-0000\", index=False)\n"
   ]
  },
  {
   "cell_type": "code",
   "execution_count": 47,
   "metadata": {},
   "outputs": [],
   "source": [
    "with open(\"/srv/storage/talc2@talc-data2.nancy/multispeech/calcul/users/sogun/AfriSpeech-TTS/src/vits/filelists/afritts_train.txt\", \"w+\") as f4:\n",
    "    for i, item in train.iterrows():\n",
    "        print(f\"DUMMY4/{item.audio_paths[1:]}|{item.user_ids_num}|{item.transcript}\", file=f4)"
   ]
  },
  {
   "cell_type": "code",
   "execution_count": 46,
   "metadata": {},
   "outputs": [],
   "source": [
    "with open(\"/srv/storage/talc2@talc-data2.nancy/multispeech/calcul/users/sogun/AfriSpeech-TTS/src/vits/filelists/afritts_train_ups.txt\", \"w+\") as f4:\n",
    "    for i, item in train_upsampled.iterrows():\n",
    "        print(f\"DUMMY4/{item.audio_paths[1:]}|{item.user_ids_num}|{item.transcript}\", file=f4)\n",
    "        "
   ]
  },
  {
   "cell_type": "code",
   "execution_count": 48,
   "metadata": {},
   "outputs": [],
   "source": [
    "with open(\"/srv/storage/talc2@talc-data2.nancy/multispeech/calcul/users/sogun/AfriSpeech-TTS/src/vits/filelists/afritts_dev.txt\", \"w+\") as f4:\n",
    "    for i, item in val.iterrows():\n",
    "        print(f\"DUMMY4/{item.audio_paths[1:]}|{item.user_ids_num}|{item.transcript}\", file=f4)"
   ]
  },
  {
   "cell_type": "code",
   "execution_count": 49,
   "metadata": {},
   "outputs": [],
   "source": [
    "with open(\"/srv/storage/talc2@talc-data2.nancy/multispeech/calcul/users/sogun/AfriSpeech-TTS/src/vits/filelists/afritts_test_seen.txt\", \"w+\") as f4:\n",
    "    for i, item in test_data_seen.iterrows():\n",
    "        print(f\"DUMMY4/{item.audio_paths[1:]}|{item.user_ids_num}|{item.transcript}\", file=f4)"
   ]
  },
  {
   "cell_type": "code",
   "execution_count": 50,
   "metadata": {},
   "outputs": [
    {
     "data": {
      "text/plain": [
       "750"
      ]
     },
     "execution_count": 50,
     "metadata": {},
     "output_type": "execute_result"
    }
   ],
   "source": [
    "train.user_ids_num.values.max()"
   ]
  },
  {
   "cell_type": "code",
   "execution_count": 51,
   "metadata": {},
   "outputs": [],
   "source": [
    "# combining with VCTK"
   ]
  },
  {
   "cell_type": "code",
   "execution_count": 48,
   "metadata": {},
   "outputs": [
    {
     "name": "stderr",
     "output_type": "stream",
     "text": [
      "[NeMo W 2024-02-21 01:46:29 nemo_logging:349] /tmp/ipykernel_22456/3833906502.py:1: SettingWithCopyWarning: \n",
      "    A value is trying to be set on a copy of a slice from a DataFrame.\n",
      "    Try using .loc[row_indexer,col_indexer] = value instead\n",
      "    \n",
      "    See the caveats in the documentation: https://pandas.pydata.org/pandas-docs/stable/user_guide/indexing.html#returning-a-view-versus-a-copy\n",
      "      train[\"user_ids_num\"] = train[\"user_ids_num\"].apply(lambda x: x+109)\n",
      "    \n"
     ]
    }
   ],
   "source": [
    "train[\"user_ids_num\"] = train[\"user_ids_num\"].apply(lambda x: x+109)\n",
    "\n",
    "with open(\"/srv/storage/talc2@talc-data2.nancy/multispeech/calcul/users/sogun/AfriSpeech-TTS/src/vits/filelists/afritts_vctk_train.txt\", \"w+\") as f4:\n",
    "    for i, item in train.iterrows():\n",
    "        print(f\"DUMMY4/{item.audio_paths[1:]}|{item.user_ids_num}|{item.transcript}\", file=f4)"
   ]
  },
  {
   "cell_type": "code",
   "execution_count": 49,
   "metadata": {},
   "outputs": [
    {
     "name": "stderr",
     "output_type": "stream",
     "text": [
      "[NeMo W 2024-02-21 01:46:35 nemo_logging:349] /tmp/ipykernel_22456/2927864343.py:1: SettingWithCopyWarning: \n",
      "    A value is trying to be set on a copy of a slice from a DataFrame.\n",
      "    Try using .loc[row_indexer,col_indexer] = value instead\n",
      "    \n",
      "    See the caveats in the documentation: https://pandas.pydata.org/pandas-docs/stable/user_guide/indexing.html#returning-a-view-versus-a-copy\n",
      "      val[\"user_ids_num\"] = val[\"user_ids_num\"].apply(lambda x: x+109)\n",
      "    \n"
     ]
    }
   ],
   "source": [
    "val[\"user_ids_num\"] = val[\"user_ids_num\"].apply(lambda x: x+109)\n",
    "\n",
    "with open(\"/srv/storage/talc2@talc-data2.nancy/multispeech/calcul/users/sogun/AfriSpeech-TTS/src/vits/filelists/afritts_vctk_dev.txt\", \"w+\") as f4:\n",
    "    for i, item in val.iterrows():\n",
    "        print(f\"DUMMY4/{item.audio_paths[1:]}|{item.user_ids_num}|{item.transcript}\", file=f4)"
   ]
  },
  {
   "cell_type": "code",
   "execution_count": 50,
   "metadata": {},
   "outputs": [],
   "source": [
    "test_data_seen[\"user_ids_num\"] = test_data_seen[\"user_ids_num\"].apply(lambda x: x+109)\n",
    "\n",
    "with open(\"/srv/storage/talc2@talc-data2.nancy/multispeech/calcul/users/sogun/AfriSpeech-TTS/src/vits/filelists/afritts_vctk_test_seen.txt\", \"w+\") as f4:\n",
    "    for i, item in test_data_seen.iterrows():\n",
    "        print(f\"DUMMY4/{item.audio_paths[1:]}|{item.user_ids_num}|{item.transcript}\", file=f4)\n",
    "        "
   ]
  },
  {
   "cell_type": "code",
   "execution_count": 51,
   "metadata": {},
   "outputs": [
    {
     "data": {
      "text/plain": [
       "855"
      ]
     },
     "execution_count": 51,
     "metadata": {},
     "output_type": "execute_result"
    }
   ],
   "source": [
    "train.user_ids_num.values.max()"
   ]
  },
  {
   "cell_type": "code",
   "execution_count": 9,
   "metadata": {},
   "outputs": [
    {
     "data": {
      "text/html": [
       "<div>\n",
       "<style scoped>\n",
       "    .dataframe tbody tr th:only-of-type {\n",
       "        vertical-align: middle;\n",
       "    }\n",
       "\n",
       "    .dataframe tbody tr th {\n",
       "        vertical-align: top;\n",
       "    }\n",
       "\n",
       "    .dataframe thead th {\n",
       "        text-align: right;\n",
       "    }\n",
       "</style>\n",
       "<table border=\"1\" class=\"dataframe\">\n",
       "  <thead>\n",
       "    <tr style=\"text-align: right;\">\n",
       "      <th></th>\n",
       "      <th>country</th>\n",
       "      <th>duration</th>\n",
       "    </tr>\n",
       "  </thead>\n",
       "  <tbody>\n",
       "    <tr>\n",
       "      <th>0</th>\n",
       "      <td>NG</td>\n",
       "      <td>342542.613</td>\n",
       "    </tr>\n",
       "    <tr>\n",
       "      <th>1</th>\n",
       "      <td>KE</td>\n",
       "      <td>58254.316</td>\n",
       "    </tr>\n",
       "    <tr>\n",
       "      <th>2</th>\n",
       "      <td>ZA</td>\n",
       "      <td>57758.806</td>\n",
       "    </tr>\n",
       "    <tr>\n",
       "      <th>3</th>\n",
       "      <td>GH</td>\n",
       "      <td>8062.113</td>\n",
       "    </tr>\n",
       "    <tr>\n",
       "      <th>4</th>\n",
       "      <td>ZW</td>\n",
       "      <td>687.744</td>\n",
       "    </tr>\n",
       "    <tr>\n",
       "      <th>5</th>\n",
       "      <td>RW</td>\n",
       "      <td>492.412</td>\n",
       "    </tr>\n",
       "    <tr>\n",
       "      <th>6</th>\n",
       "      <td>SL</td>\n",
       "      <td>481.285</td>\n",
       "    </tr>\n",
       "    <tr>\n",
       "      <th>7</th>\n",
       "      <td>UG</td>\n",
       "      <td>291.945</td>\n",
       "    </tr>\n",
       "    <tr>\n",
       "      <th>8</th>\n",
       "      <td>ZM</td>\n",
       "      <td>149.858</td>\n",
       "    </tr>\n",
       "    <tr>\n",
       "      <th>9</th>\n",
       "      <td>US</td>\n",
       "      <td>8.181</td>\n",
       "    </tr>\n",
       "  </tbody>\n",
       "</table>\n",
       "</div>"
      ],
      "text/plain": [
       "  country    duration\n",
       "0      NG  342542.613\n",
       "1      KE   58254.316\n",
       "2      ZA   57758.806\n",
       "3      GH    8062.113\n",
       "4      ZW     687.744\n",
       "5      RW     492.412\n",
       "6      SL     481.285\n",
       "7      UG     291.945\n",
       "8      ZM     149.858\n",
       "9      US       8.181"
      ]
     },
     "execution_count": 9,
     "metadata": {},
     "output_type": "execute_result"
    }
   ],
   "source": [
    "# oversample train per accent\n",
    "\n",
    "train = pd.read_csv(\"/srv/storage/talc2@talc-data2.nancy/multispeech/calcul/users/sogun/AfriSpeech-TTS/data/afritts-train-clean.csv\",)\n",
    "\n",
    "split = train # train, dev, test\n",
    "speakers2 = pd.pivot_table(train, values=\"duration\",\n",
    "              columns=[\"country\"], aggfunc=\"sum\").T.reset_index()\n",
    "\n",
    "speakers2[\"duration\"] = speakers2[\"duration\"]# /3600\n",
    "\n",
    "speakers2 = speakers2.sort_values(\"duration\", ascending=False).reset_index(drop=True)\n",
    "speakers2.head(20)"
   ]
  },
  {
   "cell_type": "code",
   "execution_count": 68,
   "metadata": {},
   "outputs": [],
   "source": [
    "train.to_csv(\"/srv/storage/talc2@talc-data2.nancy/multispeech/calcul/users/sogun/AfriSpeech-TTS/data/afritts-train-clean-upsamp2.csv\", index=False)\n",
    "\n"
   ]
  },
  {
   "cell_type": "code",
   "execution_count": 69,
   "metadata": {},
   "outputs": [],
   "source": [
    "with open(\"/srv/storage/talc2@talc-data2.nancy/multispeech/calcul/users/sogun/AfriSpeech-TTS/src/vits/filelists/temp/afritts_train_upsamp.txt\", \"w+\") as f4:\n",
    "    for i, item in train.iterrows():\n",
    "        print(f\"DUMMY4/{item.audio_paths[1:]}|{item.user_ids_num}|{item.transcript}\", file=f4)"
   ]
  },
  {
   "cell_type": "code",
   "execution_count": 50,
   "metadata": {},
   "outputs": [
    {
     "data": {
      "text/plain": [
       "385.4235743170201"
      ]
     },
     "execution_count": 50,
     "metadata": {},
     "output_type": "execute_result"
    }
   ],
   "source": [
    "57758.806 / 149.858"
   ]
  },
  {
   "cell_type": "code",
   "execution_count": 66,
   "metadata": {},
   "outputs": [],
   "source": [
    "change = True\n",
    "# for i in range(386):\n",
    "#     change = False\n",
    "for country in speakers2[\"country\"]:\n",
    "    if country == \"US\": continue # that's yoruba in nigeria\n",
    "    country_dur = train[train.country == country].duration.sum()\n",
    "    if country_dur < 57758.806:\n",
    "        total = int(57758.806 / country_dur)\n",
    "        # oversample\n",
    "        a = train[train.country == country].copy()\n",
    "        train_a = pd.concat([a for _ in range(total)], ignore_index=True).reset_index(drop=True)\n",
    "        train = pd.concat([train, train_a], ignore_index=True).reset_index(drop=True)\n",
    "        #     change = True\n",
    "        # else:\n",
    "        #     change = False\n",
    "        # print(country)"
   ]
  },
  {
   "cell_type": "code",
   "execution_count": 70,
   "metadata": {},
   "outputs": [
    {
     "data": {
      "text/html": [
       "<div>\n",
       "<style scoped>\n",
       "    .dataframe tbody tr th:only-of-type {\n",
       "        vertical-align: middle;\n",
       "    }\n",
       "\n",
       "    .dataframe tbody tr th {\n",
       "        vertical-align: top;\n",
       "    }\n",
       "\n",
       "    .dataframe thead th {\n",
       "        text-align: right;\n",
       "    }\n",
       "</style>\n",
       "<table border=\"1\" class=\"dataframe\">\n",
       "  <thead>\n",
       "    <tr style=\"text-align: right;\">\n",
       "      <th></th>\n",
       "      <th>country</th>\n",
       "      <th>duration</th>\n",
       "    </tr>\n",
       "  </thead>\n",
       "  <tbody>\n",
       "    <tr>\n",
       "      <th>0</th>\n",
       "      <td>NG</td>\n",
       "      <td>95.150726</td>\n",
       "    </tr>\n",
       "    <tr>\n",
       "      <th>1</th>\n",
       "      <td>GH</td>\n",
       "      <td>17.915807</td>\n",
       "    </tr>\n",
       "    <tr>\n",
       "      <th>2</th>\n",
       "      <td>KE</td>\n",
       "      <td>16.181754</td>\n",
       "    </tr>\n",
       "    <tr>\n",
       "      <th>3</th>\n",
       "      <td>SL</td>\n",
       "      <td>16.176524</td>\n",
       "    </tr>\n",
       "    <tr>\n",
       "      <th>4</th>\n",
       "      <td>RW</td>\n",
       "      <td>16.140171</td>\n",
       "    </tr>\n",
       "    <tr>\n",
       "      <th>5</th>\n",
       "      <td>ZM</td>\n",
       "      <td>16.068108</td>\n",
       "    </tr>\n",
       "    <tr>\n",
       "      <th>6</th>\n",
       "      <td>UG</td>\n",
       "      <td>16.056975</td>\n",
       "    </tr>\n",
       "    <tr>\n",
       "      <th>7</th>\n",
       "      <td>ZW</td>\n",
       "      <td>16.047360</td>\n",
       "    </tr>\n",
       "    <tr>\n",
       "      <th>8</th>\n",
       "      <td>ZA</td>\n",
       "      <td>16.044113</td>\n",
       "    </tr>\n",
       "    <tr>\n",
       "      <th>9</th>\n",
       "      <td>US</td>\n",
       "      <td>0.002272</td>\n",
       "    </tr>\n",
       "  </tbody>\n",
       "</table>\n",
       "</div>"
      ],
      "text/plain": [
       "  country   duration\n",
       "0      NG  95.150726\n",
       "1      GH  17.915807\n",
       "2      KE  16.181754\n",
       "3      SL  16.176524\n",
       "4      RW  16.140171\n",
       "5      ZM  16.068108\n",
       "6      UG  16.056975\n",
       "7      ZW  16.047360\n",
       "8      ZA  16.044113\n",
       "9      US   0.002272"
      ]
     },
     "execution_count": 70,
     "metadata": {},
     "output_type": "execute_result"
    }
   ],
   "source": [
    "split = train # train, dev, test\n",
    "speakers2 = pd.pivot_table(train, values=\"duration\",\n",
    "              columns=[\"country\"], aggfunc=\"sum\").T.reset_index()\n",
    "\n",
    "speakers2[\"duration\"] = speakers2[\"duration\"]/3600\n",
    "\n",
    "speakers2 = speakers2.sort_values(\"duration\", ascending=False).reset_index(drop=True)\n",
    "speakers2.tail(20)"
   ]
  },
  {
   "cell_type": "code",
   "execution_count": 10,
   "metadata": {},
   "outputs": [],
   "source": [
    "# select 1 sentence per accent per region for objective evaluation"
   ]
  },
  {
   "cell_type": "code",
   "execution_count": null,
   "metadata": {},
   "outputs": [],
   "source": [
    "# Test set: 10 speakers seen in training"
   ]
  },
  {
   "cell_type": "code",
   "execution_count": null,
   "metadata": {},
   "outputs": [],
   "source": [
    "speakers.tail(20)"
   ]
  },
  {
   "cell_type": "code",
   "execution_count": 1,
   "metadata": {},
   "outputs": [],
   "source": [
    "import librosa\n",
    "import IPython.display as ipd"
   ]
  },
  {
   "cell_type": "code",
   "execution_count": null,
   "metadata": {},
   "outputs": [],
   "source": [
    "data[0:1].audio_paths.values.item()"
   ]
  },
  {
   "cell_type": "code",
   "execution_count": null,
   "metadata": {},
   "outputs": [],
   "source": [
    "data[data.audio_paths == '/AfriSpeech-TTS/train/9b1a7865-4b74-486e-8223-9117e2ea592a/9b1f7d24a96824967ed3a1ae5d3c44cd_OWVB6wln.wav']"
   ]
  },
  {
   "cell_type": "code",
   "execution_count": null,
   "metadata": {},
   "outputs": [],
   "source": [
    "'/srv/storage/talc2@talc-data2.nancy/multispeech/calcul/users/sogun/AfriSpeech-TTS/../AfriSpeech-TTS/train/9b1a7865-4b74-486e-8223-9117e2ea592a/9b1f7d24a96824967ed3a1ae5d3c44cd_OWVB6wln.wav'\n"
   ]
  },
  {
   "cell_type": "code",
   "execution_count": null,
   "metadata": {},
   "outputs": [],
   "source": [
    "filepath = '/srv/storage/talc2@talc-data2.nancy/multispeech/calcul/users/sogun/AfriSpeech-TTS/afrispeech_16k/1e759a52b9a7588771a8d281dd480fce.wav'\n",
    "\n",
    "audio, sr = librosa.load(filepath, sr=16000)\n",
    "\n",
    "ipd.Audio(audio, rate=sr)"
   ]
  },
  {
   "cell_type": "code",
   "execution_count": 4,
   "metadata": {},
   "outputs": [
    {
     "data": {
      "text/html": [
       "\n",
       "                <audio  controls=\"controls\" >\n",
       "                    <source src=\"data:audio/wav;base64,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\" type=\"audio/wav\" />\n",
       "                    Your browser does not support the audio element.\n",
       "                </audio>\n",
       "              "
      ],
      "text/plain": [
       "<IPython.lib.display.Audio object>"
      ]
     },
     "execution_count": 4,
     "metadata": {},
     "output_type": "execute_result"
    }
   ],
   "source": [
    "filepath = '/srv/storage/talc2@talc-data2.nancy/multispeech/calcul/users/sogun/AfriSpeech-TTS/train/3bac4989-69c5-4ffc-aad4-be9796fd80cd/eeaedf7e2d69ff886b61260639481b23_QJgkxpqZ.wav'\n",
    "\n",
    "audio, sr = librosa.load(filepath, sr=16000)\n",
    "\n",
    "ipd.Audio(audio, rate=sr)"
   ]
  },
  {
   "cell_type": "code",
   "execution_count": null,
   "metadata": {},
   "outputs": [],
   "source": [
    "audio.shape"
   ]
  },
  {
   "cell_type": "code",
   "execution_count": null,
   "metadata": {},
   "outputs": [],
   "source": [
    "sr"
   ]
  },
  {
   "cell_type": "code",
   "execution_count": 4,
   "metadata": {},
   "outputs": [],
   "source": [
    "import numpy as np\n",
    "from matplotlib import pyplot as plt\n",
    "from matplotlib.pyplot import imshow\n",
    "import librosa.display\n",
    "\n",
    "# parameters\n",
    "n_fft=1024\n",
    "hop_length=256\n",
    "window=\"hann\"\n",
    "# sr=16000\n",
    "n_mels=80\n",
    "fmin=0\n",
    "fmax=8000\n",
    "win_length=n_fft\n",
    "power=1.0\n",
    "n_iter=64\n",
    "\n",
    "def plot_spec(spec, aspect=2):\n",
    "    if spec is not None:\n",
    "        fig = plt.figure()\n",
    "        ax = fig.add_subplot(111)\n",
    "        im = plt.imshow(spec, origin=\"lower\",)\n",
    "        cbar = plt.colorbar(im, ax=ax)\n",
    "        cbar.set_label(\"Colorbar\")\n",
    "        ax.set_aspect(aspect)\n",
    "        plt.show()"
   ]
  },
  {
   "cell_type": "code",
   "execution_count": 5,
   "metadata": {},
   "outputs": [
    {
     "data": {
      "text/plain": [
       "(283312,)"
      ]
     },
     "execution_count": 5,
     "metadata": {},
     "output_type": "execute_result"
    }
   ],
   "source": [
    "audio.shape"
   ]
  },
  {
   "cell_type": "code",
   "execution_count": 9,
   "metadata": {},
   "outputs": [],
   "source": [
    "filepath = '/srv/storage/talc2@talc-data2.nancy/multispeech/calcul/users/sogun/AfriSpeech-TTS/test/1b12643a-d3d1-4759-bbd9-8de6acc3e943/5443a331e4bf5b8560a588705c837d98_DLPkk3uA.wav'\n",
    "\n",
    "audio, sr = librosa.load(filepath, sr=16000)\n",
    "\n",
    "ref_mel_spec = librosa.feature.melspectrogram(y=audio, sr=sr, S=None, n_fft=n_fft, \n",
    "                                          hop_length=hop_length, \n",
    "                                          win_length=win_length, \n",
    "                                          window=window, power=power,\n",
    "                                          n_mels=n_mels, fmin=fmin, fmax=fmax,)\n",
    "# vocoder expects a log mel-spectrogram\n",
    "eps = 1e-9\n",
    "ref_log_mel = np.log(ref_mel_spec + eps)"
   ]
  },
  {
   "cell_type": "code",
   "execution_count": 10,
   "metadata": {},
   "outputs": [
    {
     "ename": "NameError",
     "evalue": "name 'ipd' is not defined",
     "output_type": "error",
     "traceback": [
      "\u001b[0;31m---------------------------------------------------------------------------\u001b[0m",
      "\u001b[0;31mNameError\u001b[0m                                 Traceback (most recent call last)",
      "Cell \u001b[0;32mIn[10], line 1\u001b[0m\n\u001b[0;32m----> 1\u001b[0m \u001b[43mipd\u001b[49m\u001b[38;5;241m.\u001b[39mAudio(audio, rate\u001b[38;5;241m=\u001b[39msr)\n",
      "\u001b[0;31mNameError\u001b[0m: name 'ipd' is not defined"
     ]
    }
   ],
   "source": [
    "ipd.Audio(audio, rate=sr)"
   ]
  },
  {
   "cell_type": "code",
   "execution_count": 11,
   "metadata": {},
   "outputs": [
    {
     "data": {
      "image/png": "[encoded data removed]",
      "text/plain": [
       "<Figure size 640x480 with 2 Axes>"
      ]
     },
     "metadata": {},
     "output_type": "display_data"
    }
   ],
   "source": [
    "plot_spec(ref_log_mel,)"
   ]
  },
  {
   "cell_type": "code",
   "execution_count": null,
   "metadata": {},
   "outputs": [],
   "source": [
    "# denoised\n",
    "filepath = '/srv/storage/talc2@talc-data2.nancy/multispeech/calcul/users/sogun/AfriSpeech-TTS/b53792d173f1ac743819e81f240a3a07_ooKIycx6_dn.wav'\n",
    "\n",
    "audio_dn, sr = librosa.load(filepath)\n",
    "\n",
    "dn_mel_spec = librosa.feature.melspectrogram(y=audio_dn, sr=sr, S=None, n_fft=n_fft, \n",
    "                                          hop_length=hop_length, \n",
    "                                          win_length=win_length, \n",
    "                                          window=window, power=power,\n",
    "                                          n_mels=n_mels, fmin=fmin, fmax=fmax,)\n",
    "# vocoder expects a log mel-spectrogram\n",
    "eps = 1e-9\n",
    "dn_log_mel = np.log(dn_mel_spec + eps)"
   ]
  },
  {
   "cell_type": "code",
   "execution_count": null,
   "metadata": {},
   "outputs": [],
   "source": [
    "ipd.Audio(audio, rate=sr)"
   ]
  },
  {
   "cell_type": "code",
   "execution_count": null,
   "metadata": {},
   "outputs": [],
   "source": [
    "plot_spec(dn_log_mel,2.5)"
   ]
  },
  {
   "cell_type": "code",
   "execution_count": null,
   "metadata": {},
   "outputs": [],
   "source": []
  }
 ],
 "metadata": {
  "kernelspec": {
   "display_name": "Python 3 (ipykernel)",
   "language": "python",
   "name": "python3"
  },
  "language_info": {
   "codemirror_mode": {
    "name": "ipython",
    "version": 3
   },
   "file_extension": ".py",
   "mimetype": "text/x-python",
   "name": "python",
   "nbconvert_exporter": "python",
   "pygments_lexer": "ipython3",
   "version": "3.8.12"
  },
  "vscode": {
   "interpreter": {
    "hash": "31f2aee4e71d21fbe5cf8b01ff0e069b9275f58929596ceb00d14d90e3e16cd6"
   }
  }
 },
 "nbformat": 4,
 "nbformat_minor": 4
}

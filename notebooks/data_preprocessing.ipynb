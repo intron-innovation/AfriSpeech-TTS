{
 "cells": [
  {
   "cell_type": "code",
   "execution_count": 1,
   "metadata": {},
   "outputs": [],
   "source": [
    "%load_ext autoreload\n",
    "%autoreload 2"
   ]
  },
  {
   "cell_type": "code",
   "execution_count": 2,
   "metadata": {},
   "outputs": [],
   "source": [
    "import os\n",
    "\n",
    "import numpy as np\n",
    "import pandas as pd\n",
    "\n",
    "import librosa\n",
    "import IPython.display as ipd\n",
    "\n",
    "from afritts_text_normalizer import tts_cleaner"
   ]
  },
  {
   "cell_type": "code",
   "execution_count": 3,
   "metadata": {},
   "outputs": [],
   "source": [
    "dir_path = os.getcwd()"
   ]
  },
  {
   "cell_type": "code",
   "execution_count": 4,
   "metadata": {},
   "outputs": [],
   "source": [
    "train = pd.read_csv(os.path.join(dir_path, \"..\", \"data/intron-tts-train-public-28565.csv\"))\n",
    "dev = pd.read_csv(os.path.join(dir_path, \"..\", \"data/intron-tts-dev-public-3330.csv\"))\n",
    "test = pd.read_csv(os.path.join(dir_path, \"..\", \"data/intron-tts-test-public-4161.csv\"))\n",
    "\n",
    "data = pd.concat([train, dev, test])\n"
   ]
  },
  {
   "cell_type": "code",
   "execution_count": 17,
   "metadata": {},
   "outputs": [],
   "source": [
    "not_exist = []\n",
    "for i, item in data.iterrows():\n",
    "    src = os.path.join(dir_path, \"..\", \"afrispeech_16k_trimmed\",\n",
    "                       item.audio_paths[1:])\n",
    "    if not os.path.exists(src):\n",
    "        not_exist.append(item.audio_paths)"
   ]
  },
  {
   "cell_type": "code",
   "execution_count": 18,
   "metadata": {},
   "outputs": [],
   "source": [
    "data = data[~data.audio_paths.isin(not_exist)]"
   ]
  },
  {
   "cell_type": "code",
   "execution_count": 19,
   "metadata": {},
   "outputs": [
    {
     "data": {
      "text/plain": [
       "14"
      ]
     },
     "execution_count": 19,
     "metadata": {},
     "output_type": "execute_result"
    }
   ],
   "source": [
    "len(not_exist)"
   ]
  },
  {
   "cell_type": "code",
   "execution_count": 20,
   "metadata": {},
   "outputs": [],
   "source": [
    "# remove 3 missing files\n",
    "data = data[data.audio_ids != \"24bfceabfa102cc1c1926d2049f56bbf\"]\n",
    "data = data[data.audio_ids != \"790cdbb7907d0112bc737f0b06282dde\"]\n",
    "data = data[data.audio_ids != \"4bffcdb03a445616d70eb1a859ac52a5\"]\n",
    "\n",
    "# Remove utterances with long duration, mostly noisy\n",
    "data = data[data.duration <= 50.0].copy()"
   ]
  },
  {
   "cell_type": "code",
   "execution_count": 21,
   "metadata": {},
   "outputs": [
    {
     "data": {
      "text/plain": [
       "(600, 76, 75)"
      ]
     },
     "execution_count": 21,
     "metadata": {},
     "output_type": "execute_result"
    }
   ],
   "source": [
    "train.user_ids.nunique(), dev.user_ids.nunique(), test.user_ids.nunique()"
   ]
  },
  {
   "cell_type": "code",
   "execution_count": 22,
   "metadata": {},
   "outputs": [
    {
     "data": {
      "text/plain": [
       "(751, 133.57556944444445)"
      ]
     },
     "execution_count": 22,
     "metadata": {},
     "output_type": "execute_result"
    }
   ],
   "source": [
    "data.user_ids.nunique(), data.duration.sum()/3600  # 751 speaker, 135 hours"
   ]
  },
  {
   "cell_type": "code",
   "execution_count": 23,
   "metadata": {},
   "outputs": [],
   "source": [
    "# data[data.duration > 50.0].duration.sum() / 3600"
   ]
  },
  {
   "cell_type": "code",
   "execution_count": 24,
   "metadata": {},
   "outputs": [
    {
     "data": {
      "text/plain": [
       "(35992, 35992)"
      ]
     },
     "execution_count": 24,
     "metadata": {},
     "output_type": "execute_result"
    }
   ],
   "source": [
    "len(data), data.audio_ids.nunique()"
   ]
  },
  {
   "cell_type": "code",
   "execution_count": 12,
   "metadata": {},
   "outputs": [],
   "source": [
    "# percentage of utterances with numbers\n",
    "\n",
    "import re\n",
    "def has_numbers(inputString):\n",
    "    return bool(re.search(r'\\d', inputString))\n",
    "\n",
    "data[\"is_alnum\"] = data.transcript.apply(lambda x: has_numbers(x))"
   ]
  },
  {
   "cell_type": "code",
   "execution_count": 13,
   "metadata": {},
   "outputs": [
    {
     "data": {
      "text/plain": [
       "41.340895"
      ]
     },
     "execution_count": 13,
     "metadata": {},
     "output_type": "execute_result"
    }
   ],
   "source": [
    "data[data.is_alnum == True].duration.sum() / 3600 # 42 hours contain numbers, ~ 40%"
   ]
  },
  {
   "cell_type": "code",
   "execution_count": null,
   "metadata": {},
   "outputs": [],
   "source": []
  },
  {
   "cell_type": "code",
   "execution_count": 25,
   "metadata": {},
   "outputs": [
    {
     "data": {
      "text/html": [
       "<div>\n",
       "<style scoped>\n",
       "    .dataframe tbody tr th:only-of-type {\n",
       "        vertical-align: middle;\n",
       "    }\n",
       "\n",
       "    .dataframe tbody tr th {\n",
       "        vertical-align: top;\n",
       "    }\n",
       "\n",
       "    .dataframe thead th {\n",
       "        text-align: right;\n",
       "    }\n",
       "</style>\n",
       "<table border=\"1\" class=\"dataframe\">\n",
       "  <thead>\n",
       "    <tr style=\"text-align: right;\">\n",
       "      <th></th>\n",
       "      <th>user_ids</th>\n",
       "      <th>duration</th>\n",
       "    </tr>\n",
       "  </thead>\n",
       "  <tbody>\n",
       "    <tr>\n",
       "      <th>0</th>\n",
       "      <td>2db35217e91d8889c6f6f4bdee66a52f</td>\n",
       "      <td>5002.340</td>\n",
       "    </tr>\n",
       "    <tr>\n",
       "      <th>1</th>\n",
       "      <td>73f971bbef38880a86ac97680ab5a7f8</td>\n",
       "      <td>4929.179</td>\n",
       "    </tr>\n",
       "    <tr>\n",
       "      <th>2</th>\n",
       "      <td>6b5cd67595796bf5489893b69755f43f</td>\n",
       "      <td>4834.860</td>\n",
       "    </tr>\n",
       "    <tr>\n",
       "      <th>3</th>\n",
       "      <td>1269ac57cb62784a2abeec0b904ed615</td>\n",
       "      <td>4796.768</td>\n",
       "    </tr>\n",
       "    <tr>\n",
       "      <th>4</th>\n",
       "      <td>b883f5d99b7dfc05fc7bbeca0f926e9f</td>\n",
       "      <td>4675.044</td>\n",
       "    </tr>\n",
       "    <tr>\n",
       "      <th>5</th>\n",
       "      <td>f5a8238265acd295b474e3b67cde1dd5</td>\n",
       "      <td>4665.078</td>\n",
       "    </tr>\n",
       "    <tr>\n",
       "      <th>6</th>\n",
       "      <td>96ca0f339408b47bbed4b4ed6fdc4460</td>\n",
       "      <td>4570.077</td>\n",
       "    </tr>\n",
       "    <tr>\n",
       "      <th>7</th>\n",
       "      <td>a35a75f5541bce9a15063660e1028215</td>\n",
       "      <td>4506.899</td>\n",
       "    </tr>\n",
       "    <tr>\n",
       "      <th>8</th>\n",
       "      <td>2a477d9f7d285736be740fe77180b9c0</td>\n",
       "      <td>4197.769</td>\n",
       "    </tr>\n",
       "    <tr>\n",
       "      <th>9</th>\n",
       "      <td>bef1fe43fb65dfc614c001baeef2a381</td>\n",
       "      <td>4123.003</td>\n",
       "    </tr>\n",
       "    <tr>\n",
       "      <th>10</th>\n",
       "      <td>8834b9c6201b1afedbac3d297b91d211</td>\n",
       "      <td>4097.826</td>\n",
       "    </tr>\n",
       "    <tr>\n",
       "      <th>11</th>\n",
       "      <td>25c634a683206e8f57c4749213f5a1c1</td>\n",
       "      <td>3827.559</td>\n",
       "    </tr>\n",
       "    <tr>\n",
       "      <th>12</th>\n",
       "      <td>44dd9acf1c27f9e08fe0bf7982bbb041</td>\n",
       "      <td>3823.511</td>\n",
       "    </tr>\n",
       "    <tr>\n",
       "      <th>13</th>\n",
       "      <td>6aac11553f4b81a9aaeca0825129d11a</td>\n",
       "      <td>3474.562</td>\n",
       "    </tr>\n",
       "    <tr>\n",
       "      <th>14</th>\n",
       "      <td>9540d43e4c3f864865b38a9444df26f6</td>\n",
       "      <td>3405.511</td>\n",
       "    </tr>\n",
       "    <tr>\n",
       "      <th>15</th>\n",
       "      <td>02c01580e0fae36d6042ec3b87bdd04d</td>\n",
       "      <td>3246.205</td>\n",
       "    </tr>\n",
       "    <tr>\n",
       "      <th>16</th>\n",
       "      <td>56e4a69bae977b76fd6d1cb97fa82b55</td>\n",
       "      <td>3122.543</td>\n",
       "    </tr>\n",
       "    <tr>\n",
       "      <th>17</th>\n",
       "      <td>049d62b93efdc6f4054bb609d78e199b</td>\n",
       "      <td>3047.188</td>\n",
       "    </tr>\n",
       "    <tr>\n",
       "      <th>18</th>\n",
       "      <td>da51b96b5f4c5faf9d31a316fa6c0bd0</td>\n",
       "      <td>3007.084</td>\n",
       "    </tr>\n",
       "    <tr>\n",
       "      <th>19</th>\n",
       "      <td>3693ffc99e3158e17013f84088620a7e</td>\n",
       "      <td>2989.692</td>\n",
       "    </tr>\n",
       "  </tbody>\n",
       "</table>\n",
       "</div>"
      ],
      "text/plain": [
       "                            user_ids  duration\n",
       "0   2db35217e91d8889c6f6f4bdee66a52f  5002.340\n",
       "1   73f971bbef38880a86ac97680ab5a7f8  4929.179\n",
       "2   6b5cd67595796bf5489893b69755f43f  4834.860\n",
       "3   1269ac57cb62784a2abeec0b904ed615  4796.768\n",
       "4   b883f5d99b7dfc05fc7bbeca0f926e9f  4675.044\n",
       "5   f5a8238265acd295b474e3b67cde1dd5  4665.078\n",
       "6   96ca0f339408b47bbed4b4ed6fdc4460  4570.077\n",
       "7   a35a75f5541bce9a15063660e1028215  4506.899\n",
       "8   2a477d9f7d285736be740fe77180b9c0  4197.769\n",
       "9   bef1fe43fb65dfc614c001baeef2a381  4123.003\n",
       "10  8834b9c6201b1afedbac3d297b91d211  4097.826\n",
       "11  25c634a683206e8f57c4749213f5a1c1  3827.559\n",
       "12  44dd9acf1c27f9e08fe0bf7982bbb041  3823.511\n",
       "13  6aac11553f4b81a9aaeca0825129d11a  3474.562\n",
       "14  9540d43e4c3f864865b38a9444df26f6  3405.511\n",
       "15  02c01580e0fae36d6042ec3b87bdd04d  3246.205\n",
       "16  56e4a69bae977b76fd6d1cb97fa82b55  3122.543\n",
       "17  049d62b93efdc6f4054bb609d78e199b  3047.188\n",
       "18  da51b96b5f4c5faf9d31a316fa6c0bd0  3007.084\n",
       "19  3693ffc99e3158e17013f84088620a7e  2989.692"
      ]
     },
     "execution_count": 25,
     "metadata": {},
     "output_type": "execute_result"
    }
   ],
   "source": [
    "split = data # train, dev, test\n",
    "speakers = pd.pivot_table(data, values=\"duration\",\n",
    "              columns=[\"user_ids\"], aggfunc=\"sum\").T.reset_index()\n",
    "\n",
    "speakers[\"duration\"] = speakers[\"duration\"]# /3600\n",
    "\n",
    "speakers = speakers.sort_values(\"duration\", ascending=False).reset_index(drop=True)\n",
    "speakers.head(20)"
   ]
  },
  {
   "cell_type": "code",
   "execution_count": 26,
   "metadata": {},
   "outputs": [
    {
     "data": {
      "text/html": [
       "<div>\n",
       "<style scoped>\n",
       "    .dataframe tbody tr th:only-of-type {\n",
       "        vertical-align: middle;\n",
       "    }\n",
       "\n",
       "    .dataframe tbody tr th {\n",
       "        vertical-align: top;\n",
       "    }\n",
       "\n",
       "    .dataframe thead th {\n",
       "        text-align: right;\n",
       "    }\n",
       "</style>\n",
       "<table border=\"1\" class=\"dataframe\">\n",
       "  <thead>\n",
       "    <tr style=\"text-align: right;\">\n",
       "      <th></th>\n",
       "      <th>user_ids</th>\n",
       "      <th>duration</th>\n",
       "    </tr>\n",
       "  </thead>\n",
       "  <tbody>\n",
       "    <tr>\n",
       "      <th>741</th>\n",
       "      <td>b545a4ca235a7b72688a1c0b3eb6bde6</td>\n",
       "      <td>8.181</td>\n",
       "    </tr>\n",
       "    <tr>\n",
       "      <th>742</th>\n",
       "      <td>2493cba45cdf00e461b67e78d518a910</td>\n",
       "      <td>7.706</td>\n",
       "    </tr>\n",
       "    <tr>\n",
       "      <th>743</th>\n",
       "      <td>633ea93e9a3eb22f92e6c522c11f1f52</td>\n",
       "      <td>7.559</td>\n",
       "    </tr>\n",
       "    <tr>\n",
       "      <th>744</th>\n",
       "      <td>df4a2d9487db6e98bf0d8825220f9bf4</td>\n",
       "      <td>7.391</td>\n",
       "    </tr>\n",
       "    <tr>\n",
       "      <th>745</th>\n",
       "      <td>ce339a60ecffc5a72db4bd2489d206cc</td>\n",
       "      <td>7.379</td>\n",
       "    </tr>\n",
       "    <tr>\n",
       "      <th>746</th>\n",
       "      <td>1a1b8d8aace7c96a29d6b32d74ed90fd</td>\n",
       "      <td>7.311</td>\n",
       "    </tr>\n",
       "    <tr>\n",
       "      <th>747</th>\n",
       "      <td>2bb382f192f6a57300bdb0ef6fbd8ad3</td>\n",
       "      <td>7.077</td>\n",
       "    </tr>\n",
       "    <tr>\n",
       "      <th>748</th>\n",
       "      <td>eb5df6c57ad707440696d8478e655d78</td>\n",
       "      <td>6.603</td>\n",
       "    </tr>\n",
       "    <tr>\n",
       "      <th>749</th>\n",
       "      <td>c73de2fe9d445a8d192c5aac49a0e0bb</td>\n",
       "      <td>5.773</td>\n",
       "    </tr>\n",
       "    <tr>\n",
       "      <th>750</th>\n",
       "      <td>6b76a3d99dd1fe093782ef197cb92816</td>\n",
       "      <td>5.035</td>\n",
       "    </tr>\n",
       "  </tbody>\n",
       "</table>\n",
       "</div>"
      ],
      "text/plain": [
       "                             user_ids  duration\n",
       "741  b545a4ca235a7b72688a1c0b3eb6bde6     8.181\n",
       "742  2493cba45cdf00e461b67e78d518a910     7.706\n",
       "743  633ea93e9a3eb22f92e6c522c11f1f52     7.559\n",
       "744  df4a2d9487db6e98bf0d8825220f9bf4     7.391\n",
       "745  ce339a60ecffc5a72db4bd2489d206cc     7.379\n",
       "746  1a1b8d8aace7c96a29d6b32d74ed90fd     7.311\n",
       "747  2bb382f192f6a57300bdb0ef6fbd8ad3     7.077\n",
       "748  eb5df6c57ad707440696d8478e655d78     6.603\n",
       "749  c73de2fe9d445a8d192c5aac49a0e0bb     5.773\n",
       "750  6b76a3d99dd1fe093782ef197cb92816     5.035"
      ]
     },
     "execution_count": 26,
     "metadata": {},
     "output_type": "execute_result"
    }
   ],
   "source": [
    "speakers.tail(10)"
   ]
  },
  {
   "cell_type": "code",
   "execution_count": 27,
   "metadata": {},
   "outputs": [],
   "source": [
    "speakers_dict = {}\n",
    "for i, item in speakers.iterrows():\n",
    "    speakers_dict[item.user_ids] = item.duration"
   ]
  },
  {
   "cell_type": "code",
   "execution_count": 28,
   "metadata": {},
   "outputs": [],
   "source": [
    "accents = pd.pivot_table(data, values=\"duration\",\n",
    "              columns=[\"accent\"], aggfunc=\"sum\").T.reset_index()\n",
    "accents[\"duration\"] = accents[\"duration\"]\n",
    "accents = accents.sort_values(\"duration\", ascending=False).reset_index(drop=True)"
   ]
  },
  {
   "cell_type": "code",
   "execution_count": 29,
   "metadata": {},
   "outputs": [
    {
     "data": {
      "text/html": [
       "<div>\n",
       "<style scoped>\n",
       "    .dataframe tbody tr th:only-of-type {\n",
       "        vertical-align: middle;\n",
       "    }\n",
       "\n",
       "    .dataframe tbody tr th {\n",
       "        vertical-align: top;\n",
       "    }\n",
       "\n",
       "    .dataframe thead th {\n",
       "        text-align: right;\n",
       "    }\n",
       "</style>\n",
       "<table border=\"1\" class=\"dataframe\">\n",
       "  <thead>\n",
       "    <tr style=\"text-align: right;\">\n",
       "      <th></th>\n",
       "      <th>accent</th>\n",
       "      <th>duration</th>\n",
       "    </tr>\n",
       "  </thead>\n",
       "  <tbody>\n",
       "    <tr>\n",
       "      <th>0</th>\n",
       "      <td>Yoruba</td>\n",
       "      <td>113126.218</td>\n",
       "    </tr>\n",
       "    <tr>\n",
       "      <th>1</th>\n",
       "      <td>Hausa</td>\n",
       "      <td>110536.472</td>\n",
       "    </tr>\n",
       "    <tr>\n",
       "      <th>2</th>\n",
       "      <td>Unknown</td>\n",
       "      <td>36896.805</td>\n",
       "    </tr>\n",
       "    <tr>\n",
       "      <th>3</th>\n",
       "      <td>Swahili</td>\n",
       "      <td>36781.011</td>\n",
       "    </tr>\n",
       "    <tr>\n",
       "      <th>4</th>\n",
       "      <td>Igbo</td>\n",
       "      <td>28389.805</td>\n",
       "    </tr>\n",
       "    <tr>\n",
       "      <th>5</th>\n",
       "      <td>Zulu</td>\n",
       "      <td>23152.075</td>\n",
       "    </tr>\n",
       "    <tr>\n",
       "      <th>6</th>\n",
       "      <td>Ijaw</td>\n",
       "      <td>17126.945</td>\n",
       "    </tr>\n",
       "    <tr>\n",
       "      <th>7</th>\n",
       "      <td>Idoma</td>\n",
       "      <td>10673.228</td>\n",
       "    </tr>\n",
       "    <tr>\n",
       "      <th>8</th>\n",
       "      <td>Igala</td>\n",
       "      <td>9229.985</td>\n",
       "    </tr>\n",
       "    <tr>\n",
       "      <th>9</th>\n",
       "      <td>Afrikaans</td>\n",
       "      <td>7482.533</td>\n",
       "    </tr>\n",
       "  </tbody>\n",
       "</table>\n",
       "</div>"
      ],
      "text/plain": [
       "      accent    duration\n",
       "0     Yoruba  113126.218\n",
       "1      Hausa  110536.472\n",
       "2    Unknown   36896.805\n",
       "3    Swahili   36781.011\n",
       "4       Igbo   28389.805\n",
       "5       Zulu   23152.075\n",
       "6       Ijaw   17126.945\n",
       "7      Idoma   10673.228\n",
       "8      Igala    9229.985\n",
       "9  Afrikaans    7482.533"
      ]
     },
     "execution_count": 29,
     "metadata": {},
     "output_type": "execute_result"
    }
   ],
   "source": [
    "accents.head(10) # don't forget to drop unknown accent"
   ]
  },
  {
   "cell_type": "code",
   "execution_count": 30,
   "metadata": {},
   "outputs": [
    {
     "data": {
      "text/html": [
       "<div>\n",
       "<style scoped>\n",
       "    .dataframe tbody tr th:only-of-type {\n",
       "        vertical-align: middle;\n",
       "    }\n",
       "\n",
       "    .dataframe tbody tr th {\n",
       "        vertical-align: top;\n",
       "    }\n",
       "\n",
       "    .dataframe thead th {\n",
       "        text-align: right;\n",
       "    }\n",
       "</style>\n",
       "<table border=\"1\" class=\"dataframe\">\n",
       "  <thead>\n",
       "    <tr style=\"text-align: right;\">\n",
       "      <th></th>\n",
       "      <th>accent</th>\n",
       "      <th>duration</th>\n",
       "    </tr>\n",
       "  </thead>\n",
       "  <tbody>\n",
       "    <tr>\n",
       "      <th>60</th>\n",
       "      <td>Bajju</td>\n",
       "      <td>182.389</td>\n",
       "    </tr>\n",
       "    <tr>\n",
       "      <th>61</th>\n",
       "      <td>Tula</td>\n",
       "      <td>167.667</td>\n",
       "    </tr>\n",
       "    <tr>\n",
       "      <th>62</th>\n",
       "      <td>Dera</td>\n",
       "      <td>166.638</td>\n",
       "    </tr>\n",
       "    <tr>\n",
       "      <th>63</th>\n",
       "      <td>Chichewa</td>\n",
       "      <td>149.858</td>\n",
       "    </tr>\n",
       "    <tr>\n",
       "      <th>64</th>\n",
       "      <td>Tsonga</td>\n",
       "      <td>124.148</td>\n",
       "    </tr>\n",
       "    <tr>\n",
       "      <th>65</th>\n",
       "      <td>Ogbia</td>\n",
       "      <td>78.476</td>\n",
       "    </tr>\n",
       "    <tr>\n",
       "      <th>66</th>\n",
       "      <td>Swati</td>\n",
       "      <td>77.642</td>\n",
       "    </tr>\n",
       "    <tr>\n",
       "      <th>67</th>\n",
       "      <td>Otjiherero</td>\n",
       "      <td>61.700</td>\n",
       "    </tr>\n",
       "    <tr>\n",
       "      <th>68</th>\n",
       "      <td>Ikulu</td>\n",
       "      <td>54.912</td>\n",
       "    </tr>\n",
       "    <tr>\n",
       "      <th>69</th>\n",
       "      <td>Lunguda</td>\n",
       "      <td>42.362</td>\n",
       "    </tr>\n",
       "    <tr>\n",
       "      <th>70</th>\n",
       "      <td>Ogba</td>\n",
       "      <td>34.218</td>\n",
       "    </tr>\n",
       "    <tr>\n",
       "      <th>71</th>\n",
       "      <td>Hausa, Fulani</td>\n",
       "      <td>33.247</td>\n",
       "    </tr>\n",
       "    <tr>\n",
       "      <th>72</th>\n",
       "      <td>Anaang</td>\n",
       "      <td>31.140</td>\n",
       "    </tr>\n",
       "    <tr>\n",
       "      <th>73</th>\n",
       "      <td>Portuguese</td>\n",
       "      <td>30.236</td>\n",
       "    </tr>\n",
       "    <tr>\n",
       "      <th>74</th>\n",
       "      <td>Kagoma</td>\n",
       "      <td>21.505</td>\n",
       "    </tr>\n",
       "    <tr>\n",
       "      <th>75</th>\n",
       "      <td>Kikuyu, Swahili</td>\n",
       "      <td>14.205</td>\n",
       "    </tr>\n",
       "    <tr>\n",
       "      <th>76</th>\n",
       "      <td>Obolo</td>\n",
       "      <td>12.569</td>\n",
       "    </tr>\n",
       "    <tr>\n",
       "      <th>77</th>\n",
       "      <td>Ika</td>\n",
       "      <td>12.237</td>\n",
       "    </tr>\n",
       "    <tr>\n",
       "      <th>78</th>\n",
       "      <td>Kubi</td>\n",
       "      <td>10.193</td>\n",
       "    </tr>\n",
       "    <tr>\n",
       "      <th>79</th>\n",
       "      <td>Ogoni</td>\n",
       "      <td>7.559</td>\n",
       "    </tr>\n",
       "  </tbody>\n",
       "</table>\n",
       "</div>"
      ],
      "text/plain": [
       "             accent  duration\n",
       "60            Bajju   182.389\n",
       "61             Tula   167.667\n",
       "62             Dera   166.638\n",
       "63         Chichewa   149.858\n",
       "64           Tsonga   124.148\n",
       "65            Ogbia    78.476\n",
       "66            Swati    77.642\n",
       "67       Otjiherero    61.700\n",
       "68            Ikulu    54.912\n",
       "69          Lunguda    42.362\n",
       "70             Ogba    34.218\n",
       "71    Hausa, Fulani    33.247\n",
       "72           Anaang    31.140\n",
       "73       Portuguese    30.236\n",
       "74           Kagoma    21.505\n",
       "75  Kikuyu, Swahili    14.205\n",
       "76            Obolo    12.569\n",
       "77              Ika    12.237\n",
       "78             Kubi    10.193\n",
       "79            Ogoni     7.559"
      ]
     },
     "execution_count": 30,
     "metadata": {},
     "output_type": "execute_result"
    }
   ],
   "source": [
    "accents.tail(20)"
   ]
  },
  {
   "cell_type": "code",
   "execution_count": 31,
   "metadata": {},
   "outputs": [
    {
     "data": {
      "text/html": [
       "<div>\n",
       "<style scoped>\n",
       "    .dataframe tbody tr th:only-of-type {\n",
       "        vertical-align: middle;\n",
       "    }\n",
       "\n",
       "    .dataframe tbody tr th {\n",
       "        vertical-align: top;\n",
       "    }\n",
       "\n",
       "    .dataframe thead th {\n",
       "        text-align: right;\n",
       "    }\n",
       "</style>\n",
       "<table border=\"1\" class=\"dataframe\">\n",
       "  <thead>\n",
       "    <tr style=\"text-align: right;\">\n",
       "      <th></th>\n",
       "      <th>country</th>\n",
       "      <th>accent</th>\n",
       "      <th>gender</th>\n",
       "      <th>duration</th>\n",
       "    </tr>\n",
       "  </thead>\n",
       "  <tbody>\n",
       "    <tr>\n",
       "      <th>0</th>\n",
       "      <td>NG</td>\n",
       "      <td>Yoruba</td>\n",
       "      <td>Male</td>\n",
       "      <td>63328.080</td>\n",
       "    </tr>\n",
       "    <tr>\n",
       "      <th>1</th>\n",
       "      <td>NG</td>\n",
       "      <td>Hausa</td>\n",
       "      <td>Male</td>\n",
       "      <td>57076.143</td>\n",
       "    </tr>\n",
       "    <tr>\n",
       "      <th>2</th>\n",
       "      <td>NG</td>\n",
       "      <td>Hausa</td>\n",
       "      <td>Female</td>\n",
       "      <td>53003.214</td>\n",
       "    </tr>\n",
       "    <tr>\n",
       "      <th>3</th>\n",
       "      <td>NG</td>\n",
       "      <td>Yoruba</td>\n",
       "      <td>Female</td>\n",
       "      <td>49789.957</td>\n",
       "    </tr>\n",
       "    <tr>\n",
       "      <th>4</th>\n",
       "      <td>KE</td>\n",
       "      <td>Swahili</td>\n",
       "      <td>Female</td>\n",
       "      <td>23695.523</td>\n",
       "    </tr>\n",
       "    <tr>\n",
       "      <th>5</th>\n",
       "      <td>ZA</td>\n",
       "      <td>Zulu</td>\n",
       "      <td>Female</td>\n",
       "      <td>22761.593</td>\n",
       "    </tr>\n",
       "    <tr>\n",
       "      <th>6</th>\n",
       "      <td>NG</td>\n",
       "      <td>Igbo</td>\n",
       "      <td>Female</td>\n",
       "      <td>17824.062</td>\n",
       "    </tr>\n",
       "    <tr>\n",
       "      <th>7</th>\n",
       "      <td>NG</td>\n",
       "      <td>Ijaw</td>\n",
       "      <td>Male</td>\n",
       "      <td>11829.030</td>\n",
       "    </tr>\n",
       "    <tr>\n",
       "      <th>8</th>\n",
       "      <td>KE</td>\n",
       "      <td>Unknown</td>\n",
       "      <td>Female</td>\n",
       "      <td>10855.926</td>\n",
       "    </tr>\n",
       "    <tr>\n",
       "      <th>9</th>\n",
       "      <td>NG</td>\n",
       "      <td>Igbo</td>\n",
       "      <td>Male</td>\n",
       "      <td>10565.743</td>\n",
       "    </tr>\n",
       "    <tr>\n",
       "      <th>10</th>\n",
       "      <td>NG</td>\n",
       "      <td>Unknown</td>\n",
       "      <td>Female</td>\n",
       "      <td>8449.026</td>\n",
       "    </tr>\n",
       "    <tr>\n",
       "      <th>11</th>\n",
       "      <td>KE</td>\n",
       "      <td>Swahili</td>\n",
       "      <td>Male</td>\n",
       "      <td>8420.410</td>\n",
       "    </tr>\n",
       "    <tr>\n",
       "      <th>12</th>\n",
       "      <td>ZA</td>\n",
       "      <td>Afrikaans</td>\n",
       "      <td>Female</td>\n",
       "      <td>7310.964</td>\n",
       "    </tr>\n",
       "    <tr>\n",
       "      <th>13</th>\n",
       "      <td>NG</td>\n",
       "      <td>Igala</td>\n",
       "      <td>Male</td>\n",
       "      <td>6925.698</td>\n",
       "    </tr>\n",
       "    <tr>\n",
       "      <th>14</th>\n",
       "      <td>NG</td>\n",
       "      <td>Unknown</td>\n",
       "      <td>Male</td>\n",
       "      <td>6784.359</td>\n",
       "    </tr>\n",
       "    <tr>\n",
       "      <th>15</th>\n",
       "      <td>NG</td>\n",
       "      <td>Idoma</td>\n",
       "      <td>Male</td>\n",
       "      <td>5879.755</td>\n",
       "    </tr>\n",
       "    <tr>\n",
       "      <th>16</th>\n",
       "      <td>ZA</td>\n",
       "      <td>Tswana</td>\n",
       "      <td>Female</td>\n",
       "      <td>5706.579</td>\n",
       "    </tr>\n",
       "    <tr>\n",
       "      <th>17</th>\n",
       "      <td>KE</td>\n",
       "      <td>Unknown</td>\n",
       "      <td>Male</td>\n",
       "      <td>5417.069</td>\n",
       "    </tr>\n",
       "    <tr>\n",
       "      <th>18</th>\n",
       "      <td>NG</td>\n",
       "      <td>Ijaw</td>\n",
       "      <td>Female</td>\n",
       "      <td>5297.915</td>\n",
       "    </tr>\n",
       "    <tr>\n",
       "      <th>19</th>\n",
       "      <td>ZA</td>\n",
       "      <td>Unknown</td>\n",
       "      <td>Female</td>\n",
       "      <td>4818.319</td>\n",
       "    </tr>\n",
       "  </tbody>\n",
       "</table>\n",
       "</div>"
      ],
      "text/plain": [
       "   country     accent  gender   duration\n",
       "0       NG     Yoruba    Male  63328.080\n",
       "1       NG      Hausa    Male  57076.143\n",
       "2       NG      Hausa  Female  53003.214\n",
       "3       NG     Yoruba  Female  49789.957\n",
       "4       KE    Swahili  Female  23695.523\n",
       "5       ZA       Zulu  Female  22761.593\n",
       "6       NG       Igbo  Female  17824.062\n",
       "7       NG       Ijaw    Male  11829.030\n",
       "8       KE    Unknown  Female  10855.926\n",
       "9       NG       Igbo    Male  10565.743\n",
       "10      NG    Unknown  Female   8449.026\n",
       "11      KE    Swahili    Male   8420.410\n",
       "12      ZA  Afrikaans  Female   7310.964\n",
       "13      NG      Igala    Male   6925.698\n",
       "14      NG    Unknown    Male   6784.359\n",
       "15      NG      Idoma    Male   5879.755\n",
       "16      ZA     Tswana  Female   5706.579\n",
       "17      KE    Unknown    Male   5417.069\n",
       "18      NG       Ijaw  Female   5297.915\n",
       "19      ZA    Unknown  Female   4818.319"
      ]
     },
     "execution_count": 31,
     "metadata": {},
     "output_type": "execute_result"
    }
   ],
   "source": [
    "split = data # train, dev, test\n",
    "speakers2 = pd.pivot_table(data, values=\"duration\",\n",
    "              columns=[\"country\", \"accent\", \"gender\"], aggfunc=\"sum\").T.reset_index()\n",
    "\n",
    "speakers2[\"duration\"] = speakers2[\"duration\"]# /3600\n",
    "\n",
    "speakers2 = speakers2.sort_values(\"duration\", ascending=False).reset_index(drop=True)\n",
    "speakers2.head(20)"
   ]
  },
  {
   "cell_type": "code",
   "execution_count": 32,
   "metadata": {},
   "outputs": [
    {
     "data": {
      "text/html": [
       "<div>\n",
       "<style scoped>\n",
       "    .dataframe tbody tr th:only-of-type {\n",
       "        vertical-align: middle;\n",
       "    }\n",
       "\n",
       "    .dataframe tbody tr th {\n",
       "        vertical-align: top;\n",
       "    }\n",
       "\n",
       "    .dataframe thead th {\n",
       "        text-align: right;\n",
       "    }\n",
       "</style>\n",
       "<table border=\"1\" class=\"dataframe\">\n",
       "  <thead>\n",
       "    <tr style=\"text-align: right;\">\n",
       "      <th></th>\n",
       "      <th>country</th>\n",
       "      <th>accent</th>\n",
       "      <th>gender</th>\n",
       "      <th>duration</th>\n",
       "    </tr>\n",
       "  </thead>\n",
       "  <tbody>\n",
       "    <tr>\n",
       "      <th>101</th>\n",
       "      <td>NG</td>\n",
       "      <td>Ikulu</td>\n",
       "      <td>Female</td>\n",
       "      <td>54.912</td>\n",
       "    </tr>\n",
       "    <tr>\n",
       "      <th>102</th>\n",
       "      <td>NG</td>\n",
       "      <td>Pidgin</td>\n",
       "      <td>Female</td>\n",
       "      <td>53.226</td>\n",
       "    </tr>\n",
       "    <tr>\n",
       "      <th>103</th>\n",
       "      <td>KE</td>\n",
       "      <td>Kikuyu</td>\n",
       "      <td>Female</td>\n",
       "      <td>51.627</td>\n",
       "    </tr>\n",
       "    <tr>\n",
       "      <th>104</th>\n",
       "      <td>UG</td>\n",
       "      <td>Luganda</td>\n",
       "      <td>Female</td>\n",
       "      <td>42.840</td>\n",
       "    </tr>\n",
       "    <tr>\n",
       "      <th>105</th>\n",
       "      <td>NG</td>\n",
       "      <td>Lunguda</td>\n",
       "      <td>Male</td>\n",
       "      <td>42.362</td>\n",
       "    </tr>\n",
       "    <tr>\n",
       "      <th>106</th>\n",
       "      <td>NG</td>\n",
       "      <td>Etsako</td>\n",
       "      <td>Female</td>\n",
       "      <td>34.521</td>\n",
       "    </tr>\n",
       "    <tr>\n",
       "      <th>107</th>\n",
       "      <td>NG</td>\n",
       "      <td>Ogba</td>\n",
       "      <td>Female</td>\n",
       "      <td>34.218</td>\n",
       "    </tr>\n",
       "    <tr>\n",
       "      <th>108</th>\n",
       "      <td>NG</td>\n",
       "      <td>Hausa, Fulani</td>\n",
       "      <td>Male</td>\n",
       "      <td>33.247</td>\n",
       "    </tr>\n",
       "    <tr>\n",
       "      <th>109</th>\n",
       "      <td>NG</td>\n",
       "      <td>Anaang</td>\n",
       "      <td>Male</td>\n",
       "      <td>31.140</td>\n",
       "    </tr>\n",
       "    <tr>\n",
       "      <th>110</th>\n",
       "      <td>ZA</td>\n",
       "      <td>Portuguese</td>\n",
       "      <td>Male</td>\n",
       "      <td>30.236</td>\n",
       "    </tr>\n",
       "    <tr>\n",
       "      <th>111</th>\n",
       "      <td>ZA</td>\n",
       "      <td>Shona</td>\n",
       "      <td>Male</td>\n",
       "      <td>26.056</td>\n",
       "    </tr>\n",
       "    <tr>\n",
       "      <th>112</th>\n",
       "      <td>NG</td>\n",
       "      <td>Kagoma</td>\n",
       "      <td>Male</td>\n",
       "      <td>21.505</td>\n",
       "    </tr>\n",
       "    <tr>\n",
       "      <th>113</th>\n",
       "      <td>KE</td>\n",
       "      <td>Kikuyu, Swahili</td>\n",
       "      <td>Female</td>\n",
       "      <td>14.205</td>\n",
       "    </tr>\n",
       "    <tr>\n",
       "      <th>114</th>\n",
       "      <td>NG</td>\n",
       "      <td>Obolo</td>\n",
       "      <td>Female</td>\n",
       "      <td>12.569</td>\n",
       "    </tr>\n",
       "    <tr>\n",
       "      <th>115</th>\n",
       "      <td>NG</td>\n",
       "      <td>Ika</td>\n",
       "      <td>Female</td>\n",
       "      <td>12.237</td>\n",
       "    </tr>\n",
       "    <tr>\n",
       "      <th>116</th>\n",
       "      <td>ZA</td>\n",
       "      <td>Unknown</td>\n",
       "      <td>Male</td>\n",
       "      <td>11.437</td>\n",
       "    </tr>\n",
       "    <tr>\n",
       "      <th>117</th>\n",
       "      <td>NG</td>\n",
       "      <td>Kubi</td>\n",
       "      <td>Female</td>\n",
       "      <td>10.193</td>\n",
       "    </tr>\n",
       "    <tr>\n",
       "      <th>118</th>\n",
       "      <td>US</td>\n",
       "      <td>Yoruba</td>\n",
       "      <td>Male</td>\n",
       "      <td>8.181</td>\n",
       "    </tr>\n",
       "    <tr>\n",
       "      <th>119</th>\n",
       "      <td>ZA</td>\n",
       "      <td>Ndebele</td>\n",
       "      <td>Male</td>\n",
       "      <td>7.706</td>\n",
       "    </tr>\n",
       "    <tr>\n",
       "      <th>120</th>\n",
       "      <td>NG</td>\n",
       "      <td>Ogoni</td>\n",
       "      <td>Male</td>\n",
       "      <td>7.559</td>\n",
       "    </tr>\n",
       "  </tbody>\n",
       "</table>\n",
       "</div>"
      ],
      "text/plain": [
       "    country           accent  gender  duration\n",
       "101      NG            Ikulu  Female    54.912\n",
       "102      NG           Pidgin  Female    53.226\n",
       "103      KE           Kikuyu  Female    51.627\n",
       "104      UG          Luganda  Female    42.840\n",
       "105      NG          Lunguda    Male    42.362\n",
       "106      NG           Etsako  Female    34.521\n",
       "107      NG             Ogba  Female    34.218\n",
       "108      NG    Hausa, Fulani    Male    33.247\n",
       "109      NG           Anaang    Male    31.140\n",
       "110      ZA       Portuguese    Male    30.236\n",
       "111      ZA            Shona    Male    26.056\n",
       "112      NG           Kagoma    Male    21.505\n",
       "113      KE  Kikuyu, Swahili  Female    14.205\n",
       "114      NG            Obolo  Female    12.569\n",
       "115      NG              Ika  Female    12.237\n",
       "116      ZA          Unknown    Male    11.437\n",
       "117      NG             Kubi  Female    10.193\n",
       "118      US           Yoruba    Male     8.181\n",
       "119      ZA          Ndebele    Male     7.706\n",
       "120      NG            Ogoni    Male     7.559"
      ]
     },
     "execution_count": 32,
     "metadata": {},
     "output_type": "execute_result"
    }
   ],
   "source": [
    "speakers2.tail(20)"
   ]
  },
  {
   "cell_type": "code",
   "execution_count": 33,
   "metadata": {},
   "outputs": [],
   "source": [
    "# Test set: 4 speakers with 4 different accents\n",
    "test_data_unseen = data[data.accent.isin([\"Swati\", \"Portuguese\", \"Ogbia\", \"Lunguda\"])]"
   ]
  },
  {
   "cell_type": "code",
   "execution_count": 34,
   "metadata": {},
   "outputs": [
    {
     "data": {
      "text/plain": [
       "16"
      ]
     },
     "execution_count": 34,
     "metadata": {},
     "output_type": "execute_result"
    }
   ],
   "source": [
    "len(test_data_unseen)"
   ]
  },
  {
   "cell_type": "code",
   "execution_count": 35,
   "metadata": {},
   "outputs": [
    {
     "name": "stderr",
     "output_type": "stream",
     "text": [
      "[NeMo W 2024-02-21 01:25:13 nemo_logging:349] /tmp/ipykernel_22456/1791935302.py:3: SettingWithCopyWarning: \n",
      "    A value is trying to be set on a copy of a slice from a DataFrame.\n",
      "    Try using .loc[row_indexer,col_indexer] = value instead\n",
      "    \n",
      "    See the caveats in the documentation: https://pandas.pydata.org/pandas-docs/stable/user_guide/indexing.html#returning-a-view-versus-a-copy\n",
      "      data[\"user_ids_num\"] = pd.factorize(data[\"user_ids\"])[0]\n",
      "    \n"
     ]
    }
   ],
   "source": [
    "data = data[~data.accent.isin([\"Swati\", \"Portuguese\", \"Ogbia\", \"Lunguda\"])]\n",
    "\n",
    "data[\"user_ids_num\"] = pd.factorize(data[\"user_ids\"])[0]"
   ]
  },
  {
   "cell_type": "code",
   "execution_count": null,
   "metadata": {},
   "outputs": [],
   "source": []
  },
  {
   "cell_type": "code",
   "execution_count": 36,
   "metadata": {},
   "outputs": [],
   "source": [
    "# select 2 utterances per user_id as test set\n",
    "from collections import defaultdict\n",
    "\n",
    "# shuffle\n",
    "data_sh = data.sample(frac=1, random_state=0).reset_index(drop=True)\n",
    "\n",
    "user_id_map = defaultdict(int)\n",
    "test_data_seen = []\n",
    "train_val_data_seen = []\n",
    "\n",
    "for i, item in data_sh.iterrows():\n",
    "    \n",
    "    # Only test on speaker with at least 5 mins data\n",
    "    if speakers_dict[item.user_ids] <= 300 or user_id_map[item.user_ids] == 2:\n",
    "        train_val_data_seen.append(item)\n",
    "        continue\n",
    "    \n",
    "    # if item.duration >= 1.0: # speaker embedding need 1 sec for extraction.\n",
    "    test_data_seen.append(item)\n",
    "    user_id_map[item.user_ids]+=1\n",
    "    \n",
    "test_data_seen = pd.DataFrame(test_data_seen)\n",
    "train_val_data_seen = pd.DataFrame(train_val_data_seen)"
   ]
  },
  {
   "cell_type": "code",
   "execution_count": 37,
   "metadata": {},
   "outputs": [
    {
     "data": {
      "text/plain": [
       "(646, 35330, 35976, 35976)"
      ]
     },
     "execution_count": 37,
     "metadata": {},
     "output_type": "execute_result"
    }
   ],
   "source": [
    "len(test_data_seen), len(train_val_data_seen), len(test_data_seen)+len(train_val_data_seen), len(data_sh)\n"
   ]
  },
  {
   "cell_type": "code",
   "execution_count": 38,
   "metadata": {},
   "outputs": [],
   "source": [
    "train_val_data_seen = train_val_data_seen.sample(frac=1, random_state=0).reset_index(drop=True)\n",
    "val = train_val_data_seen[0: 200]\n",
    "train = train_val_data_seen[200: ]"
   ]
  },
  {
   "cell_type": "code",
   "execution_count": 39,
   "metadata": {},
   "outputs": [],
   "source": [
    "# test_data_unseen.to_csv(\"/srv/storage/talc2@talc-data2.nancy/multispeech/calcul/users/sogun/AfriSpeech-TTS/data/afritts-test-unseen.csv\", index=False)\n",
    "\n",
    "# train.to_csv(\"/srv/storage/talc2@talc-data2.nancy/multispeech/calcul/users/sogun/AfriSpeech-TTS/data/afritts-train.csv\", index=False)\n",
    "# val.to_csv(\"/srv/storage/talc2@talc-data2.nancy/multispeech/calcul/users/sogun/AfriSpeech-TTS/data/afritts-dev.csv\", index=False)\n",
    "\n",
    "# test_data_seen.to_csv(\"/srv/storage/talc2@talc-data2.nancy/multispeech/calcul/users/sogun/AfriSpeech-TTS/data/afritts-test-seen.csv\", index=False)\n"
   ]
  },
  {
   "cell_type": "markdown",
   "metadata": {},
   "source": [
    "Normalize sentences\n"
   ]
  },
  {
   "cell_type": "code",
   "execution_count": 40,
   "metadata": {},
   "outputs": [
    {
     "name": "stderr",
     "output_type": "stream",
     "text": [
      "[NeMo W 2024-02-21 01:25:29 nemo_logging:349] /tmp/ipykernel_22456/2066378432.py:1: SettingWithCopyWarning: \n",
      "    A value is trying to be set on a copy of a slice from a DataFrame.\n",
      "    Try using .loc[row_indexer,col_indexer] = value instead\n",
      "    \n",
      "    See the caveats in the documentation: https://pandas.pydata.org/pandas-docs/stable/user_guide/indexing.html#returning-a-view-versus-a-copy\n",
      "      test_data_unseen[\"transcript\"] = test_data_unseen[\"transcript\"].apply(tts_cleaner)\n",
      "    \n",
      "[NeMo W 2024-02-21 01:44:52 nemo_logging:349] /tmp/ipykernel_22456/2066378432.py:3: SettingWithCopyWarning: \n",
      "    A value is trying to be set on a copy of a slice from a DataFrame.\n",
      "    Try using .loc[row_indexer,col_indexer] = value instead\n",
      "    \n",
      "    See the caveats in the documentation: https://pandas.pydata.org/pandas-docs/stable/user_guide/indexing.html#returning-a-view-versus-a-copy\n",
      "      train[\"transcript\"] = train[\"transcript\"].apply(tts_cleaner)\n",
      "    \n",
      "[NeMo W 2024-02-21 01:44:58 nemo_logging:349] /tmp/ipykernel_22456/2066378432.py:4: SettingWithCopyWarning: \n",
      "    A value is trying to be set on a copy of a slice from a DataFrame.\n",
      "    Try using .loc[row_indexer,col_indexer] = value instead\n",
      "    \n",
      "    See the caveats in the documentation: https://pandas.pydata.org/pandas-docs/stable/user_guide/indexing.html#returning-a-view-versus-a-copy\n",
      "      val[\"transcript\"] = val[\"transcript\"].apply(tts_cleaner)\n",
      "    \n"
     ]
    }
   ],
   "source": [
    "test_data_unseen[\"transcript\"] = test_data_unseen[\"transcript\"].apply(tts_cleaner)\n",
    "\n",
    "train[\"transcript\"] = train[\"transcript\"].apply(tts_cleaner)\n",
    "val[\"transcript\"] = val[\"transcript\"].apply(tts_cleaner)\n",
    "test_data_seen[\"transcript\"] = test_data_seen[\"transcript\"].apply(tts_cleaner)"
   ]
  },
  {
   "cell_type": "code",
   "execution_count": 41,
   "metadata": {},
   "outputs": [],
   "source": [
    "test_data_unseen.to_csv(\"/srv/storage/talc2@talc-data2.nancy/multispeech/calcul/users/sogun/AfriSpeech-TTS/data/afritts-test-unseen-clean.csv\", index=False)\n",
    "\n",
    "train.to_csv(\"/srv/storage/talc2@talc-data2.nancy/multispeech/calcul/users/sogun/AfriSpeech-TTS/data/afritts-train-clean.csv\", index=False)\n",
    "val.to_csv(\"/srv/storage/talc2@talc-data2.nancy/multispeech/calcul/users/sogun/AfriSpeech-TTS/data/afritts-dev-clean.csv\", index=False)\n",
    "\n",
    "test_data_seen.to_csv(\"/srv/storage/talc2@talc-data2.nancy/multispeech/calcul/users/sogun/AfriSpeech-TTS/data/afritts-test-seen-clean.csv\", index=False)"
   ]
  },
  {
   "cell_type": "code",
   "execution_count": 26,
   "metadata": {},
   "outputs": [],
   "source": [
    "import pandas as pd"
   ]
  },
  {
   "cell_type": "code",
   "execution_count": 39,
   "metadata": {},
   "outputs": [],
   "source": [
    "test_data_unseen = pd.read_csv(\"/srv/storage/talc2@talc-data2.nancy/multispeech/calcul/users/sogun/AfriSpeech-TTS/data/afritts-test-unseen-clean.csv\",)\n",
    "\n",
    "train = pd.read_csv(\"/srv/storage/talc2@talc-data2.nancy/multispeech/calcul/users/sogun/AfriSpeech-TTS/data/afritts-train-clean.csv\",)\n",
    "val = pd.read_csv(\"/srv/storage/talc2@talc-data2.nancy/multispeech/calcul/users/sogun/AfriSpeech-TTS/data/afritts-dev-clean.csv\",)\n",
    "\n",
    "test_data_seen = pd.read_csv(\"/srv/storage/talc2@talc-data2.nancy/multispeech/calcul/users/sogun/AfriSpeech-TTS/data/afritts-test-seen-clean.csv\",)\n"
   ]
  },
  {
   "cell_type": "code",
   "execution_count": 40,
   "metadata": {},
   "outputs": [],
   "source": [
    "data = data[[\"audio_ids\", \"transcript\"]].copy()"
   ]
  },
  {
   "cell_type": "code",
   "execution_count": 41,
   "metadata": {},
   "outputs": [],
   "source": [
    "test_data_unseen = pd.merge(test_data_unseen, data, on=\"audio_ids\", how=\"left\")\n",
    "train = pd.merge(train, data, on=\"audio_ids\", how=\"left\")\n",
    "val = pd.merge(val, data, on=\"audio_ids\", how=\"left\")\n",
    "test_data_seen = pd.merge(test_data_seen, data, on=\"audio_ids\", how=\"left\")"
   ]
  },
  {
   "cell_type": "code",
   "execution_count": 42,
   "metadata": {},
   "outputs": [
    {
     "data": {
      "text/html": [
       "<div>\n",
       "<style scoped>\n",
       "    .dataframe tbody tr th:only-of-type {\n",
       "        vertical-align: middle;\n",
       "    }\n",
       "\n",
       "    .dataframe tbody tr th {\n",
       "        vertical-align: top;\n",
       "    }\n",
       "\n",
       "    .dataframe thead th {\n",
       "        text-align: right;\n",
       "    }\n",
       "</style>\n",
       "<table border=\"1\" class=\"dataframe\">\n",
       "  <thead>\n",
       "    <tr style=\"text-align: right;\">\n",
       "      <th></th>\n",
       "      <th>idx</th>\n",
       "      <th>user_ids</th>\n",
       "      <th>accent</th>\n",
       "      <th>age_group</th>\n",
       "      <th>gender</th>\n",
       "      <th>country</th>\n",
       "      <th>transcript_x</th>\n",
       "      <th>nchars</th>\n",
       "      <th>audio_ids</th>\n",
       "      <th>audio_paths</th>\n",
       "      <th>duration</th>\n",
       "      <th>neg_percent</th>\n",
       "      <th>origin</th>\n",
       "      <th>domain</th>\n",
       "      <th>split</th>\n",
       "      <th>expand_puncts</th>\n",
       "      <th>user_ids_num</th>\n",
       "      <th>transcript_y</th>\n",
       "    </tr>\n",
       "  </thead>\n",
       "  <tbody>\n",
       "    <tr>\n",
       "      <th>0</th>\n",
       "      <td>31519</td>\n",
       "      <td>78687bf17a592e56cf155c492ffa0603</td>\n",
       "      <td>Yoruba</td>\n",
       "      <td>19-25</td>\n",
       "      <td>Female</td>\n",
       "      <td>NG</td>\n",
       "      <td>ijeoma mister onyechere, bassir close bracket ...</td>\n",
       "      <td>92</td>\n",
       "      <td>2e96d70e5b89f5d5d02a1d051e570b43</td>\n",
       "      <td>/AfriSpeech-TTS-D/train/1d98be50-152f-42d5-940...</td>\n",
       "      <td>13.035</td>\n",
       "      <td>1.00</td>\n",
       "      <td>nigerian</td>\n",
       "      <td>general</td>\n",
       "      <td>train</td>\n",
       "      <td>True</td>\n",
       "      <td>438</td>\n",
       "      <td>Ijeoma Mr Onyechere, Bassir (creator of the Si...</td>\n",
       "    </tr>\n",
       "    <tr>\n",
       "      <th>1</th>\n",
       "      <td>29584</td>\n",
       "      <td>f511698f6e5c249e043cba47cfbf9836</td>\n",
       "      <td>Yoruba</td>\n",
       "      <td>26-40</td>\n",
       "      <td>Female</td>\n",
       "      <td>NG</td>\n",
       "      <td>uids are often referred to by the placeholder ...</td>\n",
       "      <td>102</td>\n",
       "      <td>9afae62b4cb4aa1eb2dde535121f21cc</td>\n",
       "      <td>/AfriSpeech-TTS-D/train/9ab16298-9988-4f34-9f3...</td>\n",
       "      <td>11.357</td>\n",
       "      <td>0.25</td>\n",
       "      <td>nigerian</td>\n",
       "      <td>general</td>\n",
       "      <td>train</td>\n",
       "      <td>False</td>\n",
       "      <td>428</td>\n",
       "      <td>UIDs are often referred to by the placeholder ...</td>\n",
       "    </tr>\n",
       "    <tr>\n",
       "      <th>2</th>\n",
       "      <td>11000</td>\n",
       "      <td>78c0395b699c88308f6ccb421e14dd11</td>\n",
       "      <td>Hausa</td>\n",
       "      <td>26-40</td>\n",
       "      <td>Female</td>\n",
       "      <td>NG</td>\n",
       "      <td>mister oumar strongly supported sreejith's sug...</td>\n",
       "      <td>120</td>\n",
       "      <td>71896626cc2767f91501879acc38ddd3</td>\n",
       "      <td>/AfriSpeech-TTS-D/train/dbb2d034-3ebf-431a-992...</td>\n",
       "      <td>9.800</td>\n",
       "      <td>0.18</td>\n",
       "      <td>nigerian</td>\n",
       "      <td>general</td>\n",
       "      <td>train</td>\n",
       "      <td>False</td>\n",
       "      <td>196</td>\n",
       "      <td>Mr. Oumar strongly supported Sreejith's sugges...</td>\n",
       "    </tr>\n",
       "    <tr>\n",
       "      <th>3</th>\n",
       "      <td>6814</td>\n",
       "      <td>8834b9c6201b1afedbac3d297b91d211</td>\n",
       "      <td>Zulu</td>\n",
       "      <td>41-55</td>\n",
       "      <td>Female</td>\n",
       "      <td>ZA</td>\n",
       "      <td>onalenna was beheaded both kinteh and nur.</td>\n",
       "      <td>42</td>\n",
       "      <td>ce72a67d7c0457624607f1ad5af12682</td>\n",
       "      <td>/AfriSpeech-TTS-D/train/91ccb275-4994-4a03-970...</td>\n",
       "      <td>4.683</td>\n",
       "      <td>0.07</td>\n",
       "      <td>african</td>\n",
       "      <td>general</td>\n",
       "      <td>train</td>\n",
       "      <td>False</td>\n",
       "      <td>75</td>\n",
       "      <td>Onalenna was beheaded both Kinteh and Nur.</td>\n",
       "    </tr>\n",
       "    <tr>\n",
       "      <th>4</th>\n",
       "      <td>11444</td>\n",
       "      <td>95ed6e83a9e3c244b34e825c5ffe5864</td>\n",
       "      <td>Hausa</td>\n",
       "      <td>19-25</td>\n",
       "      <td>Male</td>\n",
       "      <td>NG</td>\n",
       "      <td>omidina general oladeji, seun phirman, phil pl...</td>\n",
       "      <td>62</td>\n",
       "      <td>5ad0ab4cf145c1e9da214062307e3dde</td>\n",
       "      <td>/AfriSpeech-TTS-D/train/e2c8229f-3579-40c7-9ed...</td>\n",
       "      <td>7.918</td>\n",
       "      <td>0.11</td>\n",
       "      <td>nigerian</td>\n",
       "      <td>general</td>\n",
       "      <td>train</td>\n",
       "      <td>False</td>\n",
       "      <td>170</td>\n",
       "      <td>Omidina Gen Oladeji, Seun Phirman, Phil Plait,...</td>\n",
       "    </tr>\n",
       "    <tr>\n",
       "      <th>...</th>\n",
       "      <td>...</td>\n",
       "      <td>...</td>\n",
       "      <td>...</td>\n",
       "      <td>...</td>\n",
       "      <td>...</td>\n",
       "      <td>...</td>\n",
       "      <td>...</td>\n",
       "      <td>...</td>\n",
       "      <td>...</td>\n",
       "      <td>...</td>\n",
       "      <td>...</td>\n",
       "      <td>...</td>\n",
       "      <td>...</td>\n",
       "      <td>...</td>\n",
       "      <td>...</td>\n",
       "      <td>...</td>\n",
       "      <td>...</td>\n",
       "      <td>...</td>\n",
       "    </tr>\n",
       "    <tr>\n",
       "      <th>641</th>\n",
       "      <td>34224</td>\n",
       "      <td>163047be637e8eb0071ac3d759671479</td>\n",
       "      <td>Nupe</td>\n",
       "      <td>19-25</td>\n",
       "      <td>Female</td>\n",
       "      <td>NG</td>\n",
       "      <td>it features music by lenrie, lyrics by iregbu,...</td>\n",
       "      <td>70</td>\n",
       "      <td>4a734fd04104fd1afa4d9a0fd245b458</td>\n",
       "      <td>/AfriSpeech-TTS-D/train/adee5a25-05ec-489a-bd7...</td>\n",
       "      <td>9.116</td>\n",
       "      <td>0.00</td>\n",
       "      <td>nigerian</td>\n",
       "      <td>general</td>\n",
       "      <td>train</td>\n",
       "      <td>False</td>\n",
       "      <td>549</td>\n",
       "      <td>It features music by Lenrie, lyrics by Iregbu,...</td>\n",
       "    </tr>\n",
       "    <tr>\n",
       "      <th>642</th>\n",
       "      <td>16351</td>\n",
       "      <td>55da4a6bab34307f12a5222568871693</td>\n",
       "      <td>Hausa</td>\n",
       "      <td>19-25</td>\n",
       "      <td>Male</td>\n",
       "      <td>NG</td>\n",
       "      <td>yi participated in general onyechere cho's cou...</td>\n",
       "      <td>163</td>\n",
       "      <td>84e708ec752aaa366c91100f6ce870f1</td>\n",
       "      <td>/AfriSpeech-TTS-D/train/493df7cc-0c3c-4481-b7b...</td>\n",
       "      <td>18.464</td>\n",
       "      <td>0.33</td>\n",
       "      <td>nigerian</td>\n",
       "      <td>general</td>\n",
       "      <td>train</td>\n",
       "      <td>False</td>\n",
       "      <td>238</td>\n",
       "      <td>Yi participated in Gen Onyechere Cho's coup to...</td>\n",
       "    </tr>\n",
       "    <tr>\n",
       "      <th>643</th>\n",
       "      <td>28068</td>\n",
       "      <td>04d62d0186b620b6d2461e8587d2b1b2</td>\n",
       "      <td>Yoruba</td>\n",
       "      <td>19-25</td>\n",
       "      <td>Male</td>\n",
       "      <td>NG</td>\n",
       "      <td>hill honorable olopade, engineer danchimah, mi...</td>\n",
       "      <td>53</td>\n",
       "      <td>16bfb61d5e77f404e6034861999e30e3</td>\n",
       "      <td>/AfriSpeech-TTS-D/train/3904d863-1150-4ee4-90f...</td>\n",
       "      <td>4.389</td>\n",
       "      <td>1.00</td>\n",
       "      <td>nigerian</td>\n",
       "      <td>general</td>\n",
       "      <td>train</td>\n",
       "      <td>False</td>\n",
       "      <td>473</td>\n",
       "      <td>Hill Hon Olopade, Engr Danchimah, Mikel Tony, ...</td>\n",
       "    </tr>\n",
       "    <tr>\n",
       "      <th>644</th>\n",
       "      <td>14097</td>\n",
       "      <td>55da4a6bab34307f12a5222568871693</td>\n",
       "      <td>Hausa</td>\n",
       "      <td>19-25</td>\n",
       "      <td>Male</td>\n",
       "      <td>NG</td>\n",
       "      <td>engineer mostafa hnu has ten avatars colon al ...</td>\n",
       "      <td>154</td>\n",
       "      <td>c80d704e2b21307005cfc1c8e254d64a</td>\n",
       "      <td>/AfriSpeech-TTS-D/train/498d539e-cca1-4c0e-b05...</td>\n",
       "      <td>21.726</td>\n",
       "      <td>0.33</td>\n",
       "      <td>nigerian</td>\n",
       "      <td>general</td>\n",
       "      <td>train</td>\n",
       "      <td>True</td>\n",
       "      <td>238</td>\n",
       "      <td>Engr Mostafa hnu has 10 avatars: Al Asi fish),...</td>\n",
       "    </tr>\n",
       "    <tr>\n",
       "      <th>645</th>\n",
       "      <td>16269</td>\n",
       "      <td>d514814cd8e5aa18bf95af9ddd7c1f4e</td>\n",
       "      <td>Hausa</td>\n",
       "      <td>41-55</td>\n",
       "      <td>Female</td>\n",
       "      <td>NG</td>\n",
       "      <td>this was quickly followed by hussein french's ...</td>\n",
       "      <td>137</td>\n",
       "      <td>f97709048d859a715521ef9c44f7edfe</td>\n",
       "      <td>/AfriSpeech-TTS-D/train/264c47fe-9fa9-42fc-8f4...</td>\n",
       "      <td>21.729</td>\n",
       "      <td>1.00</td>\n",
       "      <td>nigerian</td>\n",
       "      <td>general</td>\n",
       "      <td>train</td>\n",
       "      <td>False</td>\n",
       "      <td>227</td>\n",
       "      <td>This was quickly followed by Hussein French's ...</td>\n",
       "    </tr>\n",
       "  </tbody>\n",
       "</table>\n",
       "<p>646 rows × 18 columns</p>\n",
       "</div>"
      ],
      "text/plain": [
       "       idx                          user_ids  accent age_group  gender  \\\n",
       "0    31519  78687bf17a592e56cf155c492ffa0603  Yoruba     19-25  Female   \n",
       "1    29584  f511698f6e5c249e043cba47cfbf9836  Yoruba     26-40  Female   \n",
       "2    11000  78c0395b699c88308f6ccb421e14dd11   Hausa     26-40  Female   \n",
       "3     6814  8834b9c6201b1afedbac3d297b91d211    Zulu     41-55  Female   \n",
       "4    11444  95ed6e83a9e3c244b34e825c5ffe5864   Hausa     19-25    Male   \n",
       "..     ...                               ...     ...       ...     ...   \n",
       "641  34224  163047be637e8eb0071ac3d759671479    Nupe     19-25  Female   \n",
       "642  16351  55da4a6bab34307f12a5222568871693   Hausa     19-25    Male   \n",
       "643  28068  04d62d0186b620b6d2461e8587d2b1b2  Yoruba     19-25    Male   \n",
       "644  14097  55da4a6bab34307f12a5222568871693   Hausa     19-25    Male   \n",
       "645  16269  d514814cd8e5aa18bf95af9ddd7c1f4e   Hausa     41-55  Female   \n",
       "\n",
       "    country                                       transcript_x  nchars  \\\n",
       "0        NG  ijeoma mister onyechere, bassir close bracket ...      92   \n",
       "1        NG  uids are often referred to by the placeholder ...     102   \n",
       "2        NG  mister oumar strongly supported sreejith's sug...     120   \n",
       "3        ZA         onalenna was beheaded both kinteh and nur.      42   \n",
       "4        NG  omidina general oladeji, seun phirman, phil pl...      62   \n",
       "..      ...                                                ...     ...   \n",
       "641      NG  it features music by lenrie, lyrics by iregbu,...      70   \n",
       "642      NG  yi participated in general onyechere cho's cou...     163   \n",
       "643      NG  hill honorable olopade, engineer danchimah, mi...      53   \n",
       "644      NG  engineer mostafa hnu has ten avatars colon al ...     154   \n",
       "645      NG  this was quickly followed by hussein french's ...     137   \n",
       "\n",
       "                            audio_ids  \\\n",
       "0    2e96d70e5b89f5d5d02a1d051e570b43   \n",
       "1    9afae62b4cb4aa1eb2dde535121f21cc   \n",
       "2    71896626cc2767f91501879acc38ddd3   \n",
       "3    ce72a67d7c0457624607f1ad5af12682   \n",
       "4    5ad0ab4cf145c1e9da214062307e3dde   \n",
       "..                                ...   \n",
       "641  4a734fd04104fd1afa4d9a0fd245b458   \n",
       "642  84e708ec752aaa366c91100f6ce870f1   \n",
       "643  16bfb61d5e77f404e6034861999e30e3   \n",
       "644  c80d704e2b21307005cfc1c8e254d64a   \n",
       "645  f97709048d859a715521ef9c44f7edfe   \n",
       "\n",
       "                                           audio_paths  duration  neg_percent  \\\n",
       "0    /AfriSpeech-TTS-D/train/1d98be50-152f-42d5-940...    13.035         1.00   \n",
       "1    /AfriSpeech-TTS-D/train/9ab16298-9988-4f34-9f3...    11.357         0.25   \n",
       "2    /AfriSpeech-TTS-D/train/dbb2d034-3ebf-431a-992...     9.800         0.18   \n",
       "3    /AfriSpeech-TTS-D/train/91ccb275-4994-4a03-970...     4.683         0.07   \n",
       "4    /AfriSpeech-TTS-D/train/e2c8229f-3579-40c7-9ed...     7.918         0.11   \n",
       "..                                                 ...       ...          ...   \n",
       "641  /AfriSpeech-TTS-D/train/adee5a25-05ec-489a-bd7...     9.116         0.00   \n",
       "642  /AfriSpeech-TTS-D/train/493df7cc-0c3c-4481-b7b...    18.464         0.33   \n",
       "643  /AfriSpeech-TTS-D/train/3904d863-1150-4ee4-90f...     4.389         1.00   \n",
       "644  /AfriSpeech-TTS-D/train/498d539e-cca1-4c0e-b05...    21.726         0.33   \n",
       "645  /AfriSpeech-TTS-D/train/264c47fe-9fa9-42fc-8f4...    21.729         1.00   \n",
       "\n",
       "       origin   domain  split  expand_puncts  user_ids_num  \\\n",
       "0    nigerian  general  train           True           438   \n",
       "1    nigerian  general  train          False           428   \n",
       "2    nigerian  general  train          False           196   \n",
       "3     african  general  train          False            75   \n",
       "4    nigerian  general  train          False           170   \n",
       "..        ...      ...    ...            ...           ...   \n",
       "641  nigerian  general  train          False           549   \n",
       "642  nigerian  general  train          False           238   \n",
       "643  nigerian  general  train          False           473   \n",
       "644  nigerian  general  train           True           238   \n",
       "645  nigerian  general  train          False           227   \n",
       "\n",
       "                                          transcript_y  \n",
       "0    Ijeoma Mr Onyechere, Bassir (creator of the Si...  \n",
       "1    UIDs are often referred to by the placeholder ...  \n",
       "2    Mr. Oumar strongly supported Sreejith's sugges...  \n",
       "3           Onalenna was beheaded both Kinteh and Nur.  \n",
       "4    Omidina Gen Oladeji, Seun Phirman, Phil Plait,...  \n",
       "..                                                 ...  \n",
       "641  It features music by Lenrie, lyrics by Iregbu,...  \n",
       "642  Yi participated in Gen Onyechere Cho's coup to...  \n",
       "643  Hill Hon Olopade, Engr Danchimah, Mikel Tony, ...  \n",
       "644  Engr Mostafa hnu has 10 avatars: Al Asi fish),...  \n",
       "645  This was quickly followed by Hussein French's ...  \n",
       "\n",
       "[646 rows x 18 columns]"
      ]
     },
     "execution_count": 42,
     "metadata": {},
     "output_type": "execute_result"
    }
   ],
   "source": [
    "test_data_seen"
   ]
  },
  {
   "cell_type": "code",
   "execution_count": 43,
   "metadata": {},
   "outputs": [],
   "source": [
    "del test_data_unseen[\"transcript_x\"]\n",
    "del train[\"transcript_x\"]\n",
    "del val[\"transcript_x\"]\n",
    "del test_data_seen[\"transcript_x\"]"
   ]
  },
  {
   "cell_type": "code",
   "execution_count": 44,
   "metadata": {},
   "outputs": [],
   "source": [
    "test_data_unseen.rename(columns={'transcript_y': 'transcript'}, inplace=True)\n",
    "\n",
    "train.rename(columns={'transcript_y': 'transcript'}, inplace=True)\n",
    "val.rename(columns={'transcript_y': 'transcript'}, inplace=True)\n",
    "test_data_seen.rename(columns={'transcript_y': 'transcript'}, inplace=True)"
   ]
  },
  {
   "cell_type": "code",
   "execution_count": 45,
   "metadata": {},
   "outputs": [],
   "source": [
    "test_data_unseen.to_csv(\"/srv/storage/talc2@talc-data2.nancy/multispeech/calcul/users/sogun/AfriSpeech-TTS/data/afritts-test-unseen.csv\", index=False)\n",
    "\n",
    "train.to_csv(\"/srv/storage/talc2@talc-data2.nancy/multispeech/calcul/users/sogun/AfriSpeech-TTS/data/afritts-train.csv\", index=False)\n",
    "val.to_csv(\"/srv/storage/talc2@talc-data2.nancy/multispeech/calcul/users/sogun/AfriSpeech-TTS/data/afritts-dev.csv\", index=False)\n",
    "\n",
    "test_data_seen.to_csv(\"/srv/storage/talc2@talc-data2.nancy/multispeech/calcul/users/sogun/AfriSpeech-TTS/data/afritts-test-seen.csv\", index=False)"
   ]
  },
  {
   "cell_type": "code",
   "execution_count": null,
   "metadata": {},
   "outputs": [],
   "source": [
    "# data.to_csv(\"/srv/storage/talc2@talc-data2.nancy/multispeech/calcul/users/sogun/AfriSpeech-TTS/data/temp/intron-tts-all-public-0000\", index=False)\n"
   ]
  },
  {
   "cell_type": "code",
   "execution_count": 44,
   "metadata": {},
   "outputs": [],
   "source": [
    "with open(\"/srv/storage/talc2@talc-data2.nancy/multispeech/calcul/users/sogun/AfriSpeech-TTS/src/vits/filelists/afritts_train.txt\", \"w+\") as f4:\n",
    "    for i, item in train.iterrows():\n",
    "        print(f\"DUMMY4/{item.audio_paths[1:]}|{item.user_ids_num}|{item.transcript}\", file=f4)\n",
    "        "
   ]
  },
  {
   "cell_type": "code",
   "execution_count": 45,
   "metadata": {},
   "outputs": [],
   "source": [
    "with open(\"/srv/storage/talc2@talc-data2.nancy/multispeech/calcul/users/sogun/AfriSpeech-TTS/src/vits/filelists/afritts_dev.txt\", \"w+\") as f4:\n",
    "    for i, item in val.iterrows():\n",
    "        print(f\"DUMMY4/{item.audio_paths[1:]}|{item.user_ids_num}|{item.transcript}\", file=f4)"
   ]
  },
  {
   "cell_type": "code",
   "execution_count": 46,
   "metadata": {},
   "outputs": [],
   "source": [
    "with open(\"/srv/storage/talc2@talc-data2.nancy/multispeech/calcul/users/sogun/AfriSpeech-TTS/src/vits/filelists/afritts_test_seen.txt\", \"w+\") as f4:\n",
    "    for i, item in test_data_seen.iterrows():\n",
    "        print(f\"DUMMY4/{item.audio_paths[1:]}|{item.user_ids_num}|{item.transcript}\", file=f4)"
   ]
  },
  {
   "cell_type": "code",
   "execution_count": 47,
   "metadata": {},
   "outputs": [
    {
     "data": {
      "text/plain": [
       "746"
      ]
     },
     "execution_count": 47,
     "metadata": {},
     "output_type": "execute_result"
    }
   ],
   "source": [
    "train.user_ids_num.values.max()"
   ]
  },
  {
   "cell_type": "code",
   "execution_count": 48,
   "metadata": {},
   "outputs": [
    {
     "name": "stderr",
     "output_type": "stream",
     "text": [
      "[NeMo W 2024-02-21 01:46:29 nemo_logging:349] /tmp/ipykernel_22456/3833906502.py:1: SettingWithCopyWarning: \n",
      "    A value is trying to be set on a copy of a slice from a DataFrame.\n",
      "    Try using .loc[row_indexer,col_indexer] = value instead\n",
      "    \n",
      "    See the caveats in the documentation: https://pandas.pydata.org/pandas-docs/stable/user_guide/indexing.html#returning-a-view-versus-a-copy\n",
      "      train[\"user_ids_num\"] = train[\"user_ids_num\"].apply(lambda x: x+109)\n",
      "    \n"
     ]
    }
   ],
   "source": [
    "train[\"user_ids_num\"] = train[\"user_ids_num\"].apply(lambda x: x+109)\n",
    "\n",
    "with open(\"/srv/storage/talc2@talc-data2.nancy/multispeech/calcul/users/sogun/AfriSpeech-TTS/src/vits/filelists/afritts_vctk_train.txt\", \"w+\") as f4:\n",
    "    for i, item in train.iterrows():\n",
    "        print(f\"DUMMY4/{item.audio_paths[1:]}|{item.user_ids_num}|{item.transcript}\", file=f4)"
   ]
  },
  {
   "cell_type": "code",
   "execution_count": 49,
   "metadata": {},
   "outputs": [
    {
     "name": "stderr",
     "output_type": "stream",
     "text": [
      "[NeMo W 2024-02-21 01:46:35 nemo_logging:349] /tmp/ipykernel_22456/2927864343.py:1: SettingWithCopyWarning: \n",
      "    A value is trying to be set on a copy of a slice from a DataFrame.\n",
      "    Try using .loc[row_indexer,col_indexer] = value instead\n",
      "    \n",
      "    See the caveats in the documentation: https://pandas.pydata.org/pandas-docs/stable/user_guide/indexing.html#returning-a-view-versus-a-copy\n",
      "      val[\"user_ids_num\"] = val[\"user_ids_num\"].apply(lambda x: x+109)\n",
      "    \n"
     ]
    }
   ],
   "source": [
    "val[\"user_ids_num\"] = val[\"user_ids_num\"].apply(lambda x: x+109)\n",
    "\n",
    "with open(\"/srv/storage/talc2@talc-data2.nancy/multispeech/calcul/users/sogun/AfriSpeech-TTS/src/vits/filelists/afritts_vctk_dev.txt\", \"w+\") as f4:\n",
    "    for i, item in val.iterrows():\n",
    "        print(f\"DUMMY4/{item.audio_paths[1:]}|{item.user_ids_num}|{item.transcript}\", file=f4)"
   ]
  },
  {
   "cell_type": "code",
   "execution_count": 50,
   "metadata": {},
   "outputs": [],
   "source": [
    "test_data_seen[\"user_ids_num\"] = test_data_seen[\"user_ids_num\"].apply(lambda x: x+109)\n",
    "\n",
    "with open(\"/srv/storage/talc2@talc-data2.nancy/multispeech/calcul/users/sogun/AfriSpeech-TTS/src/vits/filelists/afritts_vctk_test_seen.txt\", \"w+\") as f4:\n",
    "    for i, item in test_data_seen.iterrows():\n",
    "        print(f\"DUMMY4/{item.audio_paths[1:]}|{item.user_ids_num}|{item.transcript}\", file=f4)\n",
    "        "
   ]
  },
  {
   "cell_type": "code",
   "execution_count": 51,
   "metadata": {},
   "outputs": [
    {
     "data": {
      "text/plain": [
       "855"
      ]
     },
     "execution_count": 51,
     "metadata": {},
     "output_type": "execute_result"
    }
   ],
   "source": [
    "train.user_ids_num.values.max()"
   ]
  },
  {
   "cell_type": "code",
   "execution_count": null,
   "metadata": {},
   "outputs": [],
   "source": [
    "# select 1 sentence per accent per region for objective evaluation\n",
    "\n"
   ]
  },
  {
   "cell_type": "code",
   "execution_count": null,
   "metadata": {},
   "outputs": [],
   "source": [
    "# Test set: 10 speakers seen in training"
   ]
  },
  {
   "cell_type": "code",
   "execution_count": null,
   "metadata": {},
   "outputs": [],
   "source": [
    "speakers.tail(20)"
   ]
  },
  {
   "cell_type": "code",
   "execution_count": null,
   "metadata": {},
   "outputs": [],
   "source": [
    "import librosa\n",
    "import IPython.display as ipd"
   ]
  },
  {
   "cell_type": "code",
   "execution_count": null,
   "metadata": {},
   "outputs": [],
   "source": [
    "data[0:1].audio_paths.values.item()"
   ]
  },
  {
   "cell_type": "code",
   "execution_count": null,
   "metadata": {},
   "outputs": [],
   "source": [
    "data[data.audio_paths == '/AfriSpeech-TTS/train/9b1a7865-4b74-486e-8223-9117e2ea592a/9b1f7d24a96824967ed3a1ae5d3c44cd_OWVB6wln.wav']"
   ]
  },
  {
   "cell_type": "code",
   "execution_count": null,
   "metadata": {},
   "outputs": [],
   "source": [
    "'/srv/storage/talc2@talc-data2.nancy/multispeech/calcul/users/sogun/AfriSpeech-TTS/../AfriSpeech-TTS/train/9b1a7865-4b74-486e-8223-9117e2ea592a/9b1f7d24a96824967ed3a1ae5d3c44cd_OWVB6wln.wav'\n"
   ]
  },
  {
   "cell_type": "code",
   "execution_count": null,
   "metadata": {},
   "outputs": [],
   "source": [
    "filepath = '/srv/storage/talc2@talc-data2.nancy/multispeech/calcul/users/sogun/AfriSpeech-TTS/afrispeech_16k/1e759a52b9a7588771a8d281dd480fce.wav'\n",
    "\n",
    "audio, sr = librosa.load(filepath, sr=16000)\n",
    "\n",
    "ipd.Audio(audio, rate=sr)"
   ]
  },
  {
   "cell_type": "code",
   "execution_count": null,
   "metadata": {},
   "outputs": [],
   "source": [
    "filepath = '/srv/storage/talc2@talc-data2.nancy/multispeech/calcul/users/sogun/AfriSpeech-TTS/train/9b1a7865-4b74-486e-8223-9117e2ea592a/9b1f7d24a96824967ed3a1ae5d3c44cd_OWVB6wln.wav'\n",
    "\n",
    "audio, sr = librosa.load(filepath, sr=16000)\n",
    "\n",
    "ipd.Audio(audio, rate=sr)"
   ]
  },
  {
   "cell_type": "code",
   "execution_count": null,
   "metadata": {},
   "outputs": [],
   "source": [
    "audio.shape"
   ]
  },
  {
   "cell_type": "code",
   "execution_count": null,
   "metadata": {},
   "outputs": [],
   "source": [
    "sr"
   ]
  },
  {
   "cell_type": "code",
   "execution_count": null,
   "metadata": {},
   "outputs": [],
   "source": [
    "from matplotlib import pyplot as plt\n",
    "from matplotlib.pyplot import imshow\n",
    "import librosa.display\n",
    "\n",
    "# parameters\n",
    "n_fft=1024\n",
    "hop_length=256\n",
    "window=\"hann\"\n",
    "# sr=16000\n",
    "n_mels=80\n",
    "fmin=0\n",
    "fmax=8000\n",
    "win_length=n_fft\n",
    "power=1.0\n",
    "n_iter=64\n",
    "\n",
    "def plot_spec(spec, aspect=2):\n",
    "    if spec is not None:\n",
    "        fig = plt.figure()\n",
    "        ax = fig.add_subplot(111)\n",
    "        im = plt.imshow(spec, origin=\"lower\",)\n",
    "        cbar = plt.colorbar(im, ax=ax)\n",
    "        cbar.set_label(\"Colorbar\")\n",
    "        ax.set_aspect(aspect)\n",
    "        plt.show()"
   ]
  },
  {
   "cell_type": "code",
   "execution_count": null,
   "metadata": {},
   "outputs": [],
   "source": [
    "audio.shape"
   ]
  },
  {
   "cell_type": "code",
   "execution_count": null,
   "metadata": {},
   "outputs": [],
   "source": [
    "filepath = '/srv/storage/talc2@talc-data2.nancy/multispeech/calcul/users/sogun/AfriSpeech-TTS/b53792d173f1ac743819e81f240a3a07_ooKIycx6.wav'\n",
    "\n",
    "audio, sr = librosa.load(filepath, sr=16000)\n",
    "\n",
    "ref_mel_spec = librosa.feature.melspectrogram(y=audio, sr=sr, S=None, n_fft=n_fft, \n",
    "                                          hop_length=hop_length, \n",
    "                                          win_length=win_length, \n",
    "                                          window=window, power=power,\n",
    "                                          n_mels=n_mels, fmin=fmin, fmax=fmax,)\n",
    "# vocoder expects a log mel-spectrogram\n",
    "eps = 1e-9\n",
    "ref_log_mel = np.log(ref_mel_spec + eps)"
   ]
  },
  {
   "cell_type": "code",
   "execution_count": null,
   "metadata": {},
   "outputs": [],
   "source": [
    "ipd.Audio(audio, rate=sr)"
   ]
  },
  {
   "cell_type": "code",
   "execution_count": null,
   "metadata": {},
   "outputs": [],
   "source": [
    "plot_spec(ref_log_mel,)"
   ]
  },
  {
   "cell_type": "code",
   "execution_count": null,
   "metadata": {},
   "outputs": [],
   "source": [
    "# denoised\n",
    "filepath = '/srv/storage/talc2@talc-data2.nancy/multispeech/calcul/users/sogun/AfriSpeech-TTS/b53792d173f1ac743819e81f240a3a07_ooKIycx6_dn.wav'\n",
    "\n",
    "audio_dn, sr = librosa.load(filepath)\n",
    "\n",
    "dn_mel_spec = librosa.feature.melspectrogram(y=audio_dn, sr=sr, S=None, n_fft=n_fft, \n",
    "                                          hop_length=hop_length, \n",
    "                                          win_length=win_length, \n",
    "                                          window=window, power=power,\n",
    "                                          n_mels=n_mels, fmin=fmin, fmax=fmax,)\n",
    "# vocoder expects a log mel-spectrogram\n",
    "eps = 1e-9\n",
    "dn_log_mel = np.log(dn_mel_spec + eps)"
   ]
  },
  {
   "cell_type": "code",
   "execution_count": null,
   "metadata": {},
   "outputs": [],
   "source": [
    "ipd.Audio(audio, rate=sr)"
   ]
  },
  {
   "cell_type": "code",
   "execution_count": null,
   "metadata": {},
   "outputs": [],
   "source": [
    "plot_spec(dn_log_mel,2.5)"
   ]
  },
  {
   "cell_type": "code",
   "execution_count": null,
   "metadata": {},
   "outputs": [],
   "source": []
  }
 ],
 "metadata": {
  "kernelspec": {
   "display_name": "Python 3 (ipykernel)",
   "language": "python",
   "name": "python3"
  },
  "language_info": {
   "codemirror_mode": {
    "name": "ipython",
    "version": 3
   },
   "file_extension": ".py",
   "mimetype": "text/x-python",
   "name": "python",
   "nbconvert_exporter": "python",
   "pygments_lexer": "ipython3",
   "version": "3.8.12"
  },
  "vscode": {
   "interpreter": {
    "hash": "31f2aee4e71d21fbe5cf8b01ff0e069b9275f58929596ceb00d14d90e3e16cd6"
   }
  }
 },
 "nbformat": 4,
 "nbformat_minor": 4
}

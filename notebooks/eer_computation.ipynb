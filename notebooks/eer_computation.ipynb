{
 "cells": [
  {
   "cell_type": "code",
   "execution_count": 1,
   "metadata": {},
   "outputs": [],
   "source": [
    "%load_ext autoreload\n",
    "%autoreload 2"
   ]
  },
  {
   "cell_type": "code",
   "execution_count": 2,
   "metadata": {},
   "outputs": [],
   "source": [
    "import os\n",
    "\n",
    "import numpy as np\n",
    "import pandas as pd\n",
    "\n",
    "import librosa\n",
    "from pathlib import Path"
   ]
  },
  {
   "cell_type": "code",
   "execution_count": 3,
   "metadata": {},
   "outputs": [],
   "source": [
    "dir_path = os.getcwd()"
   ]
  },
  {
   "cell_type": "code",
   "execution_count": 4,
   "metadata": {},
   "outputs": [],
   "source": [
    "train = pd.read_csv(os.path.join(dir_path, \"..\", \"data/afritts-train-clean.csv\"))\n"
   ]
  },
  {
   "cell_type": "code",
   "execution_count": 5,
   "metadata": {},
   "outputs": [
    {
     "data": {
      "text/plain": [
       "Index(['idx', 'user_ids', 'accent', 'age_group', 'gender', 'country',\n",
       "       'transcript', 'nchars', 'audio_ids', 'audio_paths', 'duration',\n",
       "       'neg_percent', 'origin', 'domain', 'split', 'expand_puncts', 'is_alnum',\n",
       "       'user_ids_num'],\n",
       "      dtype='object')"
      ]
     },
     "execution_count": 5,
     "metadata": {},
     "output_type": "execute_result"
    }
   ],
   "source": [
    "train.columns"
   ]
  },
  {
   "cell_type": "code",
   "execution_count": 6,
   "metadata": {},
   "outputs": [],
   "source": [
    "import json\n",
    "import pickle as pkl\n",
    "def load_speaker_emb(path):\n",
    "    print(f\"Loading external speaker embeddings from {path}\")\n",
    "    if path.split(\".\")[-1] == \"pkl\":\n",
    "        with open(path, \"rb\") as read_file:\n",
    "            speaker_embeddings_dict = pkl.load(read_file)\n",
    "    elif path.split(\".\")[-1] == \"json\":\n",
    "        with open(path, \"r\") as read_file:\n",
    "            speaker_embeddings_dict = json.load(read_file)\n",
    "    else:\n",
    "        raise TypeError(\"Speaker embedding type unrecognized\")\n",
    "    return speaker_embeddings_dict"
   ]
  },
  {
   "cell_type": "code",
   "execution_count": 7,
   "metadata": {},
   "outputs": [
    {
     "name": "stdout",
     "output_type": "stream",
     "text": [
      "Loading external speaker embeddings from /srv/storage/talc2@talc-data2.nancy/multispeech/calcul/users/sogun/AfriSpeech-TTS/src/vits/AfriSpeech-Models/embeddings/afritts_emb_intsp.pkl\n"
     ]
    }
   ],
   "source": [
    "speaker_emb_dict = load_speaker_emb(\"AfriSpeech-TTS/src/vits/AfriSpeech-Models/embeddings/afritts_emb_intsp.pkl\")"
   ]
  },
  {
   "cell_type": "code",
   "execution_count": 8,
   "metadata": {},
   "outputs": [
    {
     "name": "stdout",
     "output_type": "stream",
     "text": [
      "Loaded the voice encoder model on cuda in 0.28 seconds.\n"
     ]
    }
   ],
   "source": [
    "from resemblyzer import VoiceEncoder, preprocess_wav\n",
    "from pathlib import Path\n",
    "import numpy as np\n",
    "\n",
    "encoder = VoiceEncoder()\n",
    "\n",
    "def compute_embedding(path):\n",
    "    gen_wav = preprocess_wav(Path(path))\n",
    "\n",
    "    gen_emb = encoder.embed_utterance(gen_wav)\n",
    "\n",
    "    return gen_emb"
   ]
  },
  {
   "cell_type": "code",
   "execution_count": 9,
   "metadata": {},
   "outputs": [],
   "source": [
    "import numpy as np\n",
    "from sklearn.metrics import roc_curve\n",
    "\n",
    "\"\"\"\n",
    "Python compute equal error rate (eer)\n",
    "ONLY tested on binary classification\n",
    "\n",
    ":param label: ground-truth label, should be a 1-d list or np.array, each element represents the ground-truth label of one sample\n",
    ":param pred: model prediction, should be a 1-d list or np.array, each element represents the model prediction of one sample\n",
    ":param positive_label: the class that is viewed as positive class when computing EER\n",
    ":return: equal error rate (EER)\n",
    "\"\"\"\n",
    "# def compute_eer(label, pred, positive_label=1):\n",
    "#     # all fpr, tpr, fnr, fnr, threshold are lists (in the format of np.array)\n",
    "#     fpr, tpr, threshold = sklearn.metrics.roc_curve(label, pred, positive_label)\n",
    "#     fnr = 1 - tpr\n",
    "\n",
    "#     # the threshold of fnr == fpr\n",
    "#     eer_threshold = threshold[np.nanargmin(np.absolute((fnr - fpr)))]\n",
    "\n",
    "#     # theoretically eer from fpr and eer from fnr should be identical but they can be slightly differ in reality\n",
    "#     eer_1 = fpr[np.nanargmin(np.absolute((fnr - fpr)))]\n",
    "#     eer_2 = fnr[np.nanargmin(np.absolute((fnr - fpr)))]\n",
    "\n",
    "#     # return the mean of eer from fpr and from fnr\n",
    "#     eer = (eer_1 + eer_2) / 2\n",
    "#     return eer\n",
    "\n",
    "\n",
    "def compute_eer(distances, labels):\n",
    "    # Calculate evaluation metrics\n",
    "    fprs, tprs, _ = roc_curve(labels, distances)\n",
    "    eer = fprs[np.nanargmin(np.absolute((1 - tprs) - fprs))]\n",
    "    return eer"
   ]
  },
  {
   "cell_type": "code",
   "execution_count": 11,
   "metadata": {},
   "outputs": [],
   "source": [
    "def compute_scores(train, speaker_df):\n",
    "    emb_scores = []\n",
    "    true_labels = []\n",
    "    \n",
    "    for i, item in speaker_df.iterrows():\n",
    "        speaker_ids = item.spk_ids\n",
    "        speaker_ids = speaker_ids.strip().split(\"-\")\n",
    "        speaker_ids = [int(x) for x in speaker_ids]\n",
    "        \n",
    "        # compute embedding\n",
    "        \n",
    "        gen_emb = compute_embedding(os.path.join(\"AfriSpeech-TTS/src/vits\", item.audio_path))\n",
    "        \n",
    "        for speaker_id in speaker_ids:\n",
    "            train_spk_df = train[train.user_ids_num == speaker_id]\n",
    "            #pick the longest sample\n",
    "            train_spk_df = train_spk_df.sort_values(by=\"duration\", axis=0, ascending=False).reset_index(drop=True)\n",
    "            ref_spk = train_spk_df[0:1].audio_paths.item()\n",
    "            \n",
    "            ref_spk_emb = speaker_emb_dict[Path(ref_spk).stem]\n",
    "\n",
    "            score = gen_emb @ ref_spk_emb\n",
    "            emb_scores.append(score)\n",
    "            true_labels.append(0.)\n",
    "\n",
    "        for i, item in train_spk_df.iterrows():\n",
    "            if i == 0: continue\n",
    "            \n",
    "            spk_score = ref_spk_emb @ speaker_emb_dict[Path(item.audio_paths).stem]\n",
    "            emb_scores.append(spk_score)\n",
    "            true_labels.append(1.)\n",
    "            if i > 4: break\n",
    "            \n",
    "    return np.array(emb_scores), np.array(true_labels)"
   ]
  },
  {
   "cell_type": "code",
   "execution_count": 23,
   "metadata": {},
   "outputs": [],
   "source": [
    "speaker_data = pd.read_csv(\"AfriSpeech-TTS/src/vits/afritts_accent_interpolate/vits_afrotts_ft.txt\",\n",
    "                          sep=\"|\")\n",
    "\n",
    "emb_scores, true_labels = compute_scores(train, speaker_data)"
   ]
  },
  {
   "cell_type": "code",
   "execution_count": 24,
   "metadata": {},
   "outputs": [
    {
     "data": {
      "text/plain": [
       "0.1619718309859155"
      ]
     },
     "execution_count": 24,
     "metadata": {},
     "output_type": "execute_result"
    }
   ],
   "source": [
    "compute_eer(distances=emb_scores, labels=true_labels)\n",
    "\n",
    "# compute_eer(label=true_labels, pred=emb_scores, positive_label=1)"
   ]
  },
  {
   "cell_type": "code",
   "execution_count": 94,
   "metadata": {},
   "outputs": [
    {
     "data": {
      "text/plain": [
       "array([0.8071718 , 0.80671734, 0.7872343 , 0.7897619 , 0.8950098 ,\n",
       "       0.9652452 , 0.84654284, 0.9294492 , 0.847406  , 0.8987149 ,\n",
       "       0.8091531 , 0.8771695 , 0.8742709 , 0.79306334, 0.82663244,\n",
       "       0.883126  , 0.94675064, 0.8501967 , 0.91839015, 0.7022468 ,\n",
       "       0.8744534 , 0.7522301 , 0.6231321 , 0.79781926, 0.7736032 ,\n",
       "       0.73976034, 0.8032656 , 0.8236902 , 0.8798985 , 0.8746427 ,\n",
       "       0.8073773 , 0.8717165 , 0.8382913 , 0.79134226, 0.7888961 ,\n",
       "       0.860077  , 0.9477446 , 0.91521406, 0.8604313 , 0.94008124,\n",
       "       0.9242471 , 0.94013894, 0.92661846, 0.9538962 , 0.9417337 ,\n",
       "       0.80511904, 0.89117026, 0.8375808 , 0.6878051 , 0.79530144,\n",
       "       0.94426274, 0.90570045, 0.9251994 , 0.9421374 , 0.9272267 ,\n",
       "       0.90955234, 0.85227203, 0.9392668 , 0.8886725 , 0.9126222 ,\n",
       "       0.9243428 , 0.8197731 , 0.83038634, 0.8212093 , 0.9446909 ,\n",
       "       0.9030249 , 0.9502391 , 0.9244637 , 0.9672859 , 0.943462  ,\n",
       "       0.95267177, 0.9720604 , 0.9586836 , 0.9715664 , 0.96121013,\n",
       "       0.65087104, 0.6630784 , 0.86190975, 0.95186627, 0.87544507,\n",
       "       0.9276557 , 0.63699335, 0.83022726, 0.6976117 , 0.80770886,\n",
       "       0.82374763, 0.8238425 , 0.8019806 , 0.8019806 , 0.8019806 ,\n",
       "       0.7827147 , 0.77336407, 0.82246715, 0.77958846, 0.86257005,\n",
       "       0.8392881 , 0.73831356, 0.79126716, 0.9231458 , 0.9614989 ,\n",
       "       0.9019022 , 0.9206288 , 0.9111815 , 0.9484311 , 0.8707921 ,\n",
       "       0.9516746 , 0.91808504, 0.85793805, 0.8872531 , 0.5971729 ,\n",
       "       0.76953006, 0.76098716, 0.9371772 , 0.8915912 , 0.8768388 ,\n",
       "       0.9052191 , 0.84578454, 0.8931768 , 0.8996384 , 0.8809634 ,\n",
       "       0.89459467, 0.90516144, 0.8869828 , 0.7862414 , 0.70808566,\n",
       "       0.8401516 , 0.93261456, 0.92194587, 0.78386766, 0.9534459 ,\n",
       "       0.94709605, 0.94999456, 0.92994845, 0.9334653 , 0.8998692 ,\n",
       "       0.9269033 , 0.94537514, 0.8267621 , 0.7965896 , 0.7832453 ,\n",
       "       0.8816414 , 0.78882873, 0.8492113 , 0.8441483 , 0.971071  ,\n",
       "       0.79595953, 0.8847593 , 0.86343324, 0.77757883, 0.8769431 ,\n",
       "       0.8346747 , 0.82776016, 0.79772484, 0.8462813 , 0.9654982 ,\n",
       "       0.9120008 , 0.8859441 , 0.9200852 , 0.899207  , 0.91359454,\n",
       "       0.843026  , 0.9582434 , 0.7853935 , 0.93970287, 0.94107294,\n",
       "       0.77481836, 0.73897856, 0.8695905 , 0.917011  , 0.778652  ,\n",
       "       0.8450272 , 0.8074777 , 0.90630263, 0.84895015, 0.85658884,\n",
       "       0.8342861 , 0.86542004, 0.87634635, 0.9073355 , 0.8879731 ,\n",
       "       0.8598878 , 0.8973782 , 0.9119505 , 0.8422911 , 0.6238658 ,\n",
       "       0.6617923 , 0.9624923 , 0.8933232 , 0.9352874 , 0.8894186 ,\n",
       "       0.89888793, 0.9298819 , 0.8991671 , 0.9239942 , 0.90129626,\n",
       "       0.8829115 , 0.89843464, 0.7389872 , 0.7520189 , 0.74767566,\n",
       "       0.89232874, 0.8049772 , 0.861075  , 0.87409675, 0.9171472 ,\n",
       "       0.9067122 , 0.8512239 , 0.9203074 , 0.7594108 , 0.89602816,\n",
       "       0.8324189 , 0.78147537, 0.8056332 , 0.8395337 , 0.8116604 ,\n",
       "       0.9133811 , 0.846783  , 0.9419223 , 0.8768328 , 0.83779985,\n",
       "       0.857067  , 0.8865006 , 0.96559155, 0.89586097, 0.9743351 ,\n",
       "       0.9457436 , 0.9521166 , 0.9613729 , 0.9621573 , 0.9148716 ,\n",
       "       0.9681301 , 0.9222425 , 0.89220405, 0.7444274 , 0.77069926,\n",
       "       0.79426605, 0.9306541 , 0.9133593 , 0.961443  , 0.8706716 ,\n",
       "       0.8528583 , 0.664642  , 0.82856166, 0.67849493, 0.9717976 ,\n",
       "       0.9696337 , 0.73771524, 0.75805116, 0.9454118 , 0.78851634,\n",
       "       0.7884332 , 0.9150469 , 0.94273114, 0.9519166 , 0.93694305,\n",
       "       0.92399526, 0.9664879 , 0.9027959 , 0.94782853, 0.9116746 ,\n",
       "       0.88287723, 0.94404423, 0.7544707 , 0.8284193 , 0.77370286,\n",
       "       0.83763254, 0.87506306, 0.787323  , 0.6541405 , 0.75501144,\n",
       "       0.83329356, 0.79901016, 0.7585037 , 0.8357526 , 0.76570106,\n",
       "       0.7824247 , 0.71433204, 0.9538921 , 0.6147146 , 0.64292943,\n",
       "       0.7547736 , 0.72851807, 0.9133869 , 0.8690283 , 0.9279522 ,\n",
       "       0.7078116 , 0.77254033, 0.71419984, 0.8754344 , 0.81178546,\n",
       "       0.82774377, 0.8707948 , 0.6952793 , 0.8733555 , 0.930452  ,\n",
       "       0.89268744, 0.8506391 , 0.91307116, 0.87737423, 0.8706331 ,\n",
       "       0.89506745, 0.8915069 , 0.9014218 , 0.9214878 , 0.9050084 ,\n",
       "       0.7318754 , 0.8095014 , 0.8391051 , 0.9361762 , 0.92848134,\n",
       "       0.9249078 , 0.9367637 , 0.88721704, 0.8405699 , 0.87345445,\n",
       "       0.9508172 , 0.9463333 , 0.89828444, 0.9309976 , 0.90933704,\n",
       "       0.9257647 , 0.925365  , 0.9161635 , 0.887539  , 0.71583974,\n",
       "       0.7212711 , 0.952746  , 0.75482345, 0.751956  , 0.78812385,\n",
       "       0.81360424, 0.8025082 , 0.86622715, 0.7204809 , 0.9017298 ,\n",
       "       0.93959117, 0.70622784, 0.7505822 , 0.831097  , 0.9597023 ,\n",
       "       0.9533718 , 0.9519191 , 0.95558804, 0.9634032 , 0.95089287,\n",
       "       0.9429364 , 0.9409498 , 0.8889864 , 0.94892716, 0.9315026 ,\n",
       "       0.7560835 , 0.78663576, 0.7985326 , 0.76379037, 0.71340406,\n",
       "       0.913954  , 0.75760096, 0.93289065, 0.91439974, 0.92328733,\n",
       "       0.8632488 , 0.8979464 , 0.6165773 , 0.85016155, 0.68350494,\n",
       "       0.7788681 , 0.78190243, 0.896396  , 0.9249163 , 0.7985046 ,\n",
       "       0.8033303 , 0.8217361 , 0.8190716 , 0.83512163, 0.82140017,\n",
       "       0.9323484 , 0.90518546, 0.80778414, 0.7943087 , 0.7614365 ,\n",
       "       0.77851   , 0.8604708 , 0.90471834, 0.89383316, 0.86019635,\n",
       "       0.8870053 , 0.8919679 , 0.9044509 , 0.88890266, 0.894926  ,\n",
       "       0.8242651 , 0.92775077, 0.7936603 , 0.8277723 , 0.8307725 ,\n",
       "       0.71084124, 0.943105  , 0.68335754, 0.79034185, 0.7409505 ,\n",
       "       0.73285365, 0.75526893, 0.9099987 , 0.8939028 , 0.94130343,\n",
       "       0.87684804, 0.94233274, 0.9027516 , 0.90629786, 0.88961476,\n",
       "       0.86581886, 0.9359648 , 0.6726497 , 0.77017426, 0.8194549 ,\n",
       "       0.9257885 , 0.94051075, 0.9035174 , 0.9302164 , 0.88508546,\n",
       "       0.8777052 , 0.8910947 , 0.90086347, 0.9319407 , 0.81464016,\n",
       "       0.86046654, 0.78992   , 0.87639844, 0.8699837 , 0.9081576 ,\n",
       "       0.9197072 , 0.94160336, 0.76869863, 0.83701587, 0.94336903,\n",
       "       0.8889711 , 0.76228505, 0.7173141 , 0.7473742 , 0.9234106 ,\n",
       "       0.90866697, 0.9190436 , 0.90182436, 0.86693215, 0.76055676,\n",
       "       0.59856963, 0.9278729 , 0.8842611 , 0.8820894 , 0.9093567 ,\n",
       "       0.8726042 , 0.58992743, 0.7505044 , 0.949007  , 0.9229641 ,\n",
       "       0.9387394 , 0.9456804 , 0.955371  , 0.9245261 , 0.75171477,\n",
       "       0.8030096 , 0.92002726, 0.9363408 , 0.88967395, 0.9064001 ,\n",
       "       0.94247246, 0.882833  , 0.88481545, 0.8054561 , 0.75666845,\n",
       "       0.7785162 , 0.9036357 , 0.67288315, 0.8092829 , 0.93934137,\n",
       "       0.8687997 , 0.9415578 , 0.964581  , 0.8444497 , 0.95351356,\n",
       "       0.74436975, 0.6849186 , 0.8092377 , 0.8891859 , 0.87975323,\n",
       "       0.8790026 , 0.8506807 , 0.87157166, 0.8562006 , 0.86684954,\n",
       "       0.8686707 , 0.86992586, 0.9004786 , 0.8074254 , 0.7433047 ,\n",
       "       0.75539005, 0.7427044 , 0.9087796 , 0.90304995, 0.9208058 ,\n",
       "       0.89492553, 0.94991493, 0.87319094, 0.8911853 , 0.88590115,\n",
       "       0.9203546 , 0.9554747 , 0.88953   , 0.8445966 , 0.76901937,\n",
       "       0.804392  , 0.8115852 , 0.8544471 , 0.7573451 , 0.8641595 ,\n",
       "       0.88984936, 0.79244745, 0.873018  , 0.79510367, 0.9079232 ,\n",
       "       0.9031318 , 0.82354546, 0.7824656 , 0.7458906 , 0.79780763,\n",
       "       0.85449207, 0.782045  , 0.7925284 , 0.76983935, 0.81907845,\n",
       "       0.85880864, 0.7331259 , 0.9117104 , 0.9260697 , 0.8632338 ,\n",
       "       0.80236477, 0.8128589 , 0.7134056 , 0.9046302 , 0.83620274,\n",
       "       0.87209487, 0.89045787, 0.7829387 , 0.78274673, 0.7721667 ,\n",
       "       0.7812152 , 0.7803047 , 0.7534548 , 0.8371371 , 0.80216193,\n",
       "       0.85020185, 0.73568463, 0.88398653, 0.92716503], dtype=float32)"
      ]
     },
     "execution_count": 94,
     "metadata": {},
     "output_type": "execute_result"
    }
   ],
   "source": [
    "emb_scores"
   ]
  },
  {
   "cell_type": "code",
   "execution_count": null,
   "metadata": {},
   "outputs": [],
   "source": []
  }
 ],
 "metadata": {
  "kernelspec": {
   "display_name": "Python 3 (ipykernel)",
   "language": "python",
   "name": "python3"
  },
  "language_info": {
   "codemirror_mode": {
    "name": "ipython",
    "version": 3
   },
   "file_extension": ".py",
   "mimetype": "text/x-python",
   "name": "python",
   "nbconvert_exporter": "python",
   "pygments_lexer": "ipython3",
   "version": "3.8.9"
  },
  "vscode": {
   "interpreter": {
    "hash": "31f2aee4e71d21fbe5cf8b01ff0e069b9275f58929596ceb00d14d90e3e16cd6"
   }
  }
 },
 "nbformat": 4,
 "nbformat_minor": 4
}
